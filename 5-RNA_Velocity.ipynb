{
 "cells": [
  {
   "cell_type": "markdown",
   "metadata": {},
   "source": [
    "# RNA velocity\n",
    "\n",
    "Using scvelo."
   ]
  },
  {
   "cell_type": "markdown",
   "metadata": {},
   "source": [
    "# 0. Loading the libraries"
   ]
  },
  {
   "cell_type": "code",
   "execution_count": 1,
   "metadata": {
    "scrolled": false
   },
   "outputs": [],
   "source": [
    "import scanpy as sc\n",
    "import matplotlib.pyplot as plt\n",
    "import scvelo as scv\n",
    "\n",
    "import multiprocessing\n",
    "multiprocessing.cpu_count()\n",
    "\n",
    "import cellrank as cr\n",
    "import warnings\n",
    "\n",
    "warnings.simplefilter(\"ignore\", category=UserWarning)\n",
    "warnings.simplefilter(\"ignore\", category=FutureWarning)\n",
    "warnings.simplefilter(\"ignore\", category=DeprecationWarning)\n",
    "\n",
    "import pickle\n",
    "\n",
    "def save_object(obj, filename):\n",
    "    with open(filename, 'wb') as outp:  # Overwrites any existing file.\n",
    "        pickle.dump(obj, outp, pickle.HIGHEST_PROTOCOL)"
   ]
  },
  {
   "cell_type": "code",
   "execution_count": null,
   "metadata": {},
   "outputs": [
    {
     "name": "stdout",
     "output_type": "stream",
     "text": [
      "-----\n",
      "anndata     0.8.0\n",
      "scanpy      1.9.1\n",
      "-----\n",
      "PIL                                         9.1.0\n",
      "aa8f2297d25b4dc6fd3d98411eb3ba53823c4f42    NA\n",
      "absl                                        NA\n",
      "adjustText                                  NA\n",
      "anndata2ri                                  1.0.6\n",
      "appdirs                                     1.4.4\n",
      "asttokens                                   NA\n",
      "astunparse                                  1.6.3\n",
      "attr                                        21.4.0\n",
      "backcall                                    0.2.0\n",
      "backports                                   NA\n",
      "batchglm                                    v0.7.4\n",
      "beta_ufunc                                  NA\n",
      "binom_ufunc                                 NA\n",
      "bioinfokit                                  2.0.8\n",
      "bioservices                                 1.8.4\n",
      "boto3                                       1.23.1\n",
      "botocore                                    1.26.1\n",
      "brotli                                      1.0.9\n",
      "bs4                                         4.11.1\n",
      "cattr                                       NA\n",
      "certifi                                     2021.10.08\n",
      "cffi                                        1.15.0\n",
      "charset_normalizer                          2.0.12\n",
      "cloudpickle                                 2.0.0\n",
      "colorama                                    0.4.4\n",
      "colorlog                                    NA\n",
      "cycler                                      0.10.0\n",
      "cython_runtime                              NA\n",
      "cytoolz                                     0.11.2\n",
      "dask                                        2022.05.0\n",
      "dateutil                                    2.8.2\n",
      "debugpy                                     1.6.0\n",
      "decorator                                   5.1.1\n",
      "defusedxml                                  0.7.1\n",
      "diffxpy                                     v0.7.4\n",
      "dill                                        0.3.4\n",
      "dot_parser                                  NA\n",
      "dunamai                                     1.12.0\n",
      "easydev                                     0.12.0\n",
      "entrypoints                                 0.4\n",
      "executing                                   0.8.3\n",
      "flatbuffers                                 NA\n",
      "fsspec                                      0.7.4\n",
      "gast                                        0.5.3\n",
      "get_version                                 3.5.4\n",
      "google                                      NA\n",
      "gprofiler                                   1.0.0\n",
      "gseapy                                      0.10.8\n",
      "h5py                                        3.6.0\n",
      "hypergeom_ufunc                             NA\n",
      "idna                                        3.3\n",
      "igraph                                      0.9.10\n",
      "ipykernel                                   6.13.0\n",
      "ipython_genutils                            0.2.0\n",
      "ipywidgets                                  7.7.0\n",
      "itsdangerous                                1.1.0\n",
      "jedi                                        0.18.1\n",
      "jinja2                                      3.1.2\n",
      "jmespath                                    1.0.0\n",
      "joblib                                      1.1.0\n",
      "joypy                                       0.2.6\n",
      "jupyter_server                              1.17.0\n",
      "keras                                       2.8.0\n",
      "keras_preprocessing                         1.1.2\n",
      "kiwisolver                                  1.4.2\n",
      "leidenalg                                   0.8.10\n",
      "llvmlite                                    0.38.0\n",
      "louvain                                     0.7.1\n",
      "lxml                                        4.8.0\n",
      "markupsafe                                  2.0.1\n",
      "matplotlib                                  3.5.2\n",
      "matplotlib_venn                             0.11.7\n",
      "mpl_toolkits                                NA\n",
      "natsort                                     8.1.0\n",
      "nbinom_ufunc                                NA\n",
      "normalisr                                   NA\n",
      "numba                                       0.55.1\n",
      "numexpr                                     2.8.1\n",
      "numpy                                       1.21.6\n",
      "opt_einsum                                  v3.3.0\n",
      "packaging                                   21.3\n",
      "pandas                                      1.4.2\n",
      "parso                                       0.8.3\n",
      "patsy                                       0.5.2\n",
      "pexpect                                     4.8.0\n",
      "pickleshare                                 0.7.5\n",
      "pkg_resources                               NA\n",
      "prompt_toolkit                              3.0.29\n",
      "psutil                                      5.9.0\n",
      "ptyprocess                                  0.7.0\n",
      "pure_eval                                   0.2.2\n",
      "pyarrow                                     0.16.0\n",
      "pydev_ipython                               NA\n",
      "pydevconsole                                NA\n",
      "pydevd                                      2.8.0\n",
      "pydevd_file_utils                           NA\n",
      "pydevd_plugins                              NA\n",
      "pydevd_tracing                              NA\n",
      "pydot                                       1.4.2\n",
      "pygments                                    2.12.0\n",
      "pylab                                       NA\n",
      "pyparsing                                   3.0.9\n",
      "pytz                                        2022.1\n",
      "pytz_deprecation_shim                       NA\n",
      "requests                                    2.27.1\n",
      "requests_cache                              0.9.4\n",
      "rpy2                                        3.5.1\n",
      "scipy                                       1.8.0\n",
      "scrublet                                    NA\n",
      "scvelo                                      0.2.4\n",
      "seaborn                                     0.11.2\n",
      "session_info                                1.0.0\n",
      "setuptools                                  62.2.0\n",
      "six                                         1.16.0\n",
      "sklearn                                     1.1.0\n",
      "soupsieve                                   2.3.2.post1\n",
      "sparse                                      0.13.0\n",
      "stack_data                                  0.2.0\n",
      "statsmodels                                 0.13.2\n",
      "tabulate                                    0.8.9\n",
      "tblib                                       1.7.0\n",
      "tensorboard                                 2.8.0\n",
      "tensorflow                                  2.8.1\n",
      "termcolor                                   1.1.0\n",
      "texttable                                   1.6.4\n",
      "textwrap3                                   NA\n",
      "threadpoolctl                               3.1.0\n",
      "tlz                                         0.11.2\n",
      "toolz                                       0.11.2\n",
      "tornado                                     6.1\n",
      "traitlets                                   5.2.1.post0\n",
      "typing_extensions                           NA\n",
      "tzlocal                                     NA\n",
      "url_normalize                               1.4.3\n",
      "urllib3                                     1.26.9\n",
      "wcwidth                                     0.2.5\n",
      "wrapt                                       1.14.1\n",
      "xlsxwriter                                  3.0.3\n",
      "yaml                                        5.4.1\n",
      "zipp                                        NA\n",
      "zmq                                         22.3.0\n",
      "zope                                        NA\n",
      "-----\n",
      "IPython             8.3.0\n",
      "jupyter_client      7.3.1\n",
      "jupyter_core        4.10.0\n",
      "jupyterlab          3.4.2\n",
      "notebook            6.4.11\n",
      "-----\n",
      "Python 3.8.13 (default, May 16 2022, 19:25:58) [GCC 8.3.0]\n",
      "Linux-5.10.102.1-microsoft-standard-WSL2-x86_64-with-glibc2.28\n",
      "-----\n",
      "Session information updated at 2022-05-24 08:49\n"
     ]
    }
   ],
   "source": [
    "# Set up constants\n",
    "save_folder = \"figures/\"\n",
    "objects_folder = \"saved_objects/\"\n",
    "sc.settings.figdir = './'+save_folder\n",
    "\n",
    "plt.rcParams['figure.figsize']=(8,8) #rescale figures\n",
    "sc.settings.verbosity = 3"
   ]
  },
  {
   "cell_type": "markdown",
   "metadata": {},
   "source": [
    "# 1. Both"
   ]
  },
  {
   "cell_type": "code",
   "execution_count": null,
   "metadata": {},
   "outputs": [],
   "source": [
    "with open('saved_objects/adata_annotated.pkl', 'rb') as inp:\n",
    "    adata = pickle.load(inp)"
   ]
  },
  {
   "cell_type": "code",
   "execution_count": null,
   "metadata": {},
   "outputs": [],
   "source": [
    "scv.pl.proportions(adata, groupby=\"sample2\", save=\"splice_props.png\")"
   ]
  },
  {
   "cell_type": "markdown",
   "metadata": {},
   "source": [
    "# 2. DMSO"
   ]
  },
  {
   "cell_type": "code",
   "execution_count": null,
   "metadata": {},
   "outputs": [],
   "source": [
    "COND = 'DMSO'\n",
    "OTHER_COND = 'N6'"
   ]
  },
  {
   "cell_type": "code",
   "execution_count": null,
   "metadata": {},
   "outputs": [],
   "source": [
    "with open('saved_objects/adata_annotated.pkl', 'rb') as inp:\n",
    "    adata = pickle.load(inp)\n",
    "\n",
    "adata = adata[adata.obs.cond != OTHER_COND]"
   ]
  },
  {
   "cell_type": "code",
   "execution_count": null,
   "metadata": {},
   "outputs": [
    {
     "name": "stdout",
     "output_type": "stream",
     "text": [
      "computing PCA\n",
      "    on highly variable genes\n",
      "    with n_comps=50\n",
      "    finished (0:00:12)\n",
      "computing neighbors\n",
      "    using 'X_pca' with n_pcs = 30\n",
      "    finished: added to `.uns['neighbors']`\n",
      "    `.obsp['distances']`, distances for each pair of neighbors\n",
      "    `.obsp['connectivities']`, weighted adjacency matrix (0:00:39)\n",
      "WARNING: Did not normalize X as it looks processed already. To enforce normalization, set `enforce=True`.\n",
      "Normalized count data: spliced, unspliced.\n",
      "computing moments based on connectivities\n",
      "    finished (0:00:29) --> added \n",
      "    'Ms' and 'Mu', moments of un/spliced abundances (adata.layers)\n"
     ]
    }
   ],
   "source": [
    "sc.tl.pca(adata, random_state=0)\n",
    "sc.pp.neighbors(adata, n_pcs=30, n_neighbors=30, random_state=0)\n",
    "scv.pp.moments(adata, n_pcs=30, n_neighbors=30)"
   ]
  },
  {
   "cell_type": "code",
   "execution_count": null,
   "metadata": {},
   "outputs": [
    {
     "name": "stdout",
     "output_type": "stream",
     "text": [
      "recovering dynamics (using 40/40 cores)\n"
     ]
    },
    {
     "data": {
      "application/vnd.jupyter.widget-view+json": {
       "model_id": "631195b34f2342fc9a60b837978b9176",
       "version_major": 2,
       "version_minor": 0
      },
      "text/plain": [
       "  0%|          | 0/2143 [00:00<?, ?gene/s]"
      ]
     },
     "metadata": {},
     "output_type": "display_data"
    },
    {
     "name": "stdout",
     "output_type": "stream",
     "text": [
      "    finished (0:09:46) --> added \n",
      "    'fit_pars', fitted parameters for splicing dynamics (adata.var)\n"
     ]
    }
   ],
   "source": [
    "scv.tl.recover_dynamics(adata, n_top_genes = 4000, n_jobs=40)"
   ]
  },
  {
   "cell_type": "code",
   "execution_count": null,
   "metadata": {},
   "outputs": [
    {
     "name": "stdout",
     "output_type": "stream",
     "text": [
      "testing for differential kinetics\n",
      "    finished (0:13:12) --> added \n",
      "    'fit_diff_kinetics', clusters displaying differential kinetics (adata.var)\n",
      "    'fit_pvals_kinetics', p-values of differential kinetics (adata.var)\n"
     ]
    }
   ],
   "source": [
    "top_genes = adata.var['fit_likelihood'].sort_values(ascending=False).index[:1000]\n",
    "scv.tl.differential_kinetic_test(adata, var_names=top_genes, groupby='tp')"
   ]
  },
  {
   "cell_type": "code",
   "execution_count": null,
   "metadata": {},
   "outputs": [
    {
     "name": "stdout",
     "output_type": "stream",
     "text": [
      "computing velocities\n",
      "    finished (0:02:01) --> added \n",
      "    'velocity', velocity vectors for each individual cell (adata.layers)\n",
      "computing velocity graph (using 40/40 cores)\n"
     ]
    },
    {
     "data": {
      "application/vnd.jupyter.widget-view+json": {
       "model_id": "9082ba6cde084579a764f358f486e3d9",
       "version_major": 2,
       "version_minor": 0
      },
      "text/plain": [
       "  0%|          | 0/18064 [00:00<?, ?cells/s]"
      ]
     },
     "metadata": {},
     "output_type": "display_data"
    },
    {
     "name": "stdout",
     "output_type": "stream",
     "text": [
      "    finished (0:01:59) --> added \n",
      "    'velocity_graph', sparse matrix with cosine correlations (adata.uns)\n"
     ]
    }
   ],
   "source": [
    "scv.tl.velocity(adata, mode = \"dynamical\", groupby=\"tp\", diff_kinetics=True)\n",
    "scv.tl.velocity_graph(adata, n_jobs=40)"
   ]
  },
  {
   "cell_type": "code",
   "execution_count": null,
   "metadata": {},
   "outputs": [],
   "source": [
    "save_object(adata, \"saved_objects/velocity\"+\"_\"+COND+\".pkl\")"
   ]
  },
  {
   "cell_type": "code",
   "execution_count": null,
   "metadata": {},
   "outputs": [],
   "source": [
    "plt.rcParams['figure.figsize']=(8,8) #rescale figures"
   ]
  },
  {
   "cell_type": "code",
   "execution_count": null,
   "metadata": {},
   "outputs": [
    {
     "name": "stdout",
     "output_type": "stream",
     "text": [
      "computing velocity embedding\n",
      "    finished (0:00:13) --> added\n",
      "    'velocity_umap', embedded velocity vectors (adata.obsm)\n",
      "saving figure to file ./figures/scvelo_embed_umap_DMSO.png\n"
     ]
    },
    {
     "data": {
      "text/plain": [
       "[<AxesSubplot:title={'center':'tp'}>,\n",
       " <AxesSubplot:title={'center':'Il10 positive'}>]"
      ]
     },
     "execution_count": 16,
     "metadata": {},
     "output_type": "execute_result"
    }
   ],
   "source": [
    "scv.pl.velocity_embedding_stream(adata, basis='umap', color=[\"tp\", \"Il10_positive\"], legend_loc = \"right margin\", \n",
    "                                show=False, save=\"embed_umap\"+\"_\"+COND+\".png\", min_mass=3, smooth = 0.5)"
   ]
  },
  {
   "cell_type": "code",
   "execution_count": null,
   "metadata": {},
   "outputs": [
    {
     "name": "stdout",
     "output_type": "stream",
     "text": [
      "saving figure to file ./figures/scvelo_velo_plot_DMSO.png\n"
     ]
    },
    {
     "data": {
      "text/plain": [
       "<AxesSubplot:title={'center':'expression'}>"
      ]
     },
     "execution_count": 17,
     "metadata": {},
     "output_type": "execute_result"
    }
   ],
   "source": [
    "genes = [\"Il10\", \"Mki67\", \"Myc\"]\n",
    "scv.pl.velocity(adata[adata.obs['cond'] != OTHER_COND], genes, ncols=1, size=100, figsize = (15, 15), show=False, save=\"velo_plot\"+\"_\"+COND+\".png\")"
   ]
  },
  {
   "cell_type": "code",
   "execution_count": null,
   "metadata": {},
   "outputs": [
    {
     "name": "stdout",
     "output_type": "stream",
     "text": [
      "--> added 'velocity_length' (adata.obs)\n",
      "--> added 'velocity_confidence' (adata.obs)\n",
      "--> added 'velocity_confidence_transition' (adata.obs)\n",
      "saving figure to file ./figures/scvelo_velo_conf_DMSO.png\n"
     ]
    },
    {
     "data": {
      "text/html": [
       "<style type=\"text/css\">\n",
       "#T_4e282_row0_col0 {\n",
       "  background-color: #b2ccfb;\n",
       "  color: #000000;\n",
       "}\n",
       "#T_4e282_row0_col1, #T_4e282_row1_col1 {\n",
       "  background-color: #3b4cc0;\n",
       "  color: #f1f1f1;\n",
       "}\n",
       "#T_4e282_row0_col2 {\n",
       "  background-color: #d95847;\n",
       "  color: #f1f1f1;\n",
       "}\n",
       "#T_4e282_row0_col3 {\n",
       "  background-color: #dfdbd9;\n",
       "  color: #000000;\n",
       "}\n",
       "#T_4e282_row0_col4, #T_4e282_row1_col2 {\n",
       "  background-color: #b40426;\n",
       "  color: #f1f1f1;\n",
       "}\n",
       "#T_4e282_row1_col0 {\n",
       "  background-color: #536edd;\n",
       "  color: #f1f1f1;\n",
       "}\n",
       "#T_4e282_row1_col3 {\n",
       "  background-color: #d5dbe5;\n",
       "  color: #000000;\n",
       "}\n",
       "#T_4e282_row1_col4 {\n",
       "  background-color: #a6c4fe;\n",
       "  color: #000000;\n",
       "}\n",
       "</style>\n",
       "<table id=\"T_4e282\">\n",
       "  <thead>\n",
       "    <tr>\n",
       "      <th class=\"index_name level0\" >tp</th>\n",
       "      <th id=\"T_4e282_level0_col0\" class=\"col_heading level0 col0\" >0h</th>\n",
       "      <th id=\"T_4e282_level0_col1\" class=\"col_heading level0 col1\" >2h</th>\n",
       "      <th id=\"T_4e282_level0_col2\" class=\"col_heading level0 col2\" >24h</th>\n",
       "      <th id=\"T_4e282_level0_col3\" class=\"col_heading level0 col3\" >48h</th>\n",
       "      <th id=\"T_4e282_level0_col4\" class=\"col_heading level0 col4\" >d7</th>\n",
       "    </tr>\n",
       "  </thead>\n",
       "  <tbody>\n",
       "    <tr>\n",
       "      <th id=\"T_4e282_level0_row0\" class=\"row_heading level0 row0\" >velocity_length</th>\n",
       "      <td id=\"T_4e282_row0_col0\" class=\"data row0 col0\" >6.761059</td>\n",
       "      <td id=\"T_4e282_row0_col1\" class=\"data row0 col1\" >6.401182</td>\n",
       "      <td id=\"T_4e282_row0_col2\" class=\"data row0 col2\" >7.294352</td>\n",
       "      <td id=\"T_4e282_row0_col3\" class=\"data row0 col3\" >6.913974</td>\n",
       "      <td id=\"T_4e282_row0_col4\" class=\"data row0 col4\" >7.405513</td>\n",
       "    </tr>\n",
       "    <tr>\n",
       "      <th id=\"T_4e282_level0_row1\" class=\"row_heading level0 row1\" >velocity_confidence</th>\n",
       "      <td id=\"T_4e282_row1_col0\" class=\"data row1 col0\" >0.772643</td>\n",
       "      <td id=\"T_4e282_row1_col1\" class=\"data row1 col1\" >0.766919</td>\n",
       "      <td id=\"T_4e282_row1_col2\" class=\"data row1 col2\" >0.839478</td>\n",
       "      <td id=\"T_4e282_row1_col3\" class=\"data row1 col3\" >0.800936</td>\n",
       "      <td id=\"T_4e282_row1_col4\" class=\"data row1 col4\" >0.790394</td>\n",
       "    </tr>\n",
       "  </tbody>\n",
       "</table>\n"
      ],
      "text/plain": [
       "<pandas.io.formats.style.Styler at 0x7f939e043fd0>"
      ]
     },
     "execution_count": 19,
     "metadata": {},
     "output_type": "execute_result"
    }
   ],
   "source": [
    "scv.tl.velocity_confidence(adata)\n",
    "keys = 'velocity_length', 'velocity_confidence'\n",
    "scv.pl.scatter(adata, c=keys, cmap='coolwarm', perc=[5, 95], show=False, save=\"velo_conf\"+\"_\"+COND+\".png\")\n",
    "\n",
    "df = adata.obs.groupby(\"tp\")[keys].mean().T\n",
    "df.style.background_gradient(cmap='coolwarm', axis=1)"
   ]
  },
  {
   "cell_type": "code",
   "execution_count": null,
   "metadata": {},
   "outputs": [
    {
     "name": "stdout",
     "output_type": "stream",
     "text": [
      "saving figure to file ./figures/scvelo_pseudo_time_DMSO.png\n"
     ]
    },
    {
     "data": {
      "text/plain": [
       "<AxesSubplot:title={'center':'velocity pseudotime'}>"
      ]
     },
     "execution_count": 20,
     "metadata": {},
     "output_type": "execute_result"
    }
   ],
   "source": [
    "scv.tl.velocity_pseudotime(adata, \n",
    "    root_key = adata[adata.obs[\"tp\"] == \"0h\"].obs_names.tolist()[0], \n",
    "    end_key = adata[(adata.obs[\"tp\"] == \"d7\") & (adata.obs[\"Il10_positive\"] == \"Il10+\")].obs_names.tolist()[0])\n",
    "scv.pl.scatter(adata, color='velocity_pseudotime', cmap='gnuplot', size=80, show=False, save=\"pseudo_time\"+\"_\"+COND+\".png\")"
   ]
  },
  {
   "cell_type": "code",
   "execution_count": null,
   "metadata": {},
   "outputs": [],
   "source": [
    "save_object(adata, \"saved_objects/adata_cr_prepro\"+\"_\"+COND+\".pkl\")"
   ]
  },
  {
   "cell_type": "markdown",
   "metadata": {},
   "source": [
    "# 3. N6"
   ]
  },
  {
   "cell_type": "code",
   "execution_count": null,
   "metadata": {},
   "outputs": [],
   "source": [
    "COND = 'N6'\n",
    "OTHER_COND = 'DMSO'"
   ]
  },
  {
   "cell_type": "code",
   "execution_count": null,
   "metadata": {},
   "outputs": [],
   "source": [
    "with open('saved_objects/adata_annotated.pkl', 'rb') as inp:\n",
    "    adata = pickle.load(inp)\n",
    "\n",
    "adata = adata[adata.obs.cond != OTHER_COND]"
   ]
  },
  {
   "cell_type": "code",
   "execution_count": null,
   "metadata": {},
   "outputs": [
    {
     "name": "stdout",
     "output_type": "stream",
     "text": [
      "computing PCA\n",
      "    on highly variable genes\n",
      "    with n_comps=50\n",
      "    finished (0:00:12)\n",
      "computing neighbors\n",
      "    using 'X_pca' with n_pcs = 30\n",
      "    finished: added to `.uns['neighbors']`\n",
      "    `.obsp['distances']`, distances for each pair of neighbors\n",
      "    `.obsp['connectivities']`, weighted adjacency matrix (0:00:39)\n",
      "WARNING: Did not normalize X as it looks processed already. To enforce normalization, set `enforce=True`.\n",
      "Normalized count data: spliced, unspliced.\n",
      "computing moments based on connectivities\n",
      "    finished (0:00:29) --> added \n",
      "    'Ms' and 'Mu', moments of un/spliced abundances (adata.layers)\n"
     ]
    }
   ],
   "source": [
    "sc.tl.pca(adata, random_state=0)\n",
    "sc.pp.neighbors(adata, n_pcs=30, n_neighbors=30, random_state=0)\n",
    "scv.pp.moments(adata, n_pcs=30, n_neighbors=30)"
   ]
  },
  {
   "cell_type": "code",
   "execution_count": null,
   "metadata": {},
   "outputs": [
    {
     "name": "stdout",
     "output_type": "stream",
     "text": [
      "recovering dynamics (using 40/40 cores)\n"
     ]
    },
    {
     "data": {
      "application/vnd.jupyter.widget-view+json": {
       "model_id": "631195b34f2342fc9a60b837978b9176",
       "version_major": 2,
       "version_minor": 0
      },
      "text/plain": [
       "  0%|          | 0/2143 [00:00<?, ?gene/s]"
      ]
     },
     "metadata": {},
     "output_type": "display_data"
    },
    {
     "name": "stdout",
     "output_type": "stream",
     "text": [
      "    finished (0:09:46) --> added \n",
      "    'fit_pars', fitted parameters for splicing dynamics (adata.var)\n"
     ]
    }
   ],
   "source": [
    "scv.tl.recover_dynamics(adata, n_top_genes = 4000, n_jobs=40)"
   ]
  },
  {
   "cell_type": "code",
   "execution_count": null,
   "metadata": {},
   "outputs": [
    {
     "name": "stdout",
     "output_type": "stream",
     "text": [
      "testing for differential kinetics\n",
      "    finished (0:13:12) --> added \n",
      "    'fit_diff_kinetics', clusters displaying differential kinetics (adata.var)\n",
      "    'fit_pvals_kinetics', p-values of differential kinetics (adata.var)\n"
     ]
    }
   ],
   "source": [
    "top_genes = adata.var['fit_likelihood'].sort_values(ascending=False).index[:1000]\n",
    "scv.tl.differential_kinetic_test(adata, var_names=top_genes, groupby='tp')"
   ]
  },
  {
   "cell_type": "code",
   "execution_count": null,
   "metadata": {},
   "outputs": [
    {
     "name": "stdout",
     "output_type": "stream",
     "text": [
      "computing velocities\n",
      "    finished (0:02:01) --> added \n",
      "    'velocity', velocity vectors for each individual cell (adata.layers)\n",
      "computing velocity graph (using 40/40 cores)\n"
     ]
    },
    {
     "data": {
      "application/vnd.jupyter.widget-view+json": {
       "model_id": "9082ba6cde084579a764f358f486e3d9",
       "version_major": 2,
       "version_minor": 0
      },
      "text/plain": [
       "  0%|          | 0/18064 [00:00<?, ?cells/s]"
      ]
     },
     "metadata": {},
     "output_type": "display_data"
    },
    {
     "name": "stdout",
     "output_type": "stream",
     "text": [
      "    finished (0:01:59) --> added \n",
      "    'velocity_graph', sparse matrix with cosine correlations (adata.uns)\n"
     ]
    }
   ],
   "source": [
    "scv.tl.velocity(adata, mode = \"dynamical\", groupby=\"tp\", diff_kinetics=True)\n",
    "scv.tl.velocity_graph(adata, n_jobs=40)"
   ]
  },
  {
   "cell_type": "code",
   "execution_count": null,
   "metadata": {},
   "outputs": [],
   "source": [
    "save_object(adata, \"saved_objects/velocity\"+\"_\"+COND+\".pkl\")"
   ]
  },
  {
   "cell_type": "code",
   "execution_count": null,
   "metadata": {},
   "outputs": [],
   "source": [
    "plt.rcParams['figure.figsize']=(8,8) #rescale figures"
   ]
  },
  {
   "cell_type": "code",
   "execution_count": null,
   "metadata": {},
   "outputs": [
    {
     "name": "stdout",
     "output_type": "stream",
     "text": [
      "computing velocity embedding\n",
      "    finished (0:00:13) --> added\n",
      "    'velocity_umap', embedded velocity vectors (adata.obsm)\n",
      "saving figure to file ./figures/scvelo_embed_umap_DMSO.png\n"
     ]
    },
    {
     "data": {
      "text/plain": [
       "[<AxesSubplot:title={'center':'tp'}>,\n",
       " <AxesSubplot:title={'center':'Il10 positive'}>]"
      ]
     },
     "metadata": {},
     "output_type": "display_data"
    }
   ],
   "source": [
    "scv.pl.velocity_embedding_stream(adata, basis='umap', color=[\"tp\", \"Il10_positive\"], legend_loc = \"right margin\", \n",
    "                                show=False, save=\"embed_umap\"+\"_\"+COND+\".png\", min_mass=3, smooth = 0.5)"
   ]
  },
  {
   "cell_type": "code",
   "execution_count": null,
   "metadata": {},
   "outputs": [
    {
     "name": "stdout",
     "output_type": "stream",
     "text": [
      "saving figure to file ./figures/scvelo_velo_plot_DMSO.png\n"
     ]
    },
    {
     "data": {
      "text/plain": [
       "<AxesSubplot:title={'center':'expression'}>"
      ]
     },
     "metadata": {},
     "output_type": "display_data"
    }
   ],
   "source": [
    "genes = [\"Il10\", \"Mki67\", \"Myc\"]\n",
    "scv.pl.velocity(adata[adata.obs['cond'] != OTHER_COND], genes, ncols=1, size=100, figsize = (15, 15), show=False, save=\"velo_plot\"+\"_\"+COND+\".png\")"
   ]
  },
  {
   "cell_type": "code",
   "execution_count": null,
   "metadata": {},
   "outputs": [
    {
     "name": "stdout",
     "output_type": "stream",
     "text": [
      "--> added 'velocity_length' (adata.obs)\n",
      "--> added 'velocity_confidence' (adata.obs)\n",
      "--> added 'velocity_confidence_transition' (adata.obs)\n",
      "saving figure to file ./figures/scvelo_velo_conf_DMSO.png\n"
     ]
    },
    {
     "data": {
      "text/html": [
       "<style type=\"text/css\">\n",
       "#T_4e282_row0_col0 {\n",
       "  background-color: #b2ccfb;\n",
       "  color: #000000;\n",
       "}\n",
       "#T_4e282_row0_col1, #T_4e282_row1_col1 {\n",
       "  background-color: #3b4cc0;\n",
       "  color: #f1f1f1;\n",
       "}\n",
       "#T_4e282_row0_col2 {\n",
       "  background-color: #d95847;\n",
       "  color: #f1f1f1;\n",
       "}\n",
       "#T_4e282_row0_col3 {\n",
       "  background-color: #dfdbd9;\n",
       "  color: #000000;\n",
       "}\n",
       "#T_4e282_row0_col4, #T_4e282_row1_col2 {\n",
       "  background-color: #b40426;\n",
       "  color: #f1f1f1;\n",
       "}\n",
       "#T_4e282_row1_col0 {\n",
       "  background-color: #536edd;\n",
       "  color: #f1f1f1;\n",
       "}\n",
       "#T_4e282_row1_col3 {\n",
       "  background-color: #d5dbe5;\n",
       "  color: #000000;\n",
       "}\n",
       "#T_4e282_row1_col4 {\n",
       "  background-color: #a6c4fe;\n",
       "  color: #000000;\n",
       "}\n",
       "</style>\n",
       "<table id=\"T_4e282\">\n",
       "  <thead>\n",
       "    <tr>\n",
       "      <th class=\"index_name level0\" >tp</th>\n",
       "      <th id=\"T_4e282_level0_col0\" class=\"col_heading level0 col0\" >0h</th>\n",
       "      <th id=\"T_4e282_level0_col1\" class=\"col_heading level0 col1\" >2h</th>\n",
       "      <th id=\"T_4e282_level0_col2\" class=\"col_heading level0 col2\" >24h</th>\n",
       "      <th id=\"T_4e282_level0_col3\" class=\"col_heading level0 col3\" >48h</th>\n",
       "      <th id=\"T_4e282_level0_col4\" class=\"col_heading level0 col4\" >d7</th>\n",
       "    </tr>\n",
       "  </thead>\n",
       "  <tbody>\n",
       "    <tr>\n",
       "      <th id=\"T_4e282_level0_row0\" class=\"row_heading level0 row0\" >velocity_length</th>\n",
       "      <td id=\"T_4e282_row0_col0\" class=\"data row0 col0\" >6.761059</td>\n",
       "      <td id=\"T_4e282_row0_col1\" class=\"data row0 col1\" >6.401182</td>\n",
       "      <td id=\"T_4e282_row0_col2\" class=\"data row0 col2\" >7.294352</td>\n",
       "      <td id=\"T_4e282_row0_col3\" class=\"data row0 col3\" >6.913974</td>\n",
       "      <td id=\"T_4e282_row0_col4\" class=\"data row0 col4\" >7.405513</td>\n",
       "    </tr>\n",
       "    <tr>\n",
       "      <th id=\"T_4e282_level0_row1\" class=\"row_heading level0 row1\" >velocity_confidence</th>\n",
       "      <td id=\"T_4e282_row1_col0\" class=\"data row1 col0\" >0.772643</td>\n",
       "      <td id=\"T_4e282_row1_col1\" class=\"data row1 col1\" >0.766919</td>\n",
       "      <td id=\"T_4e282_row1_col2\" class=\"data row1 col2\" >0.839478</td>\n",
       "      <td id=\"T_4e282_row1_col3\" class=\"data row1 col3\" >0.800936</td>\n",
       "      <td id=\"T_4e282_row1_col4\" class=\"data row1 col4\" >0.790394</td>\n",
       "    </tr>\n",
       "  </tbody>\n",
       "</table>\n"
      ],
      "text/plain": [
       "<pandas.io.formats.style.Styler at 0x7f939e043fd0>"
      ]
     },
     "metadata": {},
     "output_type": "display_data"
    }
   ],
   "source": [
    "scv.tl.velocity_confidence(adata)\n",
    "keys = 'velocity_length', 'velocity_confidence'\n",
    "scv.pl.scatter(adata, c=keys, cmap='coolwarm', perc=[5, 95], show=False, save=\"velo_conf\"+\"_\"+COND+\".png\")\n",
    "\n",
    "df = adata.obs.groupby(\"tp\")[keys].mean().T\n",
    "df.style.background_gradient(cmap='coolwarm', axis=1)"
   ]
  },
  {
   "cell_type": "code",
   "execution_count": null,
   "metadata": {},
   "outputs": [
    {
     "name": "stdout",
     "output_type": "stream",
     "text": [
      "saving figure to file ./figures/scvelo_pseudo_time_DMSO.png\n"
     ]
    },
    {
     "data": {
      "text/plain": [
       "<AxesSubplot:title={'center':'velocity pseudotime'}>"
      ]
     },
     "metadata": {},
     "output_type": "display_data"
    }
   ],
   "source": [
    "scv.tl.velocity_pseudotime(adata, \n",
    "    root_key = adata[adata.obs[\"tp\"] == \"0h\"].obs_names.tolist()[0], \n",
    "    end_key = adata[(adata.obs[\"tp\"] == \"d7\") & (adata.obs[\"Il10_positive\"] == \"Il10+\")].obs_names.tolist()[0])\n",
    "scv.pl.scatter(adata, color='velocity_pseudotime', cmap='gnuplot', size=80, show=False, save=\"pseudo_time\"+\"_\"+COND+\".png\")"
   ]
  },
  {
   "cell_type": "code",
   "execution_count": null,
   "metadata": {},
   "outputs": [],
   "source": [
    "save_object(adata, \"saved_objects/adata_cr_prepro\"+\"_\"+COND+\".pkl\")"
   ]
  }
 ],
 "metadata": {
  "interpreter": {
   "hash": "1fd198094d18c1f6e835bbc10f230f9f1bc4929522b005bc69d9b1e47e35dda8"
  },
  "kernelspec": {
   "display_name": "Python 3.8.13 64-bit",
   "language": "python",
   "name": "python3"
  },
  "language_info": {
   "codemirror_mode": {
    "name": "ipython",
    "version": 3
   },
   "file_extension": ".py",
   "mimetype": "text/x-python",
   "name": "python",
   "nbconvert_exporter": "python",
   "pygments_lexer": "ipython3",
   "version": "3.8.13"
  },
  "toc": {
   "base_numbering": "0",
   "nav_menu": {},
   "number_sections": true,
   "sideBar": true,
   "skip_h1_title": false,
   "title_cell": "Table of Contents",
   "title_sidebar": "Contents",
   "toc_cell": false,
   "toc_position": {
    "height": "calc(100% - 180px)",
    "left": "10px",
    "top": "150px",
    "width": "302px"
   },
   "toc_section_display": true,
   "toc_window_display": true
  },
  "varInspector": {
   "cols": {
    "lenName": 16,
    "lenType": 16,
    "lenVar": 40
   },
   "kernels_config": {
    "python": {
     "delete_cmd_postfix": "",
     "delete_cmd_prefix": "del ",
     "library": "var_list.py",
     "varRefreshCmd": "print(var_dic_list())"
    },
    "r": {
     "delete_cmd_postfix": ") ",
     "delete_cmd_prefix": "rm(",
     "library": "var_list.r",
     "varRefreshCmd": "cat(var_dic_list()) "
    }
   },
   "types_to_exclude": [
    "module",
    "function",
    "builtin_function_or_method",
    "instance",
    "_Feature"
   ],
   "window_display": false
  }
 },
 "nbformat": 4,
 "nbformat_minor": 2
}
