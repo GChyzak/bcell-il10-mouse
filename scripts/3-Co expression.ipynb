{
 "cells": [
  {
   "cell_type": "markdown",
   "metadata": {},
   "source": [
    "# Il10 co-expression\n",
    "\n",
    "Using Normalisr."
   ]
  },
  {
   "cell_type": "markdown",
   "metadata": {},
   "source": [
    "# 0. Loading the libraries"
   ]
  },
  {
   "cell_type": "code",
   "execution_count": 1,
   "metadata": {},
   "outputs": [],
   "source": [
    "import warnings\n",
    "\n",
    "warnings.simplefilter(action='ignore', category=FutureWarning)\n",
    "warnings.simplefilter(action='ignore', category=UserWarning)"
   ]
  },
  {
   "cell_type": "code",
   "execution_count": 17,
   "metadata": {
    "scrolled": false
   },
   "outputs": [],
   "source": [
    "import scanpy as sc\n",
    "import numpy as np\n",
    "from numpy import array, empty\n",
    "import pandas as pd\n",
    "pd.options.mode.chained_assignment = None  # default='warn'\n",
    "import matplotlib.pyplot as plt\n",
    "from matplotlib import colors\n",
    "import seaborn as sb\n",
    "import gseapy as gp\n",
    "from gseapy.plot import barplot, dotplot\n",
    "\n",
    "from pyorthomap import findOrthologsHsMm\n",
    "#import diffxpy.api as de\n",
    "#from bioinfokit import analys, visuz\n",
    "#import xlsxwriter\n",
    "\n",
    "import normalisr.normalisr as norm\n",
    "from adjustText import adjust_text\n",
    "\n",
    "from itertools import compress\n",
    "\n",
    "import pickle\n",
    "\n",
    "def save_object(obj, filename):\n",
    "    with open(filename, 'wb') as outp:  # Overwrites any existing file.\n",
    "        pickle.dump(obj, outp, pickle.HIGHEST_PROTOCOL)"
   ]
  },
  {
   "cell_type": "code",
   "execution_count": 3,
   "metadata": {},
   "outputs": [],
   "source": [
    "plt.rcParams['figure.figsize']=(8,8) #rescale figures\n",
    "sc.settings.verbosity = 3"
   ]
  },
  {
   "cell_type": "code",
   "execution_count": 4,
   "metadata": {},
   "outputs": [],
   "source": [
    "# Set up constants\n",
    "save_folder = \"figures/\"\n",
    "objects_folder = \"saved_objects/\"\n",
    "sc.settings.figdir = './'+save_folder"
   ]
  },
  {
   "cell_type": "markdown",
   "metadata": {},
   "source": [
    "# 1. Reading in the data"
   ]
  },
  {
   "cell_type": "code",
   "execution_count": 5,
   "metadata": {},
   "outputs": [],
   "source": [
    "# Load the pre-processed data\n",
    "\n",
    "with open('saved_objects/adata_annotated.pkl', 'rb') as inp:\n",
    "    adata = pickle.load(inp)"
   ]
  },
  {
   "cell_type": "code",
   "execution_count": 6,
   "metadata": {},
   "outputs": [],
   "source": [
    "diseases = [\"ms\", \"pr\", \"crohn\", \"t1d\", \"sle\"]\n",
    "GWAS_tmp = []\n",
    "\n",
    "for disease in diseases:\n",
    "    gwas_file = \"GWAS/\"+disease+\".tsv\"\n",
    "    gwas_list = pd.read_csv(gwas_file, header = 0, sep = \"\\t\")[[\"REPORTED GENE(S)\", \"PVALUE_MLOG\"]]\n",
    "    genes = []\n",
    "    for gene in gwas_list[\"REPORTED GENE(S)\"].tolist():\n",
    "        if str(gene) not in ['nan', 'intergenic', 'NR', 'Intergenic']:\n",
    "            if len(gene.split(',')) == 1:\n",
    "                genes.append(gene)\n",
    "            else:\n",
    "                genes.append(gene.split(',')[0])\n",
    "    GWAS_tmp.append(list(set(genes)))"
   ]
  },
  {
   "cell_type": "code",
   "execution_count": 7,
   "metadata": {},
   "outputs": [
    {
     "data": {
      "application/vnd.jupyter.widget-view+json": {
       "model_id": "ce2f5c9d910e425088ef3d773447ed73",
       "version_major": 2,
       "version_minor": 0
      },
      "text/plain": [
       "  0%|          | 0/2 [00:00<?, ?it/s]"
      ]
     },
     "metadata": {},
     "output_type": "display_data"
    },
    {
     "data": {
      "application/vnd.jupyter.widget-view+json": {
       "model_id": "c524bcfd041c4146a6b21862a38f7873",
       "version_major": 2,
       "version_minor": 0
      },
      "text/plain": [
       "  0%|          | 0/2 [00:00<?, ?it/s]"
      ]
     },
     "metadata": {},
     "output_type": "display_data"
    },
    {
     "data": {
      "application/vnd.jupyter.widget-view+json": {
       "model_id": "b47fb2abe533495b8184543f048b252a",
       "version_major": 2,
       "version_minor": 0
      },
      "text/plain": [
       "  0%|          | 0/2 [00:00<?, ?it/s]"
      ]
     },
     "metadata": {},
     "output_type": "display_data"
    },
    {
     "data": {
      "application/vnd.jupyter.widget-view+json": {
       "model_id": "74b80bbd0c314b3a9e0d86ce5239cf87",
       "version_major": 2,
       "version_minor": 0
      },
      "text/plain": [
       "  0%|          | 0/1 [00:00<?, ?it/s]"
      ]
     },
     "metadata": {},
     "output_type": "display_data"
    },
    {
     "data": {
      "application/vnd.jupyter.widget-view+json": {
       "model_id": "624302d8f784480684b56ba0a1c8f02d",
       "version_major": 2,
       "version_minor": 0
      },
      "text/plain": [
       "  0%|          | 0/2 [00:00<?, ?it/s]"
      ]
     },
     "metadata": {},
     "output_type": "display_data"
    }
   ],
   "source": [
    "def replace(x):\n",
    "    if len(x.tolist()) == 1:\n",
    "        if x.tolist()[0] != x.tolist()[0]:\n",
    "            return \"NA\"\n",
    "        else:\n",
    "            return(x.tolist()[0])\n",
    "    else:\n",
    "        return \"NA\"\n",
    "\n",
    "def convert_genes(lgenes):\n",
    "    translated = findOrthologsHsMm(from_filters = 'hgnc_symbol',\n",
    "                  from_values = lgenes).map()\n",
    "    return [replace(translated[translated.external_gene_name == e][\"external_gene_name\"]) for e in adata.var['gene_name']]\n",
    "\n",
    "GWAS = {}\n",
    "for i in range(len(diseases)):\n",
    "    GWAS[diseases[i]] = convert_genes(GWAS_tmp[i])\n",
    "\n",
    "# add sp140\n",
    "GWAS['crohn'].extend(['Sp140', 'Sp110'])\n",
    "GWAS['ms'].extend(['Sp140'])\n",
    "GWAS['pr'].extend(['Sp140'])"
   ]
  },
  {
   "cell_type": "code",
   "execution_count": 8,
   "metadata": {},
   "outputs": [],
   "source": [
    "tf_file1 = 'files/mm_mgi_tfs.txt'\n",
    "tf_list1 = pd.read_table(tf_file1, delimiter='\\t', header=None).rename(columns={0:\"Symbol\"})\n",
    "tf_file2 = 'files/Mus_musculus_TF.txt'\n",
    "tf_list2 = pd.read_table(tf_file2, delimiter='\\t')\n",
    "tf_list = pd.concat([tf_list1,tf_list2]).drop_duplicates().reset_index(drop=True).Symbol"
   ]
  },
  {
   "cell_type": "code",
   "execution_count": 9,
   "metadata": {},
   "outputs": [],
   "source": [
    "atacD2_D3 = pd.read_table(\"files/D2_D3_DARs_GeneMerged.txt\", sep = \"\\t\")\n",
    "atacD2_D3 = atacD2_D3[[\"GeneSymbol\", \"annotation\"]]\n",
    "atacD2_D3.columns = ['gene', 'annotation']\n",
    "\n",
    "atacD2_D3_D7 = pd.read_table(\"files/D2_D3_D7_DARs_GeneMerged.txt\", sep = \"\\t\")\n",
    "atacD2_D3_D7 = atacD2_D3_D7[[\"GeneSymbol\", \"annotation\"]]\n",
    "atacD2_D3_D7.columns = ['gene', 'annotation']"
   ]
  },
  {
   "cell_type": "markdown",
   "metadata": {},
   "source": [
    "## 2 Marker Co-expression"
   ]
  },
  {
   "cell_type": "markdown",
   "metadata": {},
   "source": [
    "## 2.1 IL-10"
   ]
  },
  {
   "cell_type": "code",
   "execution_count": 10,
   "metadata": {},
   "outputs": [],
   "source": [
    "MARKER = \"Il10\""
   ]
  },
  {
   "cell_type": "code",
   "execution_count": 17,
   "metadata": {},
   "outputs": [],
   "source": [
    "# Inputs for normalisr\n",
    "\n",
    "dt0 = adata.raw.X[:, [not(gene.startswith((\"mt-\", 'Rps', \"Rpl\"))) for gene in adata.var['gene_name']]].T\n",
    "dc0 = np.array(adata.obs[[\"n_counts\", \"n_genes\"]]).T"
   ]
  },
  {
   "cell_type": "code",
   "execution_count": 18,
   "metadata": {},
   "outputs": [],
   "source": [
    "# Normalisation for normalisr\n",
    "dt,_,_,dc2 = norm.lcpm(dt0)\n",
    "dc=np.concatenate([dc0,dc2],axis=0)\n",
    "dc=norm.normcov(dc)\n",
    "sf=norm.scaling_factor(dt0)\n",
    "weight=norm.compute_var(dt,dc)\n",
    "dt,dc=norm.normvar(dt,dc,weight,sf)"
   ]
  },
  {
   "cell_type": "code",
   "execution_count": 12,
   "metadata": {},
   "outputs": [],
   "source": [
    "filt = [not(gene.startswith((\"mt-\", 'Rps', \"Rpl\"))) for gene in adata.var['gene_name']]\n",
    "gene_names = adata.var.gene_name[filt]"
   ]
  },
  {
   "cell_type": "code",
   "execution_count": 23,
   "metadata": {},
   "outputs": [
    {
     "name": "stdout",
     "output_type": "stream",
     "text": [
      "NAIVE-0h\n",
      "DMSO-2h\n",
      "DMSO-24h\n",
      "DMSO-48h\n",
      "DMSO-d7\n",
      "N6-2h\n",
      "N6-24h\n",
      "N6-48h\n",
      "N6-d7\n"
     ]
    }
   ],
   "source": [
    "a = 0.99999999999999\n",
    "coex_list = []\n",
    "samp_list = ['NAIVE-0h', 'DMSO-2h', 'DMSO-24h', 'DMSO-48h', 'DMSO-d7', 'N6-2h', 'N6-24h' , 'N6-48h', \"N6-d7\"]\n",
    "\n",
    "for samp in samp_list: \n",
    "\n",
    "    print(samp)\n",
    "\n",
    "    dt_samp = dt[:, adata.obs['sample2'] == samp]\n",
    "    dc_samp = dc[:, adata.obs['sample2'] == samp]\n",
    "\n",
    "    co = norm.coex(dt_samp, dc_samp)\n",
    "    co_pval = pd.DataFrame(co[0], index = gene_names, columns = gene_names)\n",
    "    co_mean = pd.DataFrame(co[1], index = gene_names, columns = gene_names)\n",
    "\n",
    "    bi = norm.binnet(co[0], a)\n",
    "    bi_ = pd.DataFrame(bi, index = gene_names, columns = gene_names)\n",
    "\n",
    "    sig_pval = co_pval[MARKER][bi_[MARKER]]\n",
    "    sig_mean = co_mean[MARKER][bi_[MARKER]]\n",
    "\n",
    "    res = pd.DataFrame({\"pval\" : sig_pval, \"mean\" : sig_mean})\n",
    "    coex_list.append(res)\n"
   ]
  },
  {
   "cell_type": "code",
   "execution_count": 29,
   "metadata": {},
   "outputs": [],
   "source": [
    "save_object(coex_list, \"saved_objects/coex_list.pkl\")"
   ]
  },
  {
   "cell_type": "code",
   "execution_count": 11,
   "metadata": {},
   "outputs": [],
   "source": [
    "with open('saved_objects/coex_list.pkl', 'rb') as inp:\n",
    "    coex_list = pickle.load(inp)\n",
    "\n",
    "samp_list = ['NAIVE-0h', 'DMSO-2h', 'DMSO-24h', 'DMSO-48h', 'DMSO-d7', 'N6-2h', 'N6-24h' , 'N6-48h', \"N6-d7\"]\n",
    "filt = [not(gene.startswith((\"mt-\", 'Rps', \"Rpl\"))) for gene in adata.var['gene_name']]\n",
    "gene_names = adata.var.gene_name[filt]"
   ]
  },
  {
   "cell_type": "code",
   "execution_count": 23,
   "metadata": {},
   "outputs": [],
   "source": [
    "def correct_pvalues_for_multiple_testing(pvalues):\n",
    "\n",
    "    pvalues = array(pvalues)\n",
    "    sample_size = pvalues.shape[0]\n",
    "    qvalues = empty(sample_size)\n",
    "    values = [(pvalue, i) for i, pvalue in enumerate(pvalues)]\n",
    "    values.sort()\n",
    "    values.reverse()\n",
    "    new_values = []\n",
    "    for i, vals in enumerate(values):\n",
    "        rank = sample_size - i\n",
    "        pvalue, index = vals\n",
    "        new_values.append((sample_size/rank) * pvalue)\n",
    "    for i in range(0, int(sample_size)-1):\n",
    "        if new_values[i] < new_values[i+1]:\n",
    "            new_values[i+1] = new_values[i]\n",
    "    for i, vals in enumerate(values):\n",
    "        pvalue, index = vals\n",
    "        qvalues[index] = new_values[i]\n",
    "        \n",
    "    return qvalues"
   ]
  },
  {
   "cell_type": "code",
   "execution_count": 25,
   "metadata": {},
   "outputs": [
    {
     "name": "stdout",
     "output_type": "stream",
     "text": [
      "NAIVE-0h\n",
      "DMSO-2h\n",
      "DMSO-24h\n",
      "DMSO-48h\n",
      "DMSO-d7\n",
      "N6-2h\n",
      "N6-24h\n",
      "N6-48h\n",
      "N6-d7\n"
     ]
    }
   ],
   "source": [
    "coex_result = []\n",
    "\n",
    "for i in range(len(coex_list)):\n",
    "    print(samp_list[i])\n",
    "\n",
    "    results = coex_list[i]\n",
    "    results[\"qval\"] = correct_pvalues_for_multiple_testing(results.pval.tolist())\n",
    "    results[\"gene\"] = gene_names\n",
    "    results = results[['gene', 'pval', 'qval', 'mean']]\n",
    "\n",
    "    results = results.sort_values(by=\"qval\", ascending=True)\n",
    "    results.reset_index(drop=True, inplace=True)\n",
    "    results.index.name = 'pval rank'\n",
    "    results = results.sort_values(by=\"mean\", ascending=False)\n",
    "\n",
    "    coex_result.append(results)"
   ]
  },
  {
   "cell_type": "code",
   "execution_count": 26,
   "metadata": {},
   "outputs": [],
   "source": [
    "qthresholds = []\n",
    "\n",
    "for res in range(len(coex_result)):\n",
    "\n",
    "    result = coex_result[res]\n",
    "    d = result.qval.tolist()\n",
    "    d = [-np.log10(e) for e in d]\n",
    "    h, e = np.histogram(d, bins = range(0, 310, 1))\n",
    "\n",
    "    i = 0\n",
    "    while i < len(h):\n",
    "        if h[i]+h[i+1]+h[i+2]+h[i+3]+h[i+4] < 150:\n",
    "            q = e[i]\n",
    "            qthresholds.append(10.0**(-q))\n",
    "            i = len(h)\n",
    "        i+=5"
   ]
  },
  {
   "cell_type": "code",
   "execution_count": 32,
   "metadata": {},
   "outputs": [],
   "source": [
    "def coex_plot(result, name, pvt, fct):\n",
    "\n",
    "    result['mean'] = [np.log2(e) if e > 0 else -np.log2(-e) for e in result['mean']]\n",
    "\n",
    "    result['color'] = \"grey\" # intermediate\n",
    "    result.loc[(result['mean'] >= fct) & (result['qval'] < pvt), 'color'] = \"red\"  # upregulated\n",
    "    result.loc[(result['mean'] <= -fct) & (result['qval'] < pvt), 'color'] = \"green\"  # downregulated\n",
    "\n",
    "    # replace 0 P-value with lowest non-zero P-value\n",
    "    smallest = result[result.qval>0].sort_values(\"qval\", ascending=True).iloc[0, 2]\n",
    "    result[\"qval\"] = [max(e, smallest) for e in result[\"qval\"]]\n",
    "    result['logqv'] = -(np.log10(result['qval']))\n",
    "\n",
    "    plt.style.use('seaborn-whitegrid')\n",
    "    plt.scatter(result['mean'], result['logqv'], c=result['color'], alpha=0.5)\n",
    "    plt.title('qval<10^(-'+str(int(-np.log10(pvt)))+'), mean>'+str(fct), fontsize=18, fontname='arial', loc='center', fontweight='bold')\n",
    "    plt.xlabel('Dot Expression',fontsize=15, fontname=\"arial\", fontweight=\"normal\")\n",
    "    plt.ylabel('-Log10 Q-Value', fontsize=15, fontname=\"arial\", fontweight=\"normal\")\n",
    "    plt.xticks(fontsize=12, fontname=\"arial\")\n",
    "    plt.yticks(fontsize=12, fontname=\"arial\")\n",
    "    xmax = max(abs(result[result.logqv > 5]['mean'])) * 1.2\n",
    "    plt.xlim((-xmax, xmax))\n",
    "    plt.ylim(top = max([max(result['logqv']) * 1.25, 10]), bottom = 0)\n",
    "\n",
    "    # Add gene labels\n",
    "    texts = []\n",
    "    res2label = result.loc[(result['qval'] < pvt) & (abs(result['mean']) >= fct)]\n",
    "\n",
    "    if len(res2label)>0:\n",
    "        thresh_p = res2label.sort_values(\"logqv\", ascending=False).iloc[min(len(res2label)-1, 90), 5]\n",
    "        if thresh_p < -np.log10(pvt) : thresh_p = -np.log10(pvt)\n",
    "        if sum(res2label.logqv >= thresh_p) > 100:\n",
    "            thresh_mean = abs(res2label.sort_values(by=\"mean\", key = abs, ascending=False).iloc[min(len(res2label)-1, 90), 3])\n",
    "        else:\n",
    "            thresh_mean = fct\n",
    "        if abs(thresh_mean) < fct : thresh_mean = fct\n",
    "\n",
    "        if sum((res2label.logqv >= thresh_p) & (abs(res2label['mean']) >= thresh_mean)) < 100:\n",
    "\n",
    "            for j in range(len(res2label.gene)):\n",
    "\n",
    "                scolor = 'black'\n",
    "                #if res2label.iloc[j, 0] in ['Xbp1', 'Irf4', 'Prdm1'] : scolor = \"orange\"\n",
    "\n",
    "                if ((res2label.iloc[j, 5] >= thresh_p) & (abs(res2label.iloc[j, 3]) >= thresh_mean)):\n",
    "                    texts.append(plt.text(res2label.iloc[j, 3], res2label.iloc[j, 5], res2label.iloc[j, 0], color=scolor))\n",
    "\n",
    "            adjust_text(texts, #force_points=1, #force_text=2,\n",
    "                        arrowprops=dict(arrowstyle=\"-\", color=\"black\", lw=0.5))\n",
    "    \n",
    "    plt.savefig(\"volcano_plots/coex_\"+name+\"_\"+MARKER+\".png\", format='png', bbox_inches='tight', dpi=300)\n",
    "    plt.close()"
   ]
  },
  {
   "cell_type": "code",
   "execution_count": 31,
   "metadata": {},
   "outputs": [
    {
     "name": "stdout",
     "output_type": "stream",
     "text": [
      "NAIVE-0h\n",
      "DMSO-2h\n",
      "DMSO-24h\n",
      "DMSO-48h\n",
      "DMSO-d7\n",
      "N6-2h\n",
      "N6-24h\n",
      "N6-48h\n",
      "N6-d7\n"
     ]
    }
   ],
   "source": [
    "results_copy = coex_result[:]\n",
    "fct = 2 # expression threshold\n",
    "plt.rcParams['figure.figsize']=(8,8) #rescale figures\n",
    "\n",
    "for i in range(len(samp_list)):\n",
    "    print(samp_list[i])\n",
    "    pvt = qthresholds[i] # p value threshold\n",
    "\n",
    "    results_copy[i] = results_copy[i].dropna()\n",
    "    coex_plot(results_copy[i], samp_list[i], pvt, fct)"
   ]
  },
  {
   "cell_type": "code",
   "execution_count": 36,
   "metadata": {},
   "outputs": [
    {
     "name": "stdout",
     "output_type": "stream",
     "text": [
      "NAIVE-0h\n",
      "DMSO-2h\n",
      "DMSO-24h\n",
      "DMSO-48h\n",
      "DMSO-d7\n",
      "N6-2h\n"
     ]
    },
    {
     "name": "stderr",
     "output_type": "stream",
     "text": [
      "2022-06-22 16:46:31,294 Warning: No enrich terms using library GO_Biological_Process_2021 when cutoff = 0.1\n"
     ]
    },
    {
     "name": "stdout",
     "output_type": "stream",
     "text": [
      "N6-24h\n",
      "N6-48h\n",
      "N6-d7\n"
     ]
    }
   ],
   "source": [
    "# Excel sheets Il10 co-expressed genes in each sample\n",
    "\n",
    "for i in range(len(samp_list)):\n",
    "\n",
    "    print(samp_list[i])\n",
    "    results = coex_result[i]\n",
    "    pvt = qthresholds[i] # p value threshold\n",
    "\n",
    "    deg = results[(results.qval < pvt) & (abs(results['mean']) > fct)].gene.tolist()\n",
    "    deg_up = results[(results.qval < pvt) & (results['mean'] > fct)].gene.tolist()\n",
    "    deg_down = results[(results.qval < pvt) & (results['mean'] < -fct)].gene.tolist()\n",
    "    deg = [item for item in deg if item==item]\n",
    "\n",
    "    if len(deg) > 20:\n",
    "        enr = gp.enrichr(gene_list=deg,\n",
    "                        gene_sets=['GO_Biological_Process_2021'], #, 'GO_Biological_Process_2021', 'GO_Molecular_Function_2021', 'GO_Cellular_Component_2021'\n",
    "                        organism='Mouse', \n",
    "                        description='DEGs',\n",
    "                        outdir='enr_plots/enr_DEGs',\n",
    "                        cutoff=0.1,\n",
    "                        format='png',\n",
    "                        background='all_genes'\n",
    "                        )\n",
    "        if sum(enr.res2d['Adjusted P-value'] < 0.1) > 0:\n",
    "            p = dotplot(enr.res2d[enr.res2d['Adjusted P-value'] < 0.1],title=samp_list[i],cmap='viridis_r', column='Combined Score', legend = False, ofname = \"enr_plots/\"+samp_list[i]+\"_\"+MARKER+\".png\")\n",
    "\n",
    "    fname = save_folder+\"coex_\"+samp_list[i]+\"_\"+MARKER+\".xlsx\"\n",
    "    writer = pd.ExcelWriter(fname, engine='xlsxwriter')\n",
    "    \n",
    "    results.to_excel(writer, \"everything\")\n",
    "    results[results.qval < pvt].to_excel(writer, \"significant\")\n",
    "\n",
    "\n",
    "    TFA = results[(results[\"gene\"].isin(tf_list)) & (results[\"qval\"]<pvt) & (abs(results['mean']) > fct)]\n",
    "    TFA.index = range(len(TFA))\n",
    "    TFB = TFA.reindex(index = range(len(TFA)+1))\n",
    "    TFC = results[(results[\"gene\"].isin(tf_list)) & ~((results[\"qval\"]<pvt) & (abs(results['mean']) > fct))]\n",
    "    pd.concat([TFB, TFC], ignore_index=True).to_excel(writer, \"transcrip° factor\")\n",
    "\n",
    "    for j in range(len(diseases)):\n",
    "        pd.DataFrame([diseases[j]]).to_excel(writer, \"GWAS\", startrow=0, startcol = j*4, header = False, index = False)\n",
    "        results[(results[\"gene\"].isin(GWAS[diseases[j]])) & (results[\"qval\"]<pvt) & (abs(results['mean']) > fct)][['gene', 'mean']].to_excel(writer, \n",
    "            \"GWAS\", startrow=1, startcol = j*4)\n",
    "    j += 1\n",
    "    subsetted = results[(results[\"qval\"]<pvt) & (abs(results['mean']) > fct)][['gene', 'mean']]\n",
    "    subsetted['GWAS'] = sum([(subsetted['gene'].isin(GWAS[k])) for k in GWAS.keys()])\n",
    "    subsetted[subsetted.GWAS >= 2][['gene', 'mean']].to_excel(writer, \n",
    "            \"GWAS\", startrow=1, startcol = j*4)\n",
    "\n",
    "    pd.DataFrame([\"UP : More accessible in N6 D2-D3\"]).to_excel(writer, \"ATAC\", startrow=0, startcol = 0, header = False, index = False)\n",
    "    atacD2_D3[atacD2_D3.gene.isin(deg_up)].to_excel(writer, \"ATAC\", startrow=1, startcol=0)\n",
    "    pd.DataFrame([\"UP : More accessible in N6 D2-D3-D7\"]).to_excel(writer, \"ATAC\", startrow=0, startcol = 9, header = False, index = False)\n",
    "    atacD2_D3_D7[atacD2_D3_D7.gene.isin(deg_up)].to_excel(writer, \"ATAC\", startrow=1, startcol=9)\n",
    "    M = max( len(atacD2_D3[atacD2_D3.gene.isin(deg_up)]), len(atacD2_D3_D7[atacD2_D3_D7.gene.isin(deg_up)]) )\n",
    "    pd.DataFrame([\"DOWN : More accessible in N6 D2-D3\"]).to_excel(writer, \"ATAC\", startrow=3+M, startcol = 0, header = False, index = False)\n",
    "    atacD2_D3[atacD2_D3.gene.isin(deg_down)].to_excel(writer, \"ATAC\", startrow=1, startcol=4+M)\n",
    "    pd.DataFrame([\"DOWN : More accessible in N6 D2-D3-D7\"]).to_excel(writer, \"ATAC\", startrow=3+M, startcol = 9, header = False, index = False)\n",
    "    atacD2_D3_D7[atacD2_D3_D7.gene.isin(deg_down)].to_excel(writer, \"ATAC\", startrow=1, startcol=4+M)\n",
    "\n",
    "    if len(deg) > 20:\n",
    "        enr.results = enr.results[['Term', 'Overlap', 'Adjusted P-value', 'Odds Ratio', 'Combined Score', 'Genes']]\n",
    "        enr.results = enr.results[enr.results['Adjusted P-value'] < 0.1]\n",
    "        enr.results.sort_values(by=\"Combined Score\", ascending=False).to_excel(writer, \"enriched\", index=False)\n",
    "\n",
    "    book = writer.book\n",
    "    imgsheet = book.add_worksheet('Volcano')\n",
    "    imgsheet.insert_image('B2', \"volcano_plots/coex_\"+samp_list[i]+\"_\"+MARKER+\".png\")\n",
    "    imgsheet = book.add_worksheet('Enrichment')\n",
    "    if len(deg) > 20:\n",
    "        if sum(enr.res2d['Adjusted P-value'] < 0.1) > 0:\n",
    "            imgsheet.insert_image('B2', \"enr_plots/\"+samp_list[i]+\"_\"+MARKER+\".png\")\n",
    "\n",
    "    writer.save()"
   ]
  },
  {
   "cell_type": "code",
   "execution_count": 37,
   "metadata": {},
   "outputs": [
    {
     "name": "stderr",
     "output_type": "stream",
     "text": [
      "/tmp/ipykernel_13264/1092859725.py:21: UserWarning: Attempting to set identical left == right == 0 results in singular transformations; automatically expanding.\n",
      "  plot.ax_row_dendrogram.set_xlim([0,0])\n"
     ]
    },
    {
     "data": {
      "image/png": "[encoded data removed]",
      "text/plain": [
       "<Figure size 720x720 with 3 Axes>"
      ]
     },
     "metadata": {},
     "output_type": "display_data"
    }
   ],
   "source": [
    "all_genes = adata.var_names\n",
    "hmdata = pd.DataFrame(index=all_genes)\n",
    "\n",
    "for i in range(len(samp_list)):\n",
    "    pvt = qthresholds[i] # p value threshold\n",
    "\n",
    "    hmdata[samp_list[i]] = 0\n",
    "    for gene in coex_result[i][(coex_result[i].qval < pvt) & (coex_result[i]['mean'] > fct)]['gene'].tolist():\n",
    "        hmdata.loc[gene, samp_list[i]] = 1\n",
    "    for gene in coex_result[i][(coex_result[i].qval < pvt) & (coex_result[i]['mean'] < - fct)]['gene'].tolist():\n",
    "        hmdata.loc[gene, samp_list[i]] = -1\n",
    "sig = np.sum(abs(hmdata), axis = 1)\n",
    "hmdata = hmdata[sig > 0]\n",
    "filt = [e == e for e in hmdata.index]\n",
    "hmdata = hmdata[filt]\n",
    "\n",
    "cmap = colors.ListedColormap(['green','grey','red'])\n",
    "plot = sb.clustermap(hmdata, yticklabels=False, vmin = -1, vmax = 1, cmap = cmap, cbar_pos = None)\n",
    "plot.ax_row_dendrogram.set_visible(False)\n",
    "plot.ax_row_dendrogram.set_xlim([0,0])\n",
    "plt.setp(plot.ax_heatmap.xaxis.get_majorticklabels(), rotation=40, va=\"center\", position=(0,-0.06), size = 16)\n",
    "plot.savefig(save_folder+\"coex_heatmap\"+\"_\"+MARKER+\".png\")"
   ]
  },
  {
   "cell_type": "code",
   "execution_count": 40,
   "metadata": {},
   "outputs": [],
   "source": [
    "# Excel sheet for \"inter\" Il10 co-expressed genes\n",
    "\n",
    "r24 = pd.read_excel(save_folder+\"coex_\"+\"N6-24h\"+\"_Il10.xlsx\", sheet_name = \"significant\")\n",
    "r48 = pd.read_excel(save_folder+\"coex_\"+\"N6-48h\"+\"_Il10.xlsx\", sheet_name = \"significant\")\n",
    "rd7 = pd.read_excel(save_folder+\"coex_\"+\"N6-d7\"+\"_Il10.xlsx\", sheet_name = \"significant\")\n",
    "dmso = pd.read_excel(save_folder+\"coex_\"+\"DMSO-48h\"+\"_Il10.xlsx\", sheet_name = \"significant\")\n",
    "inter_res = r48[(r48.gene.isin(r24.gene.tolist())) & (r48.gene.isin(rd7.gene.tolist())) & (~r48.gene.isin(dmso.gene.tolist()))]\n",
    "\n",
    "results = inter_res\n",
    "pvt = qthresholds[7] # p value threshold\n",
    "\n",
    "deg = results[(results.qval < pvt) & (abs(results['mean']) > fct)].gene.tolist()\n",
    "deg_up = results[(results.qval < pvt) & (results['mean'] > fct)].gene.tolist()\n",
    "deg_down = results[(results.qval < pvt) & (results['mean'] < -fct)].gene.tolist()\n",
    "\n",
    "if len(deg) > 10:\n",
    "    enr = gp.enrichr(gene_list=deg,\n",
    "                    gene_sets=['GO_Biological_Process_2021'], #, 'GO_Biological_Process_2021', 'GO_Molecular_Function_2021', 'GO_Cellular_Component_2021'\n",
    "                    organism='Mouse', \n",
    "                    description='DEGs',\n",
    "                    outdir='enr_plots/enr_DEGs',\n",
    "                    cutoff=0.1,\n",
    "                    format='png',\n",
    "                    background='all_genes'\n",
    "                    )\n",
    "    if sum(enr.res2d['Adjusted P-value'] < 0.1) > 0:\n",
    "        p = dotplot(enr.res2d[enr.res2d['Adjusted P-value'] < 0.1],title=\"inter\",cmap='viridis_r', column='Combined Score', legend = False, ofname = \"enr_plots/\"+\"inter\"+\"_\"+MARKER+\".png\")\n",
    "\n",
    "fname = save_folder+\"coex_\"+\"inter\"+\"_\"+MARKER+\".xlsx\"\n",
    "writer = pd.ExcelWriter(fname, engine='xlsxwriter')\n",
    "\n",
    "results.to_excel(writer, \"everything\")\n",
    "results[results.qval < pvt].to_excel(writer, \"significant\")\n",
    "\n",
    "\n",
    "TFA = results[(results[\"gene\"].isin(tf_list)) & (results[\"qval\"]<pvt) & (abs(results['mean']) > fct)]\n",
    "TFA.index = range(len(TFA))\n",
    "TFB = TFA.reindex(index = range(len(TFA)+1))\n",
    "TFC = results[(results[\"gene\"].isin(tf_list)) & ~((results[\"qval\"]<pvt) & (abs(results['mean']) > fct))]\n",
    "pd.concat([TFB, TFC], ignore_index=True).to_excel(writer, \"transcrip° factor\")\n",
    "\n",
    "for j in range(len(diseases)):\n",
    "    pd.DataFrame([diseases[j]]).to_excel(writer, \"GWAS\", startrow=0, startcol = j*4, header = False, index = False)\n",
    "    results[(results[\"gene\"].isin(GWAS[diseases[j]])) & (results[\"qval\"]<pvt) & (abs(results['mean']) > fct)][['gene', 'mean']].to_excel(writer, \n",
    "        \"GWAS\", startrow=1, startcol = j*4)\n",
    "j += 1\n",
    "subsetted = results[(results[\"qval\"]<pvt) & (abs(results['mean']) > fct)][['gene', 'mean']]\n",
    "subsetted['GWAS'] = sum([(subsetted['gene'].isin(GWAS[k])) for k in GWAS.keys()])\n",
    "subsetted[subsetted.GWAS >= 2][['gene', 'mean']].to_excel(writer, \n",
    "        \"GWAS\", startrow=1, startcol = j*4)\n",
    "\n",
    "pd.DataFrame([\"UP : More accessible in N6 D2-D3\"]).to_excel(writer, \"ATAC\", startrow=0, startcol = 0, header = False, index = False)\n",
    "atacD2_D3[atacD2_D3.gene.isin(deg_up)].to_excel(writer, \"ATAC\", startrow=1, startcol=0)\n",
    "pd.DataFrame([\"UP : More accessible in N6 D2-D3-D7\"]).to_excel(writer, \"ATAC\", startrow=0, startcol = 9, header = False, index = False)\n",
    "atacD2_D3_D7[atacD2_D3_D7.gene.isin(deg_up)].to_excel(writer, \"ATAC\", startrow=1, startcol=9)\n",
    "M = max( len(atacD2_D3[atacD2_D3.gene.isin(deg_up)]), len(atacD2_D3_D7[atacD2_D3_D7.gene.isin(deg_up)]) )\n",
    "pd.DataFrame([\"DOWN : More accessible in N6 D2-D3\"]).to_excel(writer, \"ATAC\", startrow=3+M, startcol = 0, header = False, index = False)\n",
    "atacD2_D3[atacD2_D3.gene.isin(deg_down)].to_excel(writer, \"ATAC\", startrow=1, startcol=4+M)\n",
    "pd.DataFrame([\"DOWN : More accessible in N6 D2-D3-D7\"]).to_excel(writer, \"ATAC\", startrow=3+M, startcol = 9, header = False, index = False)\n",
    "atacD2_D3_D7[atacD2_D3_D7.gene.isin(deg_down)].to_excel(writer, \"ATAC\", startrow=1, startcol=4+M)\n",
    "\n",
    "if len(deg) > 10:\n",
    "    enr.results = enr.results[['Term', 'Overlap', 'Adjusted P-value', 'Odds Ratio', 'Combined Score', 'Genes']]\n",
    "    enr.results = enr.results[enr.results['Adjusted P-value'] < 0.1]\n",
    "    enr.results.sort_values(by=\"Combined Score\", ascending=False).to_excel(writer, \"enriched\", index=False)\n",
    "\n",
    "book = writer.book\n",
    "imgsheet = book.add_worksheet('Enrichment')\n",
    "if len(deg) > 10:\n",
    "    if sum(enr.res2d['Adjusted P-value'] < 0.1) > 0:\n",
    "        imgsheet.insert_image('B2', \"enr_plots/\"+\"inter\"+\"_\"+MARKER+\".png\")\n",
    "\n",
    "writer.save()"
   ]
  },
  {
   "cell_type": "code",
   "execution_count": 45,
   "metadata": {},
   "outputs": [
    {
     "name": "stdout",
     "output_type": "stream",
     "text": [
      "N6-48h\n"
     ]
    }
   ],
   "source": [
    "# Venn diagram-like excel file for N6-48h Il10 co-expressed genes\n",
    "\n",
    "i = 7\n",
    "print(samp_list[i])\n",
    "results = coex_result[i]\n",
    "pvt = qthresholds[i] # p value threshold\n",
    "results = results[(results.qval < pvt) & (abs(results['mean']) > fct)]\n",
    "\n",
    "deg_up = results[(results.qval < pvt) & (results['mean'] > fct)].gene.tolist()\n",
    "deg_down = results[(results.qval < pvt) & (results['mean'] < -fct)].gene.tolist()\n",
    "\n",
    "results = results.rename(columns={'mean': 'dot product'})\n",
    "results[\"GWAS\"] = \"\"\n",
    "results[\"ATAC\"] = \"\"\n",
    "results[\"TF\"] = \"\"\n",
    "\n",
    "tmp = list(GWAS.values())\n",
    "GWAS_flat = [o for p in tmp for o in p]\n",
    "atac_list = atacD2_D3.gene.tolist() + atacD2_D3_D7.gene.tolist()\n",
    "\n",
    "for loop in range(len(results)):\n",
    "    if results.iloc[loop, 0] in GWAS_flat : results.iloc[loop, 4] = \"GWAS\"\n",
    "    if results.iloc[loop, 0] in atac_list : results.iloc[loop, 5] = \"ATAC\"\n",
    "    if results.iloc[loop, 0] in tf_list.tolist() : results.iloc[loop, 6] = \"TF\"\n",
    "\n",
    "fname = save_folder+\"venn_like_\"+samp_list[i]+\"_\"+MARKER+\".xlsx\"\n",
    "writer = pd.ExcelWriter(fname, engine='xlsxwriter')\n",
    "\n",
    "results.to_excel(writer, \"significant\")\n",
    "\n",
    "results[(results[\"gene\"].isin(tf_list))].to_excel(writer, \"transcrip° factor\")\n",
    "\n",
    "\n",
    "for j in range(len(diseases)):\n",
    "    pd.DataFrame([diseases[j]]).to_excel(writer, \"GWAS\", startrow=0, startcol = j*4, header = False, index = False)\n",
    "    results[(results[\"gene\"].isin(GWAS[diseases[j]]))][['gene', 'dot product']].to_excel(writer, \n",
    "        \"GWAS\", startrow=1, startcol = j*4)\n",
    "j += 1\n",
    "subsetted = results[(results[\"qval\"]<pvt) & (abs(results['dot product']) > fct)][['gene', 'dot product']]\n",
    "subsetted['GWAS'] = sum([(subsetted['gene'].isin(GWAS[k])) for k in GWAS.keys()])\n",
    "subsetted[subsetted.GWAS >= 2][['gene', 'dot product']].to_excel(writer, \n",
    "        \"GWAS\", startrow=1, startcol = j*4)\n",
    "\n",
    "pd.DataFrame([\"UP : More accessible in N6 D2-D3\"]).to_excel(writer, \"ATAC\", startrow=0, startcol = 0, header = False, index = False)\n",
    "atacD2_D3[atacD2_D3.gene.isin(deg_up)].to_excel(writer, \"ATAC\", startrow=1, startcol=0)\n",
    "pd.DataFrame([\"UP : More accessible in N6 D2-D3-D7\"]).to_excel(writer, \"ATAC\", startrow=0, startcol = 9, header = False, index = False)\n",
    "atacD2_D3_D7[atacD2_D3_D7.gene.isin(deg_up)].to_excel(writer, \"ATAC\", startrow=1, startcol=9)\n",
    "M = max( len(atacD2_D3[atacD2_D3.gene.isin(deg_up)]), len(atacD2_D3_D7[atacD2_D3_D7.gene.isin(deg_up)]) )\n",
    "pd.DataFrame([\"DOWN : More accessible in N6 D2-D3\"]).to_excel(writer, \"ATAC\", startrow=3+M, startcol = 0, header = False, index = False)\n",
    "atacD2_D3[atacD2_D3.gene.isin(deg_down)].to_excel(writer, \"ATAC\", startrow=1, startcol=4+M)\n",
    "pd.DataFrame([\"DOWN : More accessible in N6 D2-D3-D7\"]).to_excel(writer, \"ATAC\", startrow=3+M, startcol = 9, header = False, index = False)\n",
    "atacD2_D3_D7[atacD2_D3_D7.gene.isin(deg_down)].to_excel(writer, \"ATAC\", startrow=1, startcol=4+M)\n",
    "\n",
    "writer.save()"
   ]
  }
 ],
 "metadata": {
  "interpreter": {
   "hash": "1fd198094d18c1f6e835bbc10f230f9f1bc4929522b005bc69d9b1e47e35dda8"
  },
  "kernelspec": {
   "display_name": "Python 3.8.13 64-bit",
   "language": "python",
   "name": "python3"
  },
  "language_info": {
   "codemirror_mode": {
    "name": "ipython",
    "version": 3
   },
   "file_extension": ".py",
   "mimetype": "text/x-python",
   "name": "python",
   "nbconvert_exporter": "python",
   "pygments_lexer": "ipython3",
   "version": "3.8.13"
  },
  "toc": {
   "base_numbering": "0",
   "nav_menu": {},
   "number_sections": true,
   "sideBar": true,
   "skip_h1_title": false,
   "title_cell": "Table of Contents",
   "title_sidebar": "Contents",
   "toc_cell": false,
   "toc_position": {
    "height": "calc(100% - 180px)",
    "left": "10px",
    "top": "150px",
    "width": "302px"
   },
   "toc_section_display": true,
   "toc_window_display": true
  },
  "varInspector": {
   "cols": {
    "lenName": 16,
    "lenType": 16,
    "lenVar": 40
   },
   "kernels_config": {
    "python": {
     "delete_cmd_postfix": "",
     "delete_cmd_prefix": "del ",
     "library": "var_list.py",
     "varRefreshCmd": "print(var_dic_list())"
    },
    "r": {
     "delete_cmd_postfix": ") ",
     "delete_cmd_prefix": "rm(",
     "library": "var_list.r",
     "varRefreshCmd": "cat(var_dic_list()) "
    }
   },
   "types_to_exclude": [
    "module",
    "function",
    "builtin_function_or_method",
    "instance",
    "_Feature"
   ],
   "window_display": false
  }
 },
 "nbformat": 4,
 "nbformat_minor": 2
}
