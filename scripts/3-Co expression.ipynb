{
 "cells": [
  {
   "cell_type": "markdown",
   "metadata": {},
   "source": [
    "# scRNA-seq: B lymphocytes treated with a novel IL-10 inducer\n",
    "\n",
    "## --- Differential expression ---"
   ]
  },
  {
   "cell_type": "markdown",
   "metadata": {},
   "source": [
    "## Table of contents:\n",
    "\n",
    "  * <a href=#Reading>1 Reading in the data</a>\n",
    "  * <a href=#Preprocessing>2 Pre-processing and visualization</a>\n",
    "    * <a href=#QC>2.1 Quality Control</a>"
   ]
  },
  {
   "cell_type": "markdown",
   "metadata": {},
   "source": [
    "# 0. Loading the libraries\n",
    "\n",
    "[Timing: 50s]"
   ]
  },
  {
   "cell_type": "code",
   "execution_count": 9,
   "metadata": {
    "scrolled": false
   },
   "outputs": [],
   "source": [
    "import scanpy as sc\n",
    "import numpy as np\n",
    "import pandas as pd\n",
    "import matplotlib.pyplot as plt\n",
    "from matplotlib import colors\n",
    "import seaborn as sb\n",
    "import gseapy as gp\n",
    "from gseapy.plot import barplot, dotplot\n",
    "\n",
    "from pyorthomap import findOrthologsHsMm\n",
    "#import diffxpy.api as de\n",
    "#from bioinfokit import analys, visuz\n",
    "#import xlsxwriter\n",
    "\n",
    "import normalisr.normalisr as norm\n",
    "import statsmodels\n",
    "from adjustText import adjust_text\n",
    "\n",
    "from itertools import compress\n",
    "\n",
    "import pickle\n",
    "\n",
    "def save_object(obj, filename):\n",
    "    with open(filename, 'wb') as outp:  # Overwrites any existing file.\n",
    "        pickle.dump(obj, outp, pickle.HIGHEST_PROTOCOL)"
   ]
  },
  {
   "cell_type": "code",
   "execution_count": 2,
   "metadata": {},
   "outputs": [],
   "source": [
    "plt.rcParams['figure.figsize']=(8,8) #rescale figures\n",
    "sc.settings.verbosity = 3"
   ]
  },
  {
   "cell_type": "markdown",
   "metadata": {},
   "source": [
    "# 1. Reading in the data"
   ]
  },
  {
   "cell_type": "code",
   "execution_count": 3,
   "metadata": {},
   "outputs": [],
   "source": [
    "# Load the pre-processed data\n",
    "\n",
    "with open('saved_objects/adata_annotated.pkl', 'rb') as inp:\n",
    "    adata = pickle.load(inp)"
   ]
  },
  {
   "cell_type": "code",
   "execution_count": 4,
   "metadata": {},
   "outputs": [],
   "source": [
    "diseases = [\"ms\", \"pr\", \"crohn\", \"t1d\", \"sle\"]\n",
    "GWAS_tmp = []\n",
    "\n",
    "for disease in diseases:\n",
    "    gwas_file = \"GWAS/\"+disease+\".tsv\"\n",
    "    gwas_list = pd.read_csv(gwas_file, header = 0, sep = \"\\t\")[[\"REPORTED GENE(S)\", \"PVALUE_MLOG\"]]\n",
    "    genes = []\n",
    "    for gene in gwas_list[\"REPORTED GENE(S)\"].tolist():\n",
    "        if str(gene) not in ['nan', 'intergenic', 'NR', 'Intergenic']:\n",
    "            if len(gene.split(',')) == 1:\n",
    "                genes.append(gene)\n",
    "            else:\n",
    "                genes.append(gene.split(',')[0])\n",
    "    GWAS_tmp.append(list(set(genes)))"
   ]
  },
  {
   "cell_type": "code",
   "execution_count": 12,
   "metadata": {},
   "outputs": [
    {
     "data": {
      "application/vnd.jupyter.widget-view+json": {
       "model_id": "0a9a314de1334e8ea3efbd934ee7684c",
       "version_major": 2,
       "version_minor": 0
      },
      "text/plain": [
       "  0%|          | 0/2 [00:00<?, ?it/s]"
      ]
     },
     "metadata": {},
     "output_type": "display_data"
    },
    {
     "data": {
      "application/vnd.jupyter.widget-view+json": {
       "model_id": "a6018d34aed34c6eb10a705b56a6ed21",
       "version_major": 2,
       "version_minor": 0
      },
      "text/plain": [
       "  0%|          | 0/2 [00:00<?, ?it/s]"
      ]
     },
     "metadata": {},
     "output_type": "display_data"
    },
    {
     "data": {
      "application/vnd.jupyter.widget-view+json": {
       "model_id": "af68647667194f9691255eed462c3f04",
       "version_major": 2,
       "version_minor": 0
      },
      "text/plain": [
       "  0%|          | 0/2 [00:00<?, ?it/s]"
      ]
     },
     "metadata": {},
     "output_type": "display_data"
    },
    {
     "data": {
      "application/vnd.jupyter.widget-view+json": {
       "model_id": "cfe649859580475884a55c8b42a81227",
       "version_major": 2,
       "version_minor": 0
      },
      "text/plain": [
       "  0%|          | 0/1 [00:00<?, ?it/s]"
      ]
     },
     "metadata": {},
     "output_type": "display_data"
    },
    {
     "data": {
      "application/vnd.jupyter.widget-view+json": {
       "model_id": "b2c19fd069dd4a7e8c156e42afc999d2",
       "version_major": 2,
       "version_minor": 0
      },
      "text/plain": [
       "  0%|          | 0/2 [00:00<?, ?it/s]"
      ]
     },
     "metadata": {},
     "output_type": "display_data"
    }
   ],
   "source": [
    "def replace(x):\n",
    "    if len(x.tolist()) == 1:\n",
    "        if x.tolist()[0] != x.tolist()[0]:\n",
    "            return \"NA\"\n",
    "        else:\n",
    "            return(x.tolist()[0])\n",
    "    else:\n",
    "        return \"NA\"\n",
    "\n",
    "def convert_genes(lgenes):\n",
    "    translated = findOrthologsHsMm(from_filters = 'hgnc_symbol',\n",
    "                  from_values = lgenes).map()\n",
    "    return [replace(translated[translated.external_gene_name == e][\"external_gene_name\"]) for e in adata.var['gene_name']]\n",
    "\n",
    "GWAS = {}\n",
    "for i in range(len(diseases)):\n",
    "    GWAS[diseases[i]] = convert_genes(GWAS_tmp[i])\n",
    "\n",
    "# add sp140\n",
    "GWAS['crohn'].extend(['Sp140', 'Sp110'])\n",
    "GWAS['ms'].extend(['Sp140'])\n",
    "GWAS['pr'].extend(['Sp140'])"
   ]
  },
  {
   "cell_type": "code",
   "execution_count": 13,
   "metadata": {},
   "outputs": [],
   "source": [
    "tf_file1 = 'files/mm_mgi_tfs.txt'\n",
    "tf_list1 = pd.read_table(tf_file1, delimiter='\\t', header=None).rename(columns={0:\"Symbol\"})\n",
    "tf_file2 = 'files/Mus_musculus_TF.txt'\n",
    "tf_list2 = pd.read_table(tf_file2, delimiter='\\t')\n",
    "tf_list = pd.concat([tf_list1,tf_list2]).drop_duplicates().reset_index(drop=True).Symbol"
   ]
  },
  {
   "cell_type": "code",
   "execution_count": 15,
   "metadata": {},
   "outputs": [],
   "source": [
    "atacD2_D3 = pd.read_table(\"files/D2_D3_DARs_GeneMerged.txt\", sep = \"\\t\")\n",
    "atacD2_D3 = atacD2_D3[[\"GeneSymbol\", \"annotation\"]]\n",
    "atacD2_D3.columns = ['gene', 'annotation']\n",
    "\n",
    "atacD2_D3_D7 = pd.read_table(\"files/D2_D3_D7_DARs_GeneMerged.txt\", sep = \"\\t\")\n",
    "atacD2_D3_D7 = atacD2_D3_D7[[\"GeneSymbol\", \"annotation\"]]\n",
    "atacD2_D3_D7.columns = ['gene', 'annotation']"
   ]
  },
  {
   "cell_type": "markdown",
   "metadata": {},
   "source": [
    "## 2 Marker Co-expression"
   ]
  },
  {
   "cell_type": "markdown",
   "metadata": {},
   "source": [
    "## 2.1 IL-10"
   ]
  },
  {
   "cell_type": "code",
   "execution_count": 16,
   "metadata": {},
   "outputs": [],
   "source": [
    "MARKER = \"Il10\""
   ]
  },
  {
   "cell_type": "code",
   "execution_count": 17,
   "metadata": {},
   "outputs": [],
   "source": [
    "# Inputs for normalisr\n",
    "\n",
    "dt0 = adata.raw.X[:, [not(gene.startswith((\"mt-\", 'Rps', \"Rpl\"))) for gene in adata.var['gene_name']]].T\n",
    "dc0 = np.array(adata.obs[[\"n_counts\", \"n_genes\"]]).T"
   ]
  },
  {
   "cell_type": "code",
   "execution_count": 18,
   "metadata": {},
   "outputs": [],
   "source": [
    "# Normalisation for normalisr\n",
    "dt,_,_,dc2 = norm.lcpm(dt0)\n",
    "dc=np.concatenate([dc0,dc2],axis=0)\n",
    "dc=norm.normcov(dc)\n",
    "sf=norm.scaling_factor(dt0)\n",
    "weight=norm.compute_var(dt,dc)\n",
    "dt,dc=norm.normvar(dt,dc,weight,sf)"
   ]
  },
  {
   "cell_type": "code",
   "execution_count": 19,
   "metadata": {},
   "outputs": [],
   "source": [
    "filt = [not(gene.startswith((\"mt-\", 'Rps', \"Rpl\"))) for gene in adata.var['gene_name']]\n",
    "gene_names = adata.var.gene_name[filt]"
   ]
  },
  {
   "cell_type": "code",
   "execution_count": 22,
   "metadata": {},
   "outputs": [
    {
     "name": "stdout",
     "output_type": "stream",
     "text": [
      "NAIVE-0h\n"
     ]
    },
    {
     "ename": "KeyboardInterrupt",
     "evalue": "",
     "output_type": "error",
     "traceback": [
      "\u001b[0;31m---------------------------------------------------------------------------\u001b[0m",
      "\u001b[0;31mKeyboardInterrupt\u001b[0m                         Traceback (most recent call last)",
      "\u001b[1;32m/workspaces/sc_tuto_u/scripts_publi/3-Co expression.ipynb Cell 18'\u001b[0m in \u001b[0;36m<cell line: 5>\u001b[0;34m()\u001b[0m\n\u001b[1;32m      <a href='vscode-notebook-cell://dev-container%2B5c5c77736c245c5562756e74755c686f6d655c6775696c6c5f755c73635f7475746f5f75/workspaces/sc_tuto_u/scripts_publi/3-Co%20expression.ipynb#ch0000020vscode-remote?line=8'>9</a>\u001b[0m dt_samp \u001b[39m=\u001b[39m dt[:, adata\u001b[39m.\u001b[39mobs[\u001b[39m'\u001b[39m\u001b[39msample2\u001b[39m\u001b[39m'\u001b[39m] \u001b[39m==\u001b[39m samp]\n\u001b[1;32m     <a href='vscode-notebook-cell://dev-container%2B5c5c77736c245c5562756e74755c686f6d655c6775696c6c5f755c73635f7475746f5f75/workspaces/sc_tuto_u/scripts_publi/3-Co%20expression.ipynb#ch0000020vscode-remote?line=9'>10</a>\u001b[0m dc_samp \u001b[39m=\u001b[39m dc[:, adata\u001b[39m.\u001b[39mobs[\u001b[39m'\u001b[39m\u001b[39msample2\u001b[39m\u001b[39m'\u001b[39m] \u001b[39m==\u001b[39m samp]\n\u001b[0;32m---> <a href='vscode-notebook-cell://dev-container%2B5c5c77736c245c5562756e74755c686f6d655c6775696c6c5f755c73635f7475746f5f75/workspaces/sc_tuto_u/scripts_publi/3-Co%20expression.ipynb#ch0000020vscode-remote?line=11'>12</a>\u001b[0m co \u001b[39m=\u001b[39m norm\u001b[39m.\u001b[39;49mcoex(dt_samp, dc_samp)\n\u001b[1;32m     <a href='vscode-notebook-cell://dev-container%2B5c5c77736c245c5562756e74755c686f6d655c6775696c6c5f755c73635f7475746f5f75/workspaces/sc_tuto_u/scripts_publi/3-Co%20expression.ipynb#ch0000020vscode-remote?line=12'>13</a>\u001b[0m co_pval \u001b[39m=\u001b[39m pd\u001b[39m.\u001b[39mDataFrame(co[\u001b[39m0\u001b[39m], index \u001b[39m=\u001b[39m gene_names, columns \u001b[39m=\u001b[39m gene_names)\n\u001b[1;32m     <a href='vscode-notebook-cell://dev-container%2B5c5c77736c245c5562756e74755c686f6d655c6775696c6c5f755c73635f7475746f5f75/workspaces/sc_tuto_u/scripts_publi/3-Co%20expression.ipynb#ch0000020vscode-remote?line=13'>14</a>\u001b[0m co_mean \u001b[39m=\u001b[39m pd\u001b[39m.\u001b[39mDataFrame(co[\u001b[39m1\u001b[39m], index \u001b[39m=\u001b[39m gene_names, columns \u001b[39m=\u001b[39m gene_names)\n",
      "File \u001b[0;32m/opt/python/lib/python3.8/site-packages/normalisr/coex.py:47\u001b[0m, in \u001b[0;36mcoex\u001b[0;34m(dt, dc, **ka)\u001b[0m\n\u001b[1;32m      5\u001b[0m \u001b[39m\"\"\"Performs co-expression analyses for all gene pairs.\u001b[39;00m\n\u001b[1;32m      6\u001b[0m \n\u001b[1;32m      7\u001b[0m \u001b[39mPerforms parallel computation with multiple processes on the same machine.\u001b[39;00m\n\u001b[0;32m   (...)\u001b[0m\n\u001b[1;32m     44\u001b[0m \n\u001b[1;32m     45\u001b[0m \u001b[39m\"\"\"\u001b[39;00m\n\u001b[1;32m     46\u001b[0m \u001b[39mfrom\u001b[39;00m \u001b[39m.\u001b[39;00m\u001b[39massociation\u001b[39;00m \u001b[39mimport\u001b[39;00m association_tests\n\u001b[0;32m---> 47\u001b[0m ans \u001b[39m=\u001b[39m association_tests(dt, \u001b[39mNone\u001b[39;49;00m, dc, \u001b[39m*\u001b[39;49m\u001b[39m*\u001b[39;49mka)\n\u001b[1;32m     48\u001b[0m \u001b[39mreturn\u001b[39;00m (ans[\u001b[39m0\u001b[39m], ans[\u001b[39m1\u001b[39m], ans[\u001b[39m4\u001b[39m])\n",
      "File \u001b[0;32m/opt/python/lib/python3.8/site-packages/normalisr/association.py:997\u001b[0m, in \u001b[0;36massociation_tests\u001b[0;34m(dx, dy, dc, bsx, bsy, nth, lowmem, return_dot, single, bs4, **ka)\u001b[0m\n\u001b[1;32m    994\u001b[0m \u001b[39melse\u001b[39;00m:\n\u001b[1;32m    995\u001b[0m \t\u001b[39massert\u001b[39;00m \u001b[39mFalse\u001b[39;00m\n\u001b[0;32m--> 997\u001b[0m ans0 \u001b[39m=\u001b[39m autopooler(nth, it0, dummy\u001b[39m=\u001b[39;49misdummy)\n\u001b[1;32m    998\u001b[0m \u001b[39massert\u001b[39;00m \u001b[39mlen\u001b[39m(ans0) \u001b[39m>\u001b[39m \u001b[39m0\u001b[39m\n\u001b[1;32m    999\u001b[0m \u001b[39mif\u001b[39;00m single \u001b[39m==\u001b[39m \u001b[39m0\u001b[39m:\n",
      "File \u001b[0;32m/opt/python/lib/python3.8/site-packages/normalisr/parallel.py:59\u001b[0m, in \u001b[0;36mautopooler\u001b[0;34m(n, it, chunksize, dummy, return_iter, unordered, *a, **ka)\u001b[0m\n\u001b[1;32m     57\u001b[0m \tans \u001b[39m=\u001b[39m \u001b[39mmap\u001b[39m(autopooler_caller, it)\n\u001b[1;32m     58\u001b[0m \t\u001b[39mif\u001b[39;00m \u001b[39mnot\u001b[39;00m return_iter:\n\u001b[0;32m---> 59\u001b[0m \t\tans \u001b[39m=\u001b[39m \u001b[39mlist\u001b[39;49m(ans)\n\u001b[1;32m     60\u001b[0m \t\t\u001b[39massert\u001b[39;00m \u001b[39mlen\u001b[39m(ans) \u001b[39m>\u001b[39m \u001b[39m0\u001b[39m\n\u001b[1;32m     61\u001b[0m \u001b[39melse\u001b[39;00m:\n",
      "File \u001b[0;32m/opt/python/lib/python3.8/site-packages/normalisr/parallel.py:9\u001b[0m, in \u001b[0;36mautopooler_caller\u001b[0;34m(a)\u001b[0m\n\u001b[1;32m      8\u001b[0m \u001b[39mdef\u001b[39;00m \u001b[39mautopooler_caller\u001b[39m(a):\n\u001b[0;32m----> 9\u001b[0m \t\u001b[39mreturn\u001b[39;00m a[\u001b[39m0\u001b[39;49m](\u001b[39m*\u001b[39;49ma[\u001b[39m1\u001b[39;49m], \u001b[39m*\u001b[39;49m\u001b[39m*\u001b[39;49ma[\u001b[39m2\u001b[39;49m])\n",
      "File \u001b[0;32m/opt/python/lib/python3.8/site-packages/normalisr/association.py:249\u001b[0m, in \u001b[0;36massociation_test_1\u001b[0;34m(vx, vy, dx, dy, dc, dci, dcr, dimreduce, lowmem)\u001b[0m\n\u001b[1;32m    247\u001b[0m \u001b[39m# Compute p-values\u001b[39;00m\n\u001b[1;32m    248\u001b[0m \u001b[39massert\u001b[39;00m (ansp \u001b[39m>\u001b[39m\u001b[39m=\u001b[39m \u001b[39m0\u001b[39m)\u001b[39m.\u001b[39mall() \u001b[39mand\u001b[39;00m (ansp \u001b[39m<\u001b[39m\u001b[39m=\u001b[39m \u001b[39m1\u001b[39m \u001b[39m+\u001b[39m \u001b[39m1E-8\u001b[39m)\u001b[39m.\u001b[39mall()\n\u001b[0;32m--> 249\u001b[0m ansp \u001b[39m=\u001b[39m beta\u001b[39m.\u001b[39;49mcdf(\u001b[39m1\u001b[39;49m \u001b[39m-\u001b[39;49m ansp, (n \u001b[39m-\u001b[39;49m \u001b[39m1\u001b[39;49m \u001b[39m-\u001b[39;49m dcr \u001b[39m-\u001b[39;49m dimreduce) \u001b[39m/\u001b[39;49m \u001b[39m2\u001b[39;49m, \u001b[39m0.5\u001b[39;49m)\n\u001b[1;32m    250\u001b[0m \u001b[39massert\u001b[39;00m ansp\u001b[39m.\u001b[39mshape \u001b[39m==\u001b[39m (nx, ny) \u001b[39mand\u001b[39;00m ansc\u001b[39m.\u001b[39mshape \u001b[39m==\u001b[39m (nx, ny) \u001b[39mand\u001b[39;00m ansvx\u001b[39m.\u001b[39mshape \u001b[39m==\u001b[39m (\n\u001b[1;32m    251\u001b[0m \tnx, ) \u001b[39mand\u001b[39;00m ansvy\u001b[39m.\u001b[39mshape \u001b[39m==\u001b[39m (ny, )\n\u001b[1;32m    252\u001b[0m \u001b[39massert\u001b[39;00m np\u001b[39m.\u001b[39misfinite(ansp)\u001b[39m.\u001b[39mall() \u001b[39mand\u001b[39;00m np\u001b[39m.\u001b[39misfinite(ansc)\u001b[39m.\u001b[39mall() \u001b[39mand\u001b[39;00m np\u001b[39m.\u001b[39misfinite(\n\u001b[1;32m    253\u001b[0m \tansvx)\u001b[39m.\u001b[39mall() \u001b[39mand\u001b[39;00m np\u001b[39m.\u001b[39misfinite(ansvy)\u001b[39m.\u001b[39mall()\n",
      "File \u001b[0;32m/opt/python/lib/python3.8/site-packages/scipy/stats/_distn_infrastructure.py:1997\u001b[0m, in \u001b[0;36mrv_continuous.cdf\u001b[0;34m(self, x, *args, **kwds)\u001b[0m\n\u001b[1;32m   1995\u001b[0m \u001b[39mif\u001b[39;00m np\u001b[39m.\u001b[39many(cond):  \u001b[39m# call only if at least 1 entry\u001b[39;00m\n\u001b[1;32m   1996\u001b[0m     goodargs \u001b[39m=\u001b[39m argsreduce(cond, \u001b[39m*\u001b[39m((x,)\u001b[39m+\u001b[39margs))\n\u001b[0;32m-> 1997\u001b[0m     place(output, cond, \u001b[39mself\u001b[39;49m\u001b[39m.\u001b[39;49m_cdf(\u001b[39m*\u001b[39;49mgoodargs))\n\u001b[1;32m   1998\u001b[0m \u001b[39mif\u001b[39;00m output\u001b[39m.\u001b[39mndim \u001b[39m==\u001b[39m \u001b[39m0\u001b[39m:\n\u001b[1;32m   1999\u001b[0m     \u001b[39mreturn\u001b[39;00m output[()]\n",
      "File \u001b[0;32m/opt/python/lib/python3.8/site-packages/scipy/stats/_continuous_distns.py:616\u001b[0m, in \u001b[0;36mbeta_gen._cdf\u001b[0;34m(self, x, a, b)\u001b[0m\n\u001b[1;32m    615\u001b[0m \u001b[39mdef\u001b[39;00m \u001b[39m_cdf\u001b[39m(\u001b[39mself\u001b[39m, x, a, b):\n\u001b[0;32m--> 616\u001b[0m     \u001b[39mreturn\u001b[39;00m _boost\u001b[39m.\u001b[39;49m_beta_cdf(x, a, b)\n",
      "\u001b[0;31mKeyboardInterrupt\u001b[0m: "
     ]
    }
   ],
   "source": [
    "a = 0.99999999999999\n",
    "coex_list = []\n",
    "samp_list = ['NAIVE-0h', 'DMSO-2h', 'DMSO-24h', 'DMSO-48h', 'DMSO-d7', 'N6-2h', 'N6-24h' , 'N6-48h', \"N6-d7\"]\n",
    "\n",
    "for samp in samp_list: \n",
    "\n",
    "    print(samp)\n",
    "\n",
    "    dt_samp = dt[:, adata.obs['sample2'] == samp]\n",
    "    dc_samp = dc[:, adata.obs['sample2'] == samp]\n",
    "\n",
    "    co = norm.coex(dt_samp, dc_samp)\n",
    "    co_pval = pd.DataFrame(co[0], index = gene_names, columns = gene_names)\n",
    "    co_mean = pd.DataFrame(co[1], index = gene_names, columns = gene_names)\n",
    "\n",
    "    bi = norm.binnet(co[0], a)\n",
    "    bi_ = pd.DataFrame(bi, index = gene_names, columns = gene_names)\n",
    "\n",
    "    sig_pval = co_pval[MARKER][bi_[MARKER]]\n",
    "    sig_mean = co_mean[MARKER][bi_[MARKER]]\n",
    "\n",
    "    res = pd.DataFrame({\"pval\" : sig_pval, \"mean\" : sig_mean})\n",
    "    coex_list.append(res)\n"
   ]
  },
  {
   "cell_type": "code",
   "execution_count": null,
   "metadata": {},
   "outputs": [
    {
     "name": "stdout",
     "output_type": "stream",
     "text": [
      "NAIVE-0h\n",
      "DMSO-2h\n",
      "DMSO-24h\n",
      "DMSO-48h\n",
      "DMSO-d7\n",
      "N6-2h\n",
      "N6-24h\n",
      "N6-48h\n",
      "N6-d7\n"
     ]
    }
   ],
   "source": [
    "coex_result = []\n",
    "\n",
    "for i in range(len(coex_list)):\n",
    "    print(samp_list[i])\n",
    "\n",
    "    results = coex_list[i]\n",
    "    results[\"qval\"] = list(statsmodels.stats.multitest.multipletests(list(results[\"pval\"]), method='fdr_bh', is_sorted=False, returnsorted=False)[1])\n",
    "    results[\"gene\"] = gene_names\n",
    "    results = results[['gene', 'pval', 'qval', 'mean']]\n",
    "\n",
    "    results = results.sort_values(by=\"qval\", ascending=True)\n",
    "    results.reset_index(drop=True, inplace=True)\n",
    "    results.index.name = 'pval rank'\n",
    "    results = results.sort_values(by=\"mean\", ascending=False)\n",
    "\n",
    "    coex_result.append(results)"
   ]
  },
  {
   "cell_type": "code",
   "execution_count": null,
   "metadata": {},
   "outputs": [],
   "source": [
    "save_object(coex_result, \"saved_objects/coex_list.pkl\")"
   ]
  },
  {
   "cell_type": "code",
   "execution_count": null,
   "metadata": {},
   "outputs": [],
   "source": [
    "with open('saved_objects/coex_list.pkl', 'rb') as inp:\n",
    "    coex_result = pickle.load(inp)\n",
    "\n",
    "samp_list = ['NAIVE-0h', 'DMSO-2h', 'DMSO-24h', 'DMSO-48h', 'DMSO-d7', 'N6-2h', 'N6-24h' , 'N6-48h', \"N6-d7\"]"
   ]
  },
  {
   "cell_type": "code",
   "execution_count": null,
   "metadata": {},
   "outputs": [],
   "source": [
    "qthresholds = []\n",
    "\n",
    "for res in range(len(coex_result)):\n",
    "\n",
    "    result = coex_result[res]\n",
    "    d = result.qval.tolist()\n",
    "    d = [-np.log10(e) for e in d]\n",
    "    h, e = np.histogram(d, bins = range(0, 310, 1))\n",
    "\n",
    "    i = 0\n",
    "    while i < len(h):\n",
    "        if h[i]+h[i+1]+h[i+2]+h[i+3]+h[i+4] < 150:\n",
    "            q = e[i]\n",
    "            qthresholds.append(10.0**(-q))\n",
    "            i = len(h)\n",
    "        i+=5"
   ]
  },
  {
   "cell_type": "code",
   "execution_count": null,
   "metadata": {},
   "outputs": [],
   "source": [
    "def coex_plot(result, name, a, b):\n",
    "\n",
    "    result['mean'] = [np.log2(e) if e > 0 else -np.log2(-e) for e in result['mean']]\n",
    "\n",
    "    result['color'] = \"grey\" # intermediate\n",
    "    result.loc[(result['mean'] >= b) & (result['qval'] < a), 'color'] = \"red\"  # upregulated\n",
    "    result.loc[(result['mean'] <= -b) & (result['qval'] < a), 'color'] = \"green\"  # downregulated\n",
    "\n",
    "    # replace 0 P-value with lowest non-zero P-value\n",
    "    smallest = result[result.qval>0].sort_values(\"qval\", ascending=True).iloc[0, 2]\n",
    "    result[\"qval\"] = [max(e, smallest) for e in result[\"qval\"]]\n",
    "    result['logqv'] = -(np.log10(result['qval']))\n",
    "\n",
    "    plt.style.use('seaborn-whitegrid')\n",
    "    plt.scatter(result['mean'], result['logqv'], c=result['color'], alpha=0.5)\n",
    "    plt.title('qval<10^(-'+str(int(-np.log10(a)))+'), mean>'+str(b), fontsize=18, fontname='arial', loc='center', fontweight='bold')\n",
    "    plt.xlabel('Dot Expression',fontsize=15, fontname=\"arial\", fontweight=\"normal\")\n",
    "    plt.ylabel('-Log10 Q-Value', fontsize=15, fontname=\"arial\", fontweight=\"normal\")\n",
    "    plt.xticks(fontsize=12, fontname=\"arial\")\n",
    "    plt.yticks(fontsize=12, fontname=\"arial\")\n",
    "    xmax = max(abs(result[result.logqv > 5]['mean'])) * 1.2\n",
    "    plt.xlim((-xmax, xmax))\n",
    "    plt.ylim(top = max([max(result['logqv']) * 1.25, 10]), bottom = 0)\n",
    "\n",
    "    # Add gene labels\n",
    "    texts = []\n",
    "    res2label = result.loc[(result['qval'] < a) & (abs(result['mean']) >= b)]\n",
    "\n",
    "    if len(res2label)>0:\n",
    "        thresh_p = res2label.sort_values(\"logqv\", ascending=False).iloc[min(len(res2label)-1, 90), 5]\n",
    "        if thresh_p < -np.log10(a) : thresh_p = -np.log10(a)\n",
    "        if sum(res2label.logqv >= thresh_p) > 100:\n",
    "            thresh_mean = abs(res2label.sort_values(by=\"mean\", key = abs, ascending=False).iloc[min(len(res2label)-1, 90), 3])\n",
    "        else:\n",
    "            thresh_mean = b\n",
    "        if abs(thresh_mean) < b : thresh_fc = b\n",
    "\n",
    "        if sum((res2label.logqv >= thresh_p) & (abs(res2label['mean']) >= thresh_mean)) < 100:\n",
    "\n",
    "            for j in range(len(res2label.gene)):\n",
    "\n",
    "                scolor = 'black'\n",
    "                #if res2label.iloc[j, 0] in ['Xbp1', 'Irf4', 'Prdm1'] : scolor = \"orange\"\n",
    "\n",
    "                if ((res2label.iloc[j, 5] >= thresh_p) & (abs(res2label.iloc[j, 3]) >= thresh_mean)):\n",
    "                    texts.append(plt.text(res2label.iloc[j, 3], res2label.iloc[j, 5], res2label.iloc[j, 0], color=scolor))\n",
    "\n",
    "            adjust_text(texts, #force_points=1, #force_text=2,\n",
    "                        arrowprops=dict(arrowstyle=\"-\", color=\"black\", lw=0.5))\n",
    "    \n",
    "    plt.savefig(\"volcano_plots/coex_\"+name+\"_\"+MARKER+\".png\", format='png', bbox_inches='tight', dpi=300)\n",
    "    plt.close()"
   ]
  },
  {
   "cell_type": "code",
   "execution_count": null,
   "metadata": {},
   "outputs": [
    {
     "name": "stdout",
     "output_type": "stream",
     "text": [
      "NAIVE-0h\n",
      "DMSO-2h\n",
      "DMSO-24h\n",
      "DMSO-48h\n",
      "DMSO-d7\n",
      "N6-2h\n",
      "N6-24h\n",
      "N6-48h\n",
      "N6-d7\n"
     ]
    }
   ],
   "source": [
    "results_copy = coex_result[:]\n",
    "fct = 2 # expression threshold\n",
    "plt.rcParams['figure.figsize']=(8,8) #rescale figures\n",
    "\n",
    "for i in range(len(samp_list)):\n",
    "    print(samp_list[i])\n",
    "    pvt = qthresholds[i] # p value threshold\n",
    "\n",
    "    results_copy[i] = results_copy[i].dropna()\n",
    "    coex_plot(results_copy[i], samp_list[i], pvt, fct)"
   ]
  },
  {
   "cell_type": "code",
   "execution_count": null,
   "metadata": {},
   "outputs": [
    {
     "name": "stdout",
     "output_type": "stream",
     "text": [
      "NAIVE-0h\n",
      "DMSO-2h\n",
      "DMSO-24h\n",
      "DMSO-48h\n",
      "DMSO-d7\n",
      "N6-2h\n",
      "N6-24h\n",
      "N6-48h\n",
      "N6-d7\n"
     ]
    }
   ],
   "source": [
    "for i in range(len(samp_list)):\n",
    "\n",
    "    print(samp_list[i])\n",
    "    results = coex_result[i]\n",
    "    pvt = qthresholds[i] # p value threshold\n",
    "\n",
    "    deg = results[(results.qval < pvt) & (abs(results['mean']) > fct)].gene.tolist()\n",
    "    deg_up = results[(results.qval < pvt) & (results['mean'] > fct)].gene.tolist()\n",
    "    deg_down = results[(results.qval < pvt) & (results['mean'] < -fct)].gene.tolist()\n",
    "    deg = [item for item in deg if item==item]\n",
    "\n",
    "    if len(deg) > 20:\n",
    "        enr = gp.enrichr(gene_list=deg,\n",
    "                        gene_sets=['GO_Biological_Process_2021'], #, 'GO_Biological_Process_2021', 'GO_Molecular_Function_2021', 'GO_Cellular_Component_2021'\n",
    "                        organism='Mouse', \n",
    "                        description='DEGs',\n",
    "                        outdir='enr_plots/enr_DEGs',\n",
    "                        cutoff=0.1,\n",
    "                        format='png',\n",
    "                        background='all_genes'\n",
    "                        )\n",
    "        if sum(enr.res2d['Adjusted P-value'] < 0.1) > 0:\n",
    "            p = dotplot(enr.res2d[enr.res2d['Adjusted P-value'] < 0.1],title=samp_list[i],cmap='viridis_r', column='Combined Score', legend = False, ofname = \"enr_plots/\"+samp_list[i]+\"_\"+MARKER+\".png\")\n",
    "\n",
    "    fname = \"figures/coex_\"+samp_list[i]+\"_\"+MARKER+\".xlsx\"\n",
    "    writer = pd.ExcelWriter(fname, engine='xlsxwriter')\n",
    "    \n",
    "    results.to_excel(writer, \"everything\")\n",
    "    results[results.qval < pvt].to_excel(writer, \"significant\")\n",
    "\n",
    "\n",
    "    TFA = results[(results[\"gene\"].isin(tf_list)) & (results[\"qval\"]<pvt) & (abs(results['mean']) > fct)]\n",
    "    TFA.index = range(len(TFA))\n",
    "    TFB = TFA.reindex(index = range(len(TFA)+1))\n",
    "    TFC = results[(results[\"gene\"].isin(tf_list)) & ~((results[\"qval\"]<pvt) & (abs(results['mean']) > fct))]\n",
    "    pd.concat([TFB, TFC], ignore_index=True).to_excel(writer, \"transcrip° factor\")\n",
    "\n",
    "    for j in range(len(diseases)):\n",
    "        pd.DataFrame([diseases[j]]).to_excel(writer, \"GWAS\", startrow=0, startcol = j*4, header = False, index = False)\n",
    "        results[(results[\"gene\"].isin(GWAS[diseases[j]])) & (results[\"qval\"]<pvt) & (abs(results['mean']) > fct)][['gene', 'mean']].to_excel(writer, \n",
    "            \"GWAS\", startrow=1, startcol = j*4)\n",
    "    j += 1\n",
    "    subsetted = results[(results[\"qval\"]<pvt) & (abs(results['mean']) > fct)][['gene', 'mean']]\n",
    "    subsetted['GWAS'] = sum([(subsetted['gene'].isin(GWAS[k])) for k in GWAS.keys()])\n",
    "    subsetted[subsetted.GWAS >= 2][['gene', 'mean']].to_excel(writer, \n",
    "            \"GWAS\", startrow=1, startcol = j*4)\n",
    "\n",
    "    pd.DataFrame([\"UP : More accessible in N6 D2-D3\"]).to_excel(writer, \"ATAC\", startrow=0, startcol = 0, header = False, index = False)\n",
    "    atacD2_D3[atacD2_D3.gene.isin(deg_up)].to_excel(writer, \"ATAC\", startrow=1, startcol=0)\n",
    "    pd.DataFrame([\"UP : More accessible in N6 D2-D3-D7\"]).to_excel(writer, \"ATAC\", startrow=0, startcol = 9, header = False, index = False)\n",
    "    atacD2_D3_D7[atacD2_D3_D7.gene.isin(deg_up)].to_excel(writer, \"ATAC\", startrow=1, startcol=9)\n",
    "    M = max( len(atacD2_D3[atacD2_D3.gene.isin(deg_up)]), len(atacD2_D3_D7[atacD2_D3_D7.gene.isin(deg_up)]) )\n",
    "    pd.DataFrame([\"DOWN : More accessible in N6 D2-D3\"]).to_excel(writer, \"ATAC\", startrow=3+M, startcol = 0, header = False, index = False)\n",
    "    atacD2_D3[atacD2_D3.gene.isin(deg_down)].to_excel(writer, \"ATAC\", startrow=1, startcol=4+M)\n",
    "    pd.DataFrame([\"DOWN : More accessible in N6 D2-D3-D7\"]).to_excel(writer, \"ATAC\", startrow=3+M, startcol = 9, header = False, index = False)\n",
    "    atacD2_D3_D7[atacD2_D3_D7.gene.isin(deg_down)].to_excel(writer, \"ATAC\", startrow=1, startcol=4+M)\n",
    "\n",
    "    if len(deg) > 20:\n",
    "        enr.results = enr.results[['Term', 'Overlap', 'Adjusted P-value', 'Odds Ratio', 'Combined Score', 'Genes']]\n",
    "        enr.results = enr.results[enr.results['Adjusted P-value'] < 0.1]\n",
    "        enr.results.sort_values(by=\"Combined Score\", ascending=False).to_excel(writer, \"enriched\", index=False)\n",
    "\n",
    "    book = writer.book\n",
    "    imgsheet = book.add_worksheet('Volcano')\n",
    "    imgsheet.insert_image('B2', \"volcano_plots/coex_\"+samp_list[i]+\"_\"+MARKER+\".png\")\n",
    "    imgsheet = book.add_worksheet('Enrichment')\n",
    "    if len(deg) > 20:\n",
    "        if sum(enr.res2d['Adjusted P-value'] < 0.1) > 0:\n",
    "            imgsheet.insert_image('B2', \"enr_plots/\"+samp_list[i]+\"_\"+MARKER+\".png\")\n",
    "\n",
    "    writer.save()"
   ]
  },
  {
   "cell_type": "code",
   "execution_count": null,
   "metadata": {},
   "outputs": [
    {
     "data": {
      "image/png": "[encoded data removed]",
      "text/plain": [
       "<Figure size 720x720 with 3 Axes>"
      ]
     },
     "metadata": {
      "needs_background": "light"
     },
     "output_type": "display_data"
    }
   ],
   "source": [
    "all_genes = adata.var_names\n",
    "hmdata = pd.DataFrame(index=all_genes)\n",
    "\n",
    "for i in range(len(samp_list)):\n",
    "    pvt = qthresholds[i] # p value threshold\n",
    "\n",
    "    hmdata[samp_list[i]] = 0\n",
    "    for gene in coex_result[i][(coex_result[i].qval < pvt) & (coex_result[i]['mean'] > fct)]['gene'].tolist():\n",
    "        hmdata.loc[gene, samp_list[i]] = 1\n",
    "    for gene in coex_result[i][(coex_result[i].qval < pvt) & (coex_result[i]['mean'] < - fct)]['gene'].tolist():\n",
    "        hmdata.loc[gene, samp_list[i]] = -1\n",
    "sig = np.sum(abs(hmdata), axis = 1)\n",
    "hmdata = hmdata[sig > 0]\n",
    "filt = [e == e for e in hmdata.index]\n",
    "hmdata = hmdata[filt]\n",
    "\n",
    "from matplotlib import colors\n",
    "cmap = colors.ListedColormap(['green','grey','red'])\n",
    "plot = sb.clustermap(hmdata, yticklabels=False, vmin = -1, vmax = 1, cmap = cmap, cbar_pos = None)\n",
    "plot.ax_row_dendrogram.set_visible(False)\n",
    "plot.ax_row_dendrogram.set_xlim([0,0])\n",
    "plt.setp(plot.ax_heatmap.xaxis.get_majorticklabels(), rotation=40, va=\"center\", position=(0,-0.06), size = 16)\n",
    "plot.savefig(\"figures/coex_heatmap\"+\"_\"+MARKER+\".png\")"
   ]
  },
  {
   "cell_type": "code",
   "execution_count": null,
   "metadata": {},
   "outputs": [],
   "source": [
    "r24 = pd.read_excel(\"figures/coex_\"+\"N6-24h\"+\"_Il10.xlsx\", sheet_name = \"significant\")\n",
    "r48 = pd.read_excel(\"figures/coex_\"+\"N6-48h\"+\"_Il10.xlsx\", sheet_name = \"significant\")\n",
    "rd7 = pd.read_excel(\"figures/coex_\"+\"N6-d7\"+\"_Il10.xlsx\", sheet_name = \"significant\")\n",
    "dmso = pd.read_excel(\"figures/coex_\"+\"DMSO-48h\"+\"_Il10.xlsx\", sheet_name = \"significant\")\n",
    "inter_res = r48[(r48.gene.isin(r24.gene.tolist())) & (r48.gene.isin(rd7.gene.tolist())) & (~r48.gene.isin(dmso.gene.tolist()))]\n",
    "\n",
    "results = inter_res\n",
    "pvt = qthresholds[7] # p value threshold\n",
    "\n",
    "deg = results[(results.qval < pvt) & (abs(results['mean']) > fct)].gene.tolist()\n",
    "deg_up = results[(results.qval < pvt) & (results['mean'] > fct)].gene.tolist()\n",
    "deg_down = results[(results.qval < pvt) & (results['mean'] < -fct)].gene.tolist()\n",
    "\n",
    "if len(deg) > 10:\n",
    "    enr = gp.enrichr(gene_list=deg,\n",
    "                    gene_sets=['GO_Biological_Process_2021'], #, 'GO_Biological_Process_2021', 'GO_Molecular_Function_2021', 'GO_Cellular_Component_2021'\n",
    "                    organism='Mouse', \n",
    "                    description='DEGs',\n",
    "                    outdir='enr_plots/enr_DEGs',\n",
    "                    cutoff=0.1,\n",
    "                    format='png',\n",
    "                    background='all_genes'\n",
    "                    )\n",
    "    if sum(enr.res2d['Adjusted P-value'] < 0.1) > 0:\n",
    "        p = dotplot(enr.res2d[enr.res2d['Adjusted P-value'] < 0.1],title=\"inter\",cmap='viridis_r', column='Combined Score', legend = False, ofname = \"enr_plots/\"+\"inter\"+\"_\"+MARKER+\".png\")\n",
    "\n",
    "fname = \"figures/coex_\"+\"inter\"+\"_\"+MARKER+\".xlsx\"\n",
    "writer = pd.ExcelWriter(fname, engine='xlsxwriter')\n",
    "\n",
    "results.to_excel(writer, \"everything\")\n",
    "results[results.qval < a].to_excel(writer, \"significant\")\n",
    "\n",
    "\n",
    "TFA = results[(results[\"gene\"].isin(tf_list)) & (results[\"qval\"]<pvt) & (abs(results['mean']) > fct)]\n",
    "TFA.index = range(len(TFA))\n",
    "TFB = TFA.reindex(index = range(len(TFA)+1))\n",
    "TFC = results[(results[\"gene\"].isin(tf_list)) & ~((results[\"qval\"]<pvt) & (abs(results['mean']) > fct))]\n",
    "pd.concat([TFB, TFC], ignore_index=True).to_excel(writer, \"transcrip° factor\")\n",
    "\n",
    "for j in range(len(diseases)):\n",
    "    pd.DataFrame([diseases[j]]).to_excel(writer, \"GWAS\", startrow=0, startcol = j*4, header = False, index = False)\n",
    "    results[(results[\"gene\"].isin(GWAS[diseases[j]])) & (results[\"qval\"]<pvt) & (abs(results['mean']) > fct)][['gene', 'mean']].to_excel(writer, \n",
    "        \"GWAS\", startrow=1, startcol = j*4)\n",
    "j += 1\n",
    "subsetted = results[(results[\"qval\"]<pvt) & (abs(results['mean']) > fct)][['gene', 'mean']]\n",
    "subsetted['GWAS'] = sum([(subsetted['gene'].isin(GWAS[k])) for k in GWAS.keys()])\n",
    "subsetted[subsetted.GWAS >= 2][['gene', 'mean']].to_excel(writer, \n",
    "        \"GWAS\", startrow=1, startcol = j*4)\n",
    "\n",
    "pd.DataFrame([\"UP : More accessible in N6 D2-D3\"]).to_excel(writer, \"ATAC\", startrow=0, startcol = 0, header = False, index = False)\n",
    "atacD2_D3[atacD2_D3.gene.isin(deg_up)].to_excel(writer, \"ATAC\", startrow=1, startcol=0)\n",
    "pd.DataFrame([\"UP : More accessible in N6 D2-D3-D7\"]).to_excel(writer, \"ATAC\", startrow=0, startcol = 9, header = False, index = False)\n",
    "atacD2_D3_D7[atacD2_D3_D7.gene.isin(deg_up)].to_excel(writer, \"ATAC\", startrow=1, startcol=9)\n",
    "M = max( len(atacD2_D3[atacD2_D3.gene.isin(deg_up)]), len(atacD2_D3_D7[atacD2_D3_D7.gene.isin(deg_up)]) )\n",
    "pd.DataFrame([\"DOWN : More accessible in N6 D2-D3\"]).to_excel(writer, \"ATAC\", startrow=3+M, startcol = 0, header = False, index = False)\n",
    "atacD2_D3[atacD2_D3.gene.isin(deg_down)].to_excel(writer, \"ATAC\", startrow=1, startcol=4+M)\n",
    "pd.DataFrame([\"DOWN : More accessible in N6 D2-D3-D7\"]).to_excel(writer, \"ATAC\", startrow=3+M, startcol = 9, header = False, index = False)\n",
    "atacD2_D3_D7[atacD2_D3_D7.gene.isin(deg_down)].to_excel(writer, \"ATAC\", startrow=1, startcol=4+M)\n",
    "\n",
    "if len(deg) > 10:\n",
    "    enr.results = enr.results[['Term', 'Overlap', 'Adjusted P-value', 'Odds Ratio', 'Combined Score', 'Genes']]\n",
    "    enr.results = enr.results[enr.results['Adjusted P-value'] < 0.1]\n",
    "    enr.results.sort_values(by=\"Combined Score\", ascending=False).to_excel(writer, \"enriched\", index=False)\n",
    "\n",
    "book = writer.book\n",
    "imgsheet = book.add_worksheet('Enrichment')\n",
    "if len(deg) > 10:\n",
    "    if sum(enr.res2d['Adjusted P-value'] < 0.1) > 0:\n",
    "        imgsheet.insert_image('B2', \"enr_plots/\"+\"inter\"+\"_\"+MARKER+\".png\")\n",
    "\n",
    "writer.save()"
   ]
  }
 ],
 "metadata": {
  "interpreter": {
   "hash": "1fd198094d18c1f6e835bbc10f230f9f1bc4929522b005bc69d9b1e47e35dda8"
  },
  "kernelspec": {
   "display_name": "Python 3.8.13 64-bit",
   "language": "python",
   "name": "python3"
  },
  "language_info": {
   "codemirror_mode": {
    "name": "ipython",
    "version": 3
   },
   "file_extension": ".py",
   "mimetype": "text/x-python",
   "name": "python",
   "nbconvert_exporter": "python",
   "pygments_lexer": "ipython3",
   "version": "3.8.13"
  },
  "toc": {
   "base_numbering": "0",
   "nav_menu": {},
   "number_sections": true,
   "sideBar": true,
   "skip_h1_title": false,
   "title_cell": "Table of Contents",
   "title_sidebar": "Contents",
   "toc_cell": false,
   "toc_position": {
    "height": "calc(100% - 180px)",
    "left": "10px",
    "top": "150px",
    "width": "302px"
   },
   "toc_section_display": true,
   "toc_window_display": true
  },
  "varInspector": {
   "cols": {
    "lenName": 16,
    "lenType": 16,
    "lenVar": 40
   },
   "kernels_config": {
    "python": {
     "delete_cmd_postfix": "",
     "delete_cmd_prefix": "del ",
     "library": "var_list.py",
     "varRefreshCmd": "print(var_dic_list())"
    },
    "r": {
     "delete_cmd_postfix": ") ",
     "delete_cmd_prefix": "rm(",
     "library": "var_list.r",
     "varRefreshCmd": "cat(var_dic_list()) "
    }
   },
   "types_to_exclude": [
    "module",
    "function",
    "builtin_function_or_method",
    "instance",
    "_Feature"
   ],
   "window_display": false
  }
 },
 "nbformat": 4,
 "nbformat_minor": 2
}
