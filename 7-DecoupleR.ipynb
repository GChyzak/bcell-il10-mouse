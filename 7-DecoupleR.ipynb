{
 "cells": [
  {
   "cell_type": "markdown",
   "metadata": {},
   "source": [
    "# Biological pathway activity inference\n",
    "\n",
    "Using DecoupleR."
   ]
  },
  {
   "cell_type": "markdown",
   "metadata": {},
   "source": [
    "# 0. Loading the libraries"
   ]
  },
  {
   "cell_type": "code",
   "execution_count": 1,
   "metadata": {
    "scrolled": false
   },
   "outputs": [
    {
     "name": "stderr",
     "output_type": "stream",
     "text": [
      "2022-06-17 11:50:45.651378: W tensorflow/stream_executor/platform/default/dso_loader.cc:64] Could not load dynamic library 'libcudart.so.11.0'; dlerror: libcudart.so.11.0: cannot open shared object file: No such file or directory; LD_LIBRARY_PATH: /opt/R/lib/R/lib:\n",
      "2022-06-17 11:50:45.651461: I tensorflow/stream_executor/cuda/cudart_stub.cc:29] Ignore above cudart dlerror if you do not have a GPU set up on your machine.\n"
     ]
    }
   ],
   "source": [
    "import scanpy as sc\n",
    "import numpy as np\n",
    "import scipy as sp\n",
    "import pandas as pd\n",
    "import matplotlib as mpl\n",
    "import matplotlib.gridspec as grid_spec\n",
    "import matplotlib.pyplot as plt\n",
    "from matplotlib import cm\n",
    "from matplotlib import rcParams\n",
    "from matplotlib import colors\n",
    "import seaborn as sb\n",
    "from gprofiler import GProfiler\n",
    "from sklearn.neighbors import KernelDensity\n",
    "import joypy\n",
    "import scrublet as scr\n",
    "import scvelo as scv\n",
    "import xlsxwriter\n",
    "\n",
    "import normalisr.normalisr as norm\n",
    "from os.path import join as pjoin\n",
    "from adjustText import adjust_text\n",
    "\n",
    "from pyorthomap import findOrthologsMmHs\n",
    "\n",
    "import pickle\n",
    "import os\n",
    "\n",
    "def save_object(obj, filename):\n",
    "    with open(filename, 'wb') as outp:  # Overwrites any existing file.\n",
    "        pickle.dump(obj, outp, pickle.HIGHEST_PROTOCOL)"
   ]
  },
  {
   "cell_type": "code",
   "execution_count": 2,
   "metadata": {},
   "outputs": [],
   "source": [
    "# Set up constants\n",
    "save_folder = \"figures/\"\n",
    "objects_folder = \"saved_objects/\"\n",
    "sc.settings.figdir = './'+save_folder\n",
    "\n",
    "plt.rcParams['figure.figsize']=(8,8) #rescale figures\n",
    "sc.settings.verbosity = 3"
   ]
  },
  {
   "cell_type": "markdown",
   "metadata": {},
   "source": [
    "# 1. Reading in the data"
   ]
  },
  {
   "cell_type": "code",
   "execution_count": 3,
   "metadata": {},
   "outputs": [],
   "source": [
    "# Load the pre-processed data\n",
    "\n",
    "with open('saved_objects/adata_annotated.pkl', 'rb') as inp:\n",
    "    adata = pickle.load(inp)"
   ]
  },
  {
   "cell_type": "code",
   "execution_count": 4,
   "metadata": {},
   "outputs": [
    {
     "data": {
      "application/vnd.jupyter.widget-view+json": {
       "model_id": "2da5fed2db7d4d9c9dfd5b17fa4211c7",
       "version_major": 2,
       "version_minor": 0
      },
      "text/plain": [
       "  0%|          | 0/49 [00:00<?, ?it/s]"
      ]
     },
     "metadata": {},
     "output_type": "display_data"
    }
   ],
   "source": [
    "# Convert to human gene names\n",
    "\n",
    "def replace(x):\n",
    "    if len(x.tolist()) == 1:\n",
    "        if x.tolist()[0] != x.tolist()[0]:\n",
    "            return \"NA\"\n",
    "        else:\n",
    "            return(x.tolist()[0])\n",
    "    else:\n",
    "        return \"NA\"\n",
    "\n",
    "translated = findOrthologsMmHs(from_filters = 'external_gene_name',\n",
    "                               from_values = adata.var.index.tolist()).map()\n",
    "adata.var['human_name'] = [replace(translated[translated.external_gene_name == e][\"hgnc_symbol\"]) for e in adata.var['gene_name']]\n",
    "\n",
    "adata = adata[:,~(adata.var.human_name == \"NA\")]\n",
    "adata.var = adata.var[~(adata.var.human_name == \"NA\")]\n",
    "adata.var = adata.var.set_index(\"human_name\")"
   ]
  },
  {
   "cell_type": "code",
   "execution_count": 12,
   "metadata": {},
   "outputs": [],
   "source": [
    "adata0 = adata.copy()\n",
    "adata1 = adata[adata.obs['cond'] == 'N6'].copy()\n",
    "adata2 = adata[adata.obs['tp'] == '48h'].copy()\n",
    "adata3 = adata[adata.obs['sample2'] == 'N6-48h'].copy()"
   ]
  },
  {
   "cell_type": "code",
   "execution_count": 13,
   "metadata": {},
   "outputs": [
    {
     "name": "stdout",
     "output_type": "stream",
     "text": [
      "computing PCA\n",
      "    on highly variable genes\n",
      "    with n_comps=50\n",
      "    finished (0:00:05)\n",
      "computing neighbors\n",
      "    using 'X_pca' with n_pcs = 50\n",
      "    finished: added to `.uns['neighbors']`\n",
      "    `.obsp['distances']`, distances for each pair of neighbors\n",
      "    `.obsp['connectivities']`, weighted adjacency matrix (0:00:15)\n",
      "computing UMAP\n",
      "    finished: added\n",
      "    'X_umap', UMAP coordinates (adata.obsm) (0:00:20)\n"
     ]
    }
   ],
   "source": [
    "for data in [adata1, adata2, adata3]:\n",
    "    # Calculate the visualizations\n",
    "    sc.pp.pca(data, n_comps=50, use_highly_variable=True, svd_solver='arpack')\n",
    "    sc.pp.neighbors(data)\n",
    "\n",
    "    sc.tl.umap(data)"
   ]
  },
  {
   "cell_type": "code",
   "execution_count": 7,
   "metadata": {},
   "outputs": [],
   "source": [
    "names = [\"all\", \"N6\", \"48h\", \"N6-48h\"]"
   ]
  },
  {
   "cell_type": "code",
   "execution_count": 8,
   "metadata": {},
   "outputs": [],
   "source": [
    "save_folder = \"decoupler/\"\n",
    "sc.settings.figdir = './'+save_folder"
   ]
  },
  {
   "cell_type": "markdown",
   "metadata": {},
   "source": [
    "# 2. DecoupleR"
   ]
  },
  {
   "cell_type": "code",
   "execution_count": 9,
   "metadata": {},
   "outputs": [],
   "source": [
    "import decoupler as dc"
   ]
  },
  {
   "cell_type": "code",
   "execution_count": 10,
   "metadata": {},
   "outputs": [],
   "source": [
    "def run_decoupler(data, net, groupkey, name):\n",
    "    \n",
    "    mat = pd.DataFrame(data.X, columns = data.var_names, index = data.obs_names)\n",
    "\n",
    "    test = dc.decouple(mat=mat, net=net, methods = ['mlm', 'ulm', 'ora', 'aucell'],verbose=True)\n",
    "\n",
    "    data.obsm['test_estimate'], data.obsm['test_pvals'] = test['consensus_estimate'], test['consensus_pvals']\n",
    "    acts = dc.get_acts(data, obsm_key='test_estimate')\n",
    "    mean_acts = dc.summarize_acts(acts, groupby=groupkey, min_std=0.1) #0.3\n",
    "    diffs = abs(mean_acts.diff().iloc[1,:])\n",
    "    mean_acts = mean_acts.filter(diffs.nlargest(30).index.tolist())\n",
    "    rats = mean_acts.pct_change().iloc[1,:]\n",
    "\n",
    "    \n",
    "    l = diffs.nlargest(min(len(diffs//2), 3)).index.tolist() + rats.nsmallest(min(len(diffs//2), 3)).index.tolist()\n",
    "    sc.pl.umap(acts, color=l+['log_il10', groupkey], cmap='coolwarm', vcenter=0, size = 40, ncols=4, show=False, save=\"_\"+name+\".png\")\n",
    "    \n",
    "    mean_acts = mean_acts.filter(rats.nlargest(min(len(rats//2), 15)).index.tolist() + rats.nsmallest(min(len(rats//2), 15)).index.tolist())\n",
    "    plot = sb.clustermap(mean_acts, center=0, xticklabels=mean_acts.columns, cmap='coolwarm')\n",
    "    plot.fig.savefig(save_folder+\"heatmap_\"+name+\".png\")\n",
    "    plt.close()"
   ]
  },
  {
   "cell_type": "code",
   "execution_count": null,
   "metadata": {},
   "outputs": [],
   "source": [
    "def run_upr(data, net, groupkey, name):\n",
    "    \n",
    "    mat = pd.DataFrame(data.X, columns = data.var_names, index = data.obs_names)\n",
    "    test = dc.decouple(mat=mat, net=net, methods = ['mlm', 'ulm', 'ora', 'aucell'],verbose=True)\n",
    "\n",
    "    data.obsm['test_estimate'], data.obsm['test_pvals'] = test['consensus_estimate'], test['consensus_pvals']\n",
    "    acts = dc.get_acts(data, obsm_key='test_estimate')\n",
    "\n",
    "    sc.pl.umap(acts, color=['HALLMARK_UNFOLDED_PROTEIN_RESPONSE', groupkey], cmap='coolwarm', vcenter=0, size = 40, ncols=4, show=False, save=\"_upr_\"+name+\".png\")\n",
    "\n",
    "    marker = 'Il10'\n",
    "    sc.tl.embedding_density(data, basis='umap', groupby=marker+'_positive')\n",
    "    sc.pl.embedding_density(data, basis='umap', key='umap_density_'+marker+'_positive', group=marker+'+', save=\"_upr_\"+name+\".png\")"
   ]
  },
  {
   "cell_type": "markdown",
   "metadata": {},
   "source": [
    "# 3. Functional enrichment of 'Hallmark' gene sets"
   ]
  },
  {
   "cell_type": "code",
   "execution_count": 11,
   "metadata": {},
   "outputs": [
    {
     "data": {
      "text/html": [
       "<div>\n",
       "<style scoped>\n",
       "    .dataframe tbody tr th:only-of-type {\n",
       "        vertical-align: middle;\n",
       "    }\n",
       "\n",
       "    .dataframe tbody tr th {\n",
       "        vertical-align: top;\n",
       "    }\n",
       "\n",
       "    .dataframe thead th {\n",
       "        text-align: right;\n",
       "    }\n",
       "</style>\n",
       "<table border=\"1\" class=\"dataframe\">\n",
       "  <thead>\n",
       "    <tr style=\"text-align: right;\">\n",
       "      <th>label</th>\n",
       "      <th>source</th>\n",
       "      <th>target</th>\n",
       "      <th>weight</th>\n",
       "    </tr>\n",
       "  </thead>\n",
       "  <tbody>\n",
       "    <tr>\n",
       "      <th>11</th>\n",
       "      <td>HALLMARK_TNFA_SIGNALING_VIA_NFKB</td>\n",
       "      <td>MSC</td>\n",
       "      <td>1.0</td>\n",
       "    </tr>\n",
       "    <tr>\n",
       "      <th>149</th>\n",
       "      <td>HALLMARK_TNFA_SIGNALING_VIA_NFKB</td>\n",
       "      <td>ICOSLG</td>\n",
       "      <td>1.0</td>\n",
       "    </tr>\n",
       "    <tr>\n",
       "      <th>223</th>\n",
       "      <td>HALLMARK_INFLAMMATORY_RESPONSE</td>\n",
       "      <td>ICOSLG</td>\n",
       "      <td>1.0</td>\n",
       "    </tr>\n",
       "    <tr>\n",
       "      <th>270</th>\n",
       "      <td>HALLMARK_ALLOGRAFT_REJECTION</td>\n",
       "      <td>ICOSLG</td>\n",
       "      <td>1.0</td>\n",
       "    </tr>\n",
       "    <tr>\n",
       "      <th>398</th>\n",
       "      <td>HALLMARK_HYPOXIA</td>\n",
       "      <td>FOSL2</td>\n",
       "      <td>1.0</td>\n",
       "    </tr>\n",
       "    <tr>\n",
       "      <th>...</th>\n",
       "      <td>...</td>\n",
       "      <td>...</td>\n",
       "      <td>...</td>\n",
       "    </tr>\n",
       "    <tr>\n",
       "      <th>878342</th>\n",
       "      <td>HALLMARK_PANCREAS_BETA_CELLS</td>\n",
       "      <td>FOXO1</td>\n",
       "      <td>1.0</td>\n",
       "    </tr>\n",
       "    <tr>\n",
       "      <th>878418</th>\n",
       "      <td>HALLMARK_PANCREAS_BETA_CELLS</td>\n",
       "      <td>GCG</td>\n",
       "      <td>1.0</td>\n",
       "    </tr>\n",
       "    <tr>\n",
       "      <th>878512</th>\n",
       "      <td>HALLMARK_PANCREAS_BETA_CELLS</td>\n",
       "      <td>PDX1</td>\n",
       "      <td>1.0</td>\n",
       "    </tr>\n",
       "    <tr>\n",
       "      <th>878605</th>\n",
       "      <td>HALLMARK_PANCREAS_BETA_CELLS</td>\n",
       "      <td>INS</td>\n",
       "      <td>1.0</td>\n",
       "    </tr>\n",
       "    <tr>\n",
       "      <th>878785</th>\n",
       "      <td>HALLMARK_PANCREAS_BETA_CELLS</td>\n",
       "      <td>SRP9</td>\n",
       "      <td>1.0</td>\n",
       "    </tr>\n",
       "  </tbody>\n",
       "</table>\n",
       "<p>7318 rows × 3 columns</p>\n",
       "</div>"
      ],
      "text/plain": [
       "label                             source  target  weight\n",
       "11      HALLMARK_TNFA_SIGNALING_VIA_NFKB     MSC     1.0\n",
       "149     HALLMARK_TNFA_SIGNALING_VIA_NFKB  ICOSLG     1.0\n",
       "223       HALLMARK_INFLAMMATORY_RESPONSE  ICOSLG     1.0\n",
       "270         HALLMARK_ALLOGRAFT_REJECTION  ICOSLG     1.0\n",
       "398                     HALLMARK_HYPOXIA   FOSL2     1.0\n",
       "...                                  ...     ...     ...\n",
       "878342      HALLMARK_PANCREAS_BETA_CELLS   FOXO1     1.0\n",
       "878418      HALLMARK_PANCREAS_BETA_CELLS     GCG     1.0\n",
       "878512      HALLMARK_PANCREAS_BETA_CELLS    PDX1     1.0\n",
       "878605      HALLMARK_PANCREAS_BETA_CELLS     INS     1.0\n",
       "878785      HALLMARK_PANCREAS_BETA_CELLS    SRP9     1.0\n",
       "\n",
       "[7318 rows x 3 columns]"
      ]
     },
     "execution_count": 11,
     "metadata": {},
     "output_type": "execute_result"
    }
   ],
   "source": [
    "net = dc.get_resource('MSigDB')\n",
    "# Filter by hallmark\n",
    "net = net[net['collection']=='hallmark']\n",
    "\n",
    "# Remove duplicated entries\n",
    "net = net[~net.duplicated(['geneset', 'genesymbol'])]\n",
    "net = dc.rename_net(net, source='geneset', target='genesymbol', weight=None)\n",
    "net"
   ]
  },
  {
   "cell_type": "code",
   "execution_count": 309,
   "metadata": {},
   "outputs": [
    {
     "name": "stdout",
     "output_type": "stream",
     "text": [
      "Running mlm on mat with 29696 samples and 10276 targets for 50 sources.\n"
     ]
    },
    {
     "name": "stderr",
     "output_type": "stream",
     "text": [
      "100%|██████████| 3/3 [00:57<00:00, 19.15s/it]\n"
     ]
    },
    {
     "name": "stdout",
     "output_type": "stream",
     "text": [
      "Running ulm on mat with 29696 samples and 10276 targets for 50 sources.\n",
      "Running ora on mat with 29696 samples and 10276 targets for 50 sources.\n"
     ]
    },
    {
     "name": "stderr",
     "output_type": "stream",
     "text": [
      "100%|██████████| 29696/29696 [03:00<00:00, 164.48it/s]\n"
     ]
    },
    {
     "name": "stdout",
     "output_type": "stream",
     "text": [
      "Running aucell on mat with 29696 samples and 10276 targets for 50 sources.\n",
      "WARNING: saving figure to file decoupler/umap_HM_all.png\n",
      "Running mlm on mat with 13712 samples and 10276 targets for 50 sources.\n"
     ]
    },
    {
     "name": "stderr",
     "output_type": "stream",
     "text": [
      "100%|██████████| 2/2 [00:17<00:00,  8.76s/it]\n"
     ]
    },
    {
     "name": "stdout",
     "output_type": "stream",
     "text": [
      "Running ulm on mat with 13712 samples and 10276 targets for 50 sources.\n",
      "Running ora on mat with 13712 samples and 10276 targets for 50 sources.\n"
     ]
    },
    {
     "name": "stderr",
     "output_type": "stream",
     "text": [
      "100%|██████████| 13712/13712 [01:26<00:00, 158.94it/s]\n"
     ]
    },
    {
     "name": "stdout",
     "output_type": "stream",
     "text": [
      "Running aucell on mat with 13712 samples and 10276 targets for 50 sources.\n",
      "WARNING: saving figure to file decoupler/umap_HM_N6.png\n",
      "Running mlm on mat with 7755 samples and 10276 targets for 50 sources.\n"
     ]
    },
    {
     "name": "stderr",
     "output_type": "stream",
     "text": [
      "100%|██████████| 1/1 [00:09<00:00,  9.59s/it]\n"
     ]
    },
    {
     "name": "stdout",
     "output_type": "stream",
     "text": [
      "Running ulm on mat with 7755 samples and 10276 targets for 50 sources.\n",
      "Running ora on mat with 7755 samples and 10276 targets for 50 sources.\n"
     ]
    },
    {
     "name": "stderr",
     "output_type": "stream",
     "text": [
      "100%|██████████| 7755/7755 [00:50<00:00, 154.30it/s]\n"
     ]
    },
    {
     "name": "stdout",
     "output_type": "stream",
     "text": [
      "Running aucell on mat with 7755 samples and 10276 targets for 50 sources.\n",
      "WARNING: saving figure to file decoupler/umap_HM_48h.png\n",
      "Running mlm on mat with 6728 samples and 10276 targets for 50 sources.\n"
     ]
    },
    {
     "name": "stderr",
     "output_type": "stream",
     "text": [
      "100%|██████████| 1/1 [00:08<00:00,  8.14s/it]\n"
     ]
    },
    {
     "name": "stdout",
     "output_type": "stream",
     "text": [
      "Running ulm on mat with 6728 samples and 10276 targets for 50 sources.\n",
      "Running ora on mat with 6728 samples and 10276 targets for 50 sources.\n"
     ]
    },
    {
     "name": "stderr",
     "output_type": "stream",
     "text": [
      "100%|██████████| 6728/6728 [00:59<00:00, 112.93it/s]\n"
     ]
    },
    {
     "name": "stdout",
     "output_type": "stream",
     "text": [
      "Running aucell on mat with 6728 samples and 10276 targets for 50 sources.\n",
      "WARNING: saving figure to file decoupler/umap_HM_N6-48h.png\n"
     ]
    }
   ],
   "source": [
    "analysis_name = \"HM_\"\n",
    "run_decoupler(adata0, net, 'sample2', analysis_name+names[0])\n",
    "run_decoupler(adata1, net, 'tp', analysis_name+names[1])\n",
    "run_decoupler(adata2, net, 'cond', analysis_name+names[2])\n",
    "run_decoupler(adata3, net, 'Il10_positive', analysis_name+names[3])"
   ]
  },
  {
   "cell_type": "code",
   "execution_count": null,
   "metadata": {},
   "outputs": [],
   "source": [
    "analysis_name = \"HM_\"\n",
    "run_upr(adata0, net, 'sample2', analysis_name+names[0])\n",
    "run_upr(adata1, net, 'tp', analysis_name+names[1])\n",
    "run_upr(adata2, net, 'cond', analysis_name+names[2])\n",
    "run_upr(adata3, net, 'Il10_positive', analysis_name+names[3])"
   ]
  }
 ],
 "metadata": {
  "interpreter": {
   "hash": "1fd198094d18c1f6e835bbc10f230f9f1bc4929522b005bc69d9b1e47e35dda8"
  },
  "kernelspec": {
   "display_name": "Python 3.8.13 64-bit",
   "language": "python",
   "name": "python3"
  },
  "language_info": {
   "codemirror_mode": {
    "name": "ipython",
    "version": 3
   },
   "file_extension": ".py",
   "mimetype": "text/x-python",
   "name": "python",
   "nbconvert_exporter": "python",
   "pygments_lexer": "ipython3",
   "version": "3.8.13"
  },
  "toc": {
   "base_numbering": "0",
   "nav_menu": {},
   "number_sections": true,
   "sideBar": true,
   "skip_h1_title": false,
   "title_cell": "Table of Contents",
   "title_sidebar": "Contents",
   "toc_cell": false,
   "toc_position": {
    "height": "calc(100% - 180px)",
    "left": "10px",
    "top": "150px",
    "width": "302px"
   },
   "toc_section_display": true,
   "toc_window_display": true
  },
  "varInspector": {
   "cols": {
    "lenName": 16,
    "lenType": 16,
    "lenVar": 40
   },
   "kernels_config": {
    "python": {
     "delete_cmd_postfix": "",
     "delete_cmd_prefix": "del ",
     "library": "var_list.py",
     "varRefreshCmd": "print(var_dic_list())"
    },
    "r": {
     "delete_cmd_postfix": ") ",
     "delete_cmd_prefix": "rm(",
     "library": "var_list.r",
     "varRefreshCmd": "cat(var_dic_list()) "
    }
   },
   "types_to_exclude": [
    "module",
    "function",
    "builtin_function_or_method",
    "instance",
    "_Feature"
   ],
   "window_display": false
  }
 },
 "nbformat": 4,
 "nbformat_minor": 2
}
