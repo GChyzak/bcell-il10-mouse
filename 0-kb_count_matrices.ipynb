{
 "cells": [
  {
   "cell_type": "markdown",
   "metadata": {},
   "source": [
    "# Generation of count matrices"
   ]
  },
  {
   "cell_type": "markdown",
   "metadata": {},
   "source": [
    "Count matrices are generated using Kallisto | Bustools workflow.\n",
    "\n",
    "The raw scRNA-Seq files (fastq.gz) are in \"./kallisto_bustools/raw_data/\".\n",
    "\n",
    "The count matrices are stored in \"./kallisto_bustools/\"."
   ]
  },
  {
   "cell_type": "markdown",
   "metadata": {},
   "source": [
    "# Prepare a mouse RNA velocity index for pseudoalignment."
   ]
  },
  {
   "cell_type": "code",
   "execution_count": null,
   "metadata": {},
   "outputs": [],
   "source": [
    "!pip install kb-python"
   ]
  },
  {
   "cell_type": "code",
   "execution_count": null,
   "metadata": {},
   "outputs": [],
   "source": [
    "%%bash\n",
    "\n",
    "cd kallisto_bustools/ \\\n",
    "    && wget ftp://ftp.ensembl.org/pub/release-98/fasta/mus_musculus/dna/Mus_musculus.GRCm38.dna.primary_assembly.fa.gz \\ \n",
    "    && gunzip Mus_musculus.GRCm38.dna.primary_assembly.fa.gz\n",
    "cd kallisto_bustools/ \\\n",
    "    && wget ftp://ftp.ensembl.org/pub/release-98/gtf/mus_musculus/Mus_musculus.GRCm38.98.gtf.gz \\\n",
    "    && gunzip Mus_musculus.GRCm38.98.gtf.gz"
   ]
  },
  {
   "cell_type": "code",
   "execution_count": null,
   "metadata": {},
   "outputs": [],
   "source": [
    "%%bash\n",
    "\n",
    "cd kallisto_bustools/ \\\n",
    "    && kb ref --overwrite -i index.idx -g t2g.txt -f1 cdna.fa -f2 intron.fa -c1 spliced_t2c.txt -c2 unspliced_t2c.txt --workflow lamanno \\\n",
    "    Mus_musculus.GRCm38.dna.primary_assembly.fa \\\n",
    "    Mus_musculus.GRCm38.98.gtf"
   ]
  },
  {
   "cell_type": "markdown",
   "metadata": {},
   "source": [
    "# Generate count matrix for each sample."
   ]
  },
  {
   "cell_type": "markdown",
   "metadata": {},
   "source": [
    "### T0_1"
   ]
  },
  {
   "cell_type": "code",
   "execution_count": null,
   "metadata": {},
   "outputs": [],
   "source": [
    "%%bash\n",
    "\n",
    "cd kallisto_bustools/ \\\n",
    "    && kb count --h5ad --overwrite -i index.idx -g t2g.txt -x 10xv3 -o T0_1_S9 \\\n",
    "    -c1 spliced_t2c.txt -c2 unspliced_t2c.txt --workflow lamanno --filter bustools -t 2 -m 64G\\\n",
    "    raw_data/T0_1_S9*.fastq.gz"
   ]
  },
  {
   "cell_type": "markdown",
   "metadata": {},
   "source": [
    "### T0_2"
   ]
  },
  {
   "cell_type": "code",
   "execution_count": null,
   "metadata": {},
   "outputs": [],
   "source": [
    "%%bash\n",
    "\n",
    "cd kallisto_bustools/ \\\n",
    "    && kb count --h5ad --overwrite -i index.idx -g t2g.txt -x 10xv3 -o T0_2_S10 \\\n",
    "    -c1 spliced_t2c.txt -c2 unspliced_t2c.txt --workflow lamanno --filter bustools -t 2 -m 64G\\\n",
    "    raw_data/T0_2_S10*.fastq.gz"
   ]
  },
  {
   "cell_type": "markdown",
   "metadata": {},
   "source": [
    "### DMSO_2h"
   ]
  },
  {
   "cell_type": "code",
   "execution_count": null,
   "metadata": {},
   "outputs": [],
   "source": [
    "%%bash\n",
    "\n",
    "cd kallisto_bustools/ \\\n",
    "    && kb count --h5ad --overwrite -i index.idx -g t2g.txt -x 10xv3 -o DMSO_2h_S11 \\\n",
    "    -c1 spliced_t2c.txt -c2 unspliced_t2c.txt --workflow lamanno --filter bustools -t 2 -m 64G\\\n",
    "    raw_data/DMSO_2h_S11*.fastq.gz"
   ]
  },
  {
   "cell_type": "markdown",
   "metadata": {},
   "source": [
    "### N6_2h"
   ]
  },
  {
   "cell_type": "code",
   "execution_count": null,
   "metadata": {},
   "outputs": [],
   "source": [
    "%%bash\n",
    "\n",
    "cd kallisto_bustools/ \\\n",
    "    && kb count --h5ad --overwrite -i index.idx -g t2g.txt -x 10xv3 -o N6_2h_S12 \\\n",
    "    -c1 spliced_t2c.txt -c2 unspliced_t2c.txt --workflow lamanno --filter bustools -t 2 -m 64G\\\n",
    "    raw_data/N6_2h_S12*.fastq.gz"
   ]
  },
  {
   "cell_type": "markdown",
   "metadata": {},
   "source": [
    "### DMSO_24h"
   ]
  },
  {
   "cell_type": "code",
   "execution_count": null,
   "metadata": {},
   "outputs": [],
   "source": [
    "%%bash\n",
    "\n",
    "cd kallisto_bustools/ \\\n",
    "    && kb count --h5ad --overwrite -i index.idx -g t2g.txt -x 10xv3 -o DMSO_24h_S13 \\\n",
    "    -c1 spliced_t2c.txt -c2 unspliced_t2c.txt --workflow lamanno --filter bustools -t 2 -m 64G\\\n",
    "    raw_data/DMSO_24h_S13*.fastq.gz"
   ]
  },
  {
   "cell_type": "markdown",
   "metadata": {},
   "source": [
    "### N6_24h"
   ]
  },
  {
   "cell_type": "code",
   "execution_count": null,
   "metadata": {},
   "outputs": [],
   "source": [
    "%%bash\n",
    "\n",
    "cd kallisto_bustools/ \\\n",
    "    && kb count --h5ad --overwrite -i index.idx -g t2g.txt -x 10xv3 -o N6_24h_S14 \\\n",
    "    -c1 spliced_t2c.txt -c2 unspliced_t2c.txt --workflow lamanno --filter bustools -t 2 -m 64G\\\n",
    "    raw_data/N6_24h_S14*.fastq.gz"
   ]
  },
  {
   "cell_type": "markdown",
   "metadata": {},
   "source": [
    "### DMSO_48h"
   ]
  },
  {
   "cell_type": "code",
   "execution_count": null,
   "metadata": {},
   "outputs": [],
   "source": [
    "%%bash\n",
    "\n",
    "cd kallisto_bustools/ \\\n",
    "    && kb count --h5ad --overwrite -i index.idx -g t2g.txt -x 10xv3 -o DMSO_48h_S15 \\\n",
    "    -c1 spliced_t2c.txt -c2 unspliced_t2c.txt --workflow lamanno --filter bustools -t 2 -m 64G\\\n",
    "    raw_data/DMSO_48h_S15*.fastq.gz"
   ]
  },
  {
   "cell_type": "markdown",
   "metadata": {},
   "source": [
    "### N6_48h"
   ]
  },
  {
   "cell_type": "code",
   "execution_count": null,
   "metadata": {},
   "outputs": [],
   "source": [
    "%%bash\n",
    "\n",
    "cd kallisto_bustools/ \\\n",
    "    && kb count --h5ad --overwrite -i index.idx -g t2g.txt -x 10xv3 -o N6_48h_S16 \\\n",
    "    -c1 spliced_t2c.txt -c2 unspliced_t2c.txt --workflow lamanno --filter bustools -t 2 -m 64G\\\n",
    "    raw_data/N6_48h_S16*.fastq.gz"
   ]
  },
  {
   "cell_type": "markdown",
   "metadata": {},
   "source": [
    "### DMSO_d7"
   ]
  },
  {
   "cell_type": "code",
   "execution_count": null,
   "metadata": {},
   "outputs": [],
   "source": [
    "%%bash\n",
    "\n",
    "cd kallisto_bustools/ \\\n",
    "    && kb count --h5ad --overwrite -i index.idx -g t2g.txt -x 10xv3 -o 1_CpG_S3 \\\n",
    "    -c1 spliced_t2c.txt -c2 unspliced_t2c.txt --workflow lamanno --filter bustools -t 2 -m 64G\\\n",
    "    raw_data/1_CpG_S3*.fastq.gz"
   ]
  },
  {
   "cell_type": "markdown",
   "metadata": {},
   "source": [
    "### N6_d7"
   ]
  },
  {
   "cell_type": "code",
   "execution_count": null,
   "metadata": {},
   "outputs": [],
   "source": [
    "%%bash\n",
    "\n",
    "cd kallisto_bustools/ \\\n",
    "    && kb count --h5ad --overwrite -i index.idx -g t2g.txt -x 10xv3 -o 2_N6_S2 \\\n",
    "    -c1 spliced_t2c.txt -c2 unspliced_t2c.txt --workflow lamanno --filter bustools -t 2 -m 64G\\\n",
    "    raw_data/2_N6_S2*.fastq.gz"
   ]
  }
 ],
 "metadata": {
  "interpreter": {
   "hash": "1fd198094d18c1f6e835bbc10f230f9f1bc4929522b005bc69d9b1e47e35dda8"
  },
  "kernelspec": {
   "display_name": "Python 3.8.13 64-bit",
   "language": "python",
   "name": "python3"
  },
  "language_info": {
   "codemirror_mode": {
    "name": "ipython",
    "version": 3
   },
   "file_extension": ".py",
   "mimetype": "text/x-python",
   "name": "python",
   "nbconvert_exporter": "python",
   "pygments_lexer": "ipython3",
   "version": "3.8.13"
  },
  "toc": {
   "base_numbering": "0",
   "nav_menu": {},
   "number_sections": true,
   "sideBar": true,
   "skip_h1_title": false,
   "title_cell": "Table of Contents",
   "title_sidebar": "Contents",
   "toc_cell": false,
   "toc_position": {
    "height": "calc(100% - 180px)",
    "left": "10px",
    "top": "150px",
    "width": "302px"
   },
   "toc_section_display": true,
   "toc_window_display": true
  },
  "varInspector": {
   "cols": {
    "lenName": 16,
    "lenType": 16,
    "lenVar": 40
   },
   "kernels_config": {
    "python": {
     "delete_cmd_postfix": "",
     "delete_cmd_prefix": "del ",
     "library": "var_list.py",
     "varRefreshCmd": "print(var_dic_list())"
    },
    "r": {
     "delete_cmd_postfix": ") ",
     "delete_cmd_prefix": "rm(",
     "library": "var_list.r",
     "varRefreshCmd": "cat(var_dic_list()) "
    }
   },
   "types_to_exclude": [
    "module",
    "function",
    "builtin_function_or_method",
    "instance",
    "_Feature"
   ],
   "window_display": false
  }
 },
 "nbformat": 4,
 "nbformat_minor": 2
}
