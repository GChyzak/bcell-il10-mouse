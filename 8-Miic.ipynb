{
 "cells": [
  {
   "cell_type": "markdown",
   "metadata": {},
   "source": [
    "# MIIC\n",
    "\n",
    "Prepare files to send to the MIIC web platform."
   ]
  },
  {
   "cell_type": "markdown",
   "metadata": {},
   "source": [
    "# 0. Loading the libraries"
   ]
  },
  {
   "cell_type": "code",
   "execution_count": 7,
   "metadata": {
    "scrolled": false
   },
   "outputs": [],
   "source": [
    "import scanpy as sc\n",
    "import pandas as pd\n",
    "import matplotlib.pyplot as plt\n",
    "\n",
    "import pickle\n",
    "\n",
    "def save_object(obj, filename):\n",
    "    with open(filename, 'wb') as outp:  # Overwrites any existing file.\n",
    "        pickle.dump(obj, outp, pickle.HIGHEST_PROTOCOL)"
   ]
  },
  {
   "cell_type": "code",
   "execution_count": 8,
   "metadata": {},
   "outputs": [],
   "source": [
    "# Set up constants\n",
    "save_folder = \"figures/\"\n",
    "objects_folder = \"saved_objects/\"\n",
    "sc.settings.figdir = './'+save_folder\n",
    "\n",
    "plt.rcParams['figure.figsize']=(8,8) #rescale figures\n",
    "sc.settings.verbosity = 3"
   ]
  },
  {
   "cell_type": "markdown",
   "metadata": {},
   "source": [
    "# 1. MIIC function"
   ]
  },
  {
   "cell_type": "code",
   "execution_count": 9,
   "metadata": {},
   "outputs": [],
   "source": [
    "with open('saved_objects/adata_annotated.pkl', 'rb') as inp:\n",
    "    adata = pickle.load(inp)\n",
    "\n",
    "adata.X = adata.raw.X"
   ]
  },
  {
   "cell_type": "code",
   "execution_count": 10,
   "metadata": {},
   "outputs": [],
   "source": [
    "def miic(lgenes, data, name):\n",
    "\n",
    "    gene_data = pd.DataFrame(columns = lgenes)\n",
    "    for gene in lgenes:\n",
    "        gene_data[gene] = [e[0] for e in data.X[:, data.var.gene_name == gene].tolist()]\n",
    "    miic_data = pd.concat([ gene_data.reset_index(drop=True), pd.DataFrame(data.obs[['Il10_positive', 'Il10_high']]).reset_index(drop=True) ], axis=1)\n",
    "\n",
    "    miic_data.to_csv(\"miic/\"+name+\"_data.csv\", header = True, index = False)\n",
    "    miic_data.to_excel(\"miic/\"+name+\"_data.xlsx\", header = True, index = False)\n",
    "\n",
    "    supp = pd.DataFrame(columns = ['var_names', 'var_type', 'levels_increasing_order', 'is_contextual', 'group'])\n",
    "    supp['var_names'] = miic_data.columns\n",
    "    supp['var_type'] = [1]*len(lgenes) + [0]*(len(miic_data.columns) - len(lgenes))\n",
    "    supp['levels_increasing_order'] = ['']*len(lgenes) + ['Il10-,Il10+', 'Not,High']\n",
    "    supp['is_contextual'] = [0]*len(lgenes) + [1]*(len(miic_data.columns) - len(lgenes))\n",
    "    supp['group'] = 'all'\n",
    "\n",
    "    supp.to_csv(\"miic/\"+name+\"_supp.tsv\", sep = '\\t', header = True, index = False)"
   ]
  },
  {
   "cell_type": "markdown",
   "metadata": {},
   "source": [
    "# 2. Prepare MIIC files for different gene lists"
   ]
  },
  {
   "cell_type": "markdown",
   "metadata": {},
   "source": [
    "### 1. Il10 signature"
   ]
  },
  {
   "cell_type": "code",
   "execution_count": 11,
   "metadata": {},
   "outputs": [],
   "source": [
    "df = pd.read_csv('gene_lists/'+\"Il10_signature\"+'.csv')\n",
    "lgenes = df[df.columns[0]].tolist() + ['Il10']"
   ]
  },
  {
   "cell_type": "code",
   "execution_count": 12,
   "metadata": {},
   "outputs": [],
   "source": [
    "miic(lgenes, adata.copy(), \"Il10sig_all\")\n",
    "miic(lgenes, adata[(adata.obs.cond == \"N6\")].copy(), \"Il10sig_N6\")\n",
    "miic(lgenes, adata[(adata.obs.sample2 == \"N6-48h\")].copy(), \"Il10sig_N6-48h\")"
   ]
  },
  {
   "cell_type": "markdown",
   "metadata": {},
   "source": [
    "### 2. N6 signature"
   ]
  },
  {
   "cell_type": "code",
   "execution_count": 13,
   "metadata": {},
   "outputs": [],
   "source": [
    "df = pd.read_csv('gene_lists/'+\"N6vsDMSO_signature\"+'.csv')\n",
    "lgenes = df[df.columns[0]].tolist()"
   ]
  },
  {
   "cell_type": "code",
   "execution_count": 14,
   "metadata": {},
   "outputs": [],
   "source": [
    "miic(lgenes, adata.copy(), \"N6sig_all\")\n",
    "miic(lgenes, adata[(adata.obs.cond == \"N6\")].copy(), \"N6sig_N6\")\n",
    "miic(lgenes, adata[(adata.obs.sample2 == \"N6-48h\")].copy(), \"N6sig_N6-48h\")"
   ]
  }
 ],
 "metadata": {
  "interpreter": {
   "hash": "1fd198094d18c1f6e835bbc10f230f9f1bc4929522b005bc69d9b1e47e35dda8"
  },
  "kernelspec": {
   "display_name": "Python 3.8.13 64-bit",
   "language": "python",
   "name": "python3"
  },
  "language_info": {
   "codemirror_mode": {
    "name": "ipython",
    "version": 3
   },
   "file_extension": ".py",
   "mimetype": "text/x-python",
   "name": "python",
   "nbconvert_exporter": "python",
   "pygments_lexer": "ipython3",
   "version": "3.8.13"
  },
  "toc": {
   "base_numbering": "0",
   "nav_menu": {},
   "number_sections": true,
   "sideBar": true,
   "skip_h1_title": false,
   "title_cell": "Table of Contents",
   "title_sidebar": "Contents",
   "toc_cell": false,
   "toc_position": {
    "height": "calc(100% - 180px)",
    "left": "10px",
    "top": "150px",
    "width": "302px"
   },
   "toc_section_display": true,
   "toc_window_display": true
  },
  "varInspector": {
   "cols": {
    "lenName": 16,
    "lenType": 16,
    "lenVar": 40
   },
   "kernels_config": {
    "python": {
     "delete_cmd_postfix": "",
     "delete_cmd_prefix": "del ",
     "library": "var_list.py",
     "varRefreshCmd": "print(var_dic_list())"
    },
    "r": {
     "delete_cmd_postfix": ") ",
     "delete_cmd_prefix": "rm(",
     "library": "var_list.r",
     "varRefreshCmd": "cat(var_dic_list()) "
    }
   },
   "types_to_exclude": [
    "module",
    "function",
    "builtin_function_or_method",
    "instance",
    "_Feature"
   ],
   "window_display": false
  }
 },
 "nbformat": 4,
 "nbformat_minor": 2
}
