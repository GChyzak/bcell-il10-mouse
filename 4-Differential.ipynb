{
 "cells": [
  {
   "cell_type": "markdown",
   "metadata": {},
   "source": [
    "# Differential gene expression\n",
    "\n",
    "Using Normalisr."
   ]
  },
  {
   "cell_type": "markdown",
   "metadata": {},
   "source": [
    "# 0. Loading the libraries"
   ]
  },
  {
   "cell_type": "code",
   "execution_count": 1,
   "metadata": {},
   "outputs": [],
   "source": [
    "import warnings\n",
    "\n",
    "warnings.simplefilter(action='ignore', category=RuntimeWarning)\n",
    "warnings.simplefilter(action='ignore', category=FutureWarning)"
   ]
  },
  {
   "cell_type": "code",
   "execution_count": 2,
   "metadata": {
    "scrolled": false
   },
   "outputs": [],
   "source": [
    "import scanpy as sc\n",
    "import numpy as np\n",
    "from numpy import array, empty\n",
    "import pandas as pd\n",
    "pd.options.mode.chained_assignment = None  # default='warn'\n",
    "import matplotlib.pyplot as plt\n",
    "import gseapy as gp\n",
    "from gseapy.plot import dotplot\n",
    "\n",
    "import normalisr.normalisr as norm\n",
    "from adjustText import adjust_text\n",
    "\n",
    "from pyorthomap import findOrthologsHsMm\n",
    "\n",
    "import pickle\n",
    "\n",
    "def save_object(obj, filename):\n",
    "    with open(filename, 'wb') as outp:  # Overwrites any existing file.\n",
    "        pickle.dump(obj, outp, pickle.HIGHEST_PROTOCOL)"
   ]
  },
  {
   "cell_type": "code",
   "execution_count": 3,
   "metadata": {},
   "outputs": [],
   "source": [
    "# Set up constants\n",
    "save_folder = \"figures/\"\n",
    "objects_folder = \"saved_objects/\"\n",
    "sc.settings.figdir = './'+save_folder\n",
    "\n",
    "plt.rcParams['figure.figsize']=(8,8) #rescale figures\n",
    "sc.settings.verbosity = 3"
   ]
  },
  {
   "cell_type": "markdown",
   "metadata": {},
   "source": [
    "# 1. Reading in the data"
   ]
  },
  {
   "cell_type": "code",
   "execution_count": 4,
   "metadata": {},
   "outputs": [],
   "source": [
    "# Load the pre-processed data\n",
    "\n",
    "with open('saved_objects/adata_annotated.pkl', 'rb') as inp:\n",
    "    adata = pickle.load(inp)"
   ]
  },
  {
   "cell_type": "code",
   "execution_count": 5,
   "metadata": {},
   "outputs": [],
   "source": [
    "diseases = [\"ms\", \"pr\", \"crohn\", \"t1d\", \"sle\"]\n",
    "GWAS_tmp = []\n",
    "\n",
    "for disease in diseases:\n",
    "    gwas_file = \"files/\"+disease+\".tsv\"\n",
    "    gwas_list = pd.read_csv(gwas_file, header = 0, sep = \"\\t\")[[\"REPORTED GENE(S)\", \"PVALUE_MLOG\"]]\n",
    "    genes = []\n",
    "    for gene in gwas_list[\"REPORTED GENE(S)\"].tolist():\n",
    "        if str(gene) not in ['nan', 'intergenic', 'NR', 'Intergenic']:\n",
    "            if len(gene.split(',')) == 1:\n",
    "                genes.append(gene)\n",
    "            else:\n",
    "                genes.append(gene.split(',')[0])\n",
    "    GWAS_tmp.append(list(set(genes)))"
   ]
  },
  {
   "cell_type": "code",
   "execution_count": 6,
   "metadata": {},
   "outputs": [
    {
     "data": {
      "application/vnd.jupyter.widget-view+json": {
       "model_id": "38da21e03f6f420a9baea6c47b02b851",
       "version_major": 2,
       "version_minor": 0
      },
      "text/plain": [
       "  0%|          | 0/2 [00:00<?, ?it/s]"
      ]
     },
     "metadata": {},
     "output_type": "display_data"
    },
    {
     "data": {
      "application/vnd.jupyter.widget-view+json": {
       "model_id": "b5ae109850b54ef799169fb6442330a6",
       "version_major": 2,
       "version_minor": 0
      },
      "text/plain": [
       "  0%|          | 0/2 [00:00<?, ?it/s]"
      ]
     },
     "metadata": {},
     "output_type": "display_data"
    },
    {
     "data": {
      "application/vnd.jupyter.widget-view+json": {
       "model_id": "95217fd3b81740f49e7762c4dd6af3eb",
       "version_major": 2,
       "version_minor": 0
      },
      "text/plain": [
       "  0%|          | 0/2 [00:00<?, ?it/s]"
      ]
     },
     "metadata": {},
     "output_type": "display_data"
    },
    {
     "data": {
      "application/vnd.jupyter.widget-view+json": {
       "model_id": "2f90f87ff83b4493857f809067d94ad4",
       "version_major": 2,
       "version_minor": 0
      },
      "text/plain": [
       "  0%|          | 0/1 [00:00<?, ?it/s]"
      ]
     },
     "metadata": {},
     "output_type": "display_data"
    },
    {
     "data": {
      "application/vnd.jupyter.widget-view+json": {
       "model_id": "a125b25391b742f38b23c9f92ae202b1",
       "version_major": 2,
       "version_minor": 0
      },
      "text/plain": [
       "  0%|          | 0/2 [00:00<?, ?it/s]"
      ]
     },
     "metadata": {},
     "output_type": "display_data"
    }
   ],
   "source": [
    "def replace(x):\n",
    "    if len(x.tolist()) == 1:\n",
    "        if x.tolist()[0] != x.tolist()[0]:\n",
    "            return \"NA\"\n",
    "        else:\n",
    "            return(x.tolist()[0])\n",
    "    else:\n",
    "        return \"NA\"\n",
    "\n",
    "def convert_genes(lgenes):\n",
    "    translated = findOrthologsHsMm(from_filters = 'hgnc_symbol',\n",
    "                  from_values = lgenes).map()\n",
    "    return [replace(translated[translated.external_gene_name == e][\"external_gene_name\"]) for e in adata.var['gene_name']]\n",
    "\n",
    "GWAS = {}\n",
    "for i in range(len(diseases)):\n",
    "    GWAS[diseases[i]] = convert_genes(GWAS_tmp[i])\n",
    "\n",
    "# add sp140\n",
    "GWAS['crohn'].extend(['Sp140', 'Sp110'])\n",
    "GWAS['ms'].extend(['Sp140'])\n",
    "GWAS['pr'].extend(['Sp140'])"
   ]
  },
  {
   "cell_type": "code",
   "execution_count": 7,
   "metadata": {},
   "outputs": [],
   "source": [
    "tf_file1 = 'files/mm_mgi_tfs.txt'\n",
    "tf_list1 = pd.read_table(tf_file1, delimiter='\\t', header=None).rename(columns={0:\"Symbol\"})\n",
    "tf_file2 = 'files/Mus_musculus_TF.txt'\n",
    "tf_list2 = pd.read_table(tf_file2, delimiter='\\t')\n",
    "tf_list = pd.concat([tf_list1,tf_list2]).drop_duplicates().reset_index(drop=True).Symbol"
   ]
  },
  {
   "cell_type": "code",
   "execution_count": 8,
   "metadata": {},
   "outputs": [],
   "source": [
    "atacD2_D3 = pd.read_table(\"files/D2_D3_DARs_GeneMerged.txt\", sep = \"\\t\")\n",
    "atacD2_D3 = atacD2_D3[[\"GeneSymbol\", \"annotation\"]]\n",
    "atacD2_D3.columns = ['gene', 'annotation']\n",
    "\n",
    "atacD2_D3_D7 = pd.read_table(\"files/D2_D3_D7_DARs_GeneMerged.txt\", sep = \"\\t\")\n",
    "atacD2_D3_D7 = atacD2_D3_D7[[\"GeneSymbol\", \"annotation\"]]\n",
    "atacD2_D3_D7.columns = ['gene', 'annotation']"
   ]
  },
  {
   "cell_type": "code",
   "execution_count": 9,
   "metadata": {},
   "outputs": [],
   "source": [
    "n6_6 = pd.read_csv(\"files/affy_6h_annotated_liste_de_0.01_Pack1_Pack2.txt\", sep = \"\\t\")[[\"Symbol\", \"logFC\", \"Ratio\"]]\n",
    "n6_6 = n6_6[n6_6.Symbol == n6_6.Symbol]\n",
    "n6_6[\"Gene\"] = [e.split(\", \")[0] if len(e.split(\", \")) > 1 else e for e in n6_6[\"Symbol\"]]\n",
    "ind_n6_6 = list(set(n6_6[n6_6.logFC < -1].Gene.tolist()))\n",
    "inh_n6_6 = list(set(n6_6[n6_6.logFC > 1].Gene.tolist()))"
   ]
  },
  {
   "cell_type": "markdown",
   "metadata": {},
   "source": [
    "# 2. Differential expression"
   ]
  },
  {
   "cell_type": "code",
   "execution_count": 10,
   "metadata": {},
   "outputs": [],
   "source": [
    "def correct_pvalues_for_multiple_testing(pvalues):\n",
    "\n",
    "    pvalues = array(pvalues)\n",
    "    sample_size = pvalues.shape[0]\n",
    "    qvalues = empty(sample_size)\n",
    "    values = [(pvalue, i) for i, pvalue in enumerate(pvalues)]\n",
    "    values.sort()\n",
    "    values.reverse()\n",
    "    new_values = []\n",
    "    for i, vals in enumerate(values):\n",
    "        rank = sample_size - i\n",
    "        pvalue, index = vals\n",
    "        new_values.append((sample_size/rank) * pvalue)\n",
    "    for i in range(0, int(sample_size)-1):\n",
    "        if new_values[i] < new_values[i+1]:\n",
    "            new_values[i+1] = new_values[i]\n",
    "    for i, vals in enumerate(values):\n",
    "        pvalue, index = vals\n",
    "        qvalues[index] = new_values[i]\n",
    "        \n",
    "    return qvalues"
   ]
  },
  {
   "cell_type": "code",
   "execution_count": 11,
   "metadata": {},
   "outputs": [],
   "source": [
    "def de_test(sub1, sub2, dc_, dt_, dt_mean_, gene_names):\n",
    "\n",
    "    # Create the grouping variable\n",
    "    dg = np.array([0 for i in range(dt_.shape[1])])\n",
    "    dg[sub1.tolist()] = 1\n",
    "    dg[sub2.tolist()] = 2\n",
    "    dg = np.array([dg])\n",
    "    \n",
    "    # Subset dt and dc\n",
    "    dt_mean_ = dt_mean_[:,dg[0] != 0].copy()\n",
    "    dt_ = dt_[:,dg[0] != 0].copy()\n",
    "    dc_ = dc_[:,dg[0] != 0].copy()\n",
    "    dg = dg[:,dg[0] != 0].copy()\n",
    "\n",
    "    # Compute mean expression\n",
    "    mat = np.where(\n",
    "        dt_mean_>0,\n",
    "        dt_mean_,\n",
    "        np.nan).T\n",
    "    sums = np.count_nonzero(~np.isnan(mat), axis=0)\n",
    "    means = np.nanmean(mat,axis=0)\n",
    "    means[np.isnan(means)] = 0\n",
    "    sums_bool = [0 if e<20 else 1 for e in sums]\n",
    "    mean_expr = means * sums_bool\n",
    "    expr_filt = list(mean_expr > 0)\n",
    "    genes = gene_names[expr_filt].tolist()\n",
    "\n",
    "    if not(\"Il10\" in genes):\n",
    "        expr_filt[gene_names.tolist().index(\"Il10\")] = True\n",
    "        genes = gene_names[expr_filt].tolist()\n",
    "\n",
    "    mean_expr = mean_expr[expr_filt]\n",
    "\n",
    "    # Keep only expressed genes\n",
    "    dt_ = dt_[expr_filt,:].copy()\n",
    "\n",
    "    # Perform de (only one grouping)\n",
    "    de_naive = norm.de(dg,dt_,dc_)\n",
    "\n",
    "    pval = list(de_naive[0][0])\n",
    "    qval = correct_pvalues_for_multiple_testing(pval)\n",
    "    lfc = list(de_naive[1][0])\n",
    "\n",
    "    res = pd.DataFrame({\"gene\" : genes, \"pval\" : pval, \"qval\" : qval, \"log2fc\" : lfc, \"mean\" : mean_expr})\n",
    "\n",
    "    dt1 = dt_[:, dg[0] == 1].mean(axis = 1)\n",
    "    dt2 = dt_[:, dg[0] == 2].mean(axis = 1)\n",
    "    genes_filt = [gene == \"Il10\" for gene in genes]\n",
    "    m1 = dt1[genes_filt]\n",
    "    m2 = dt2[genes_filt]\n",
    "    if m1 > m2 : print(\"Subset 1 has higher Il10 expression\")\n",
    "    elif m1 < m2 : print(\"Subset 2 has higher Il10 expression\")\n",
    "\n",
    "    return res"
   ]
  },
  {
   "cell_type": "code",
   "execution_count": 12,
   "metadata": {},
   "outputs": [],
   "source": [
    "# Inputs for normalisr\n",
    "\n",
    "dt0 = adata.raw.X[:, [not(gene.startswith((\"mt-\", 'Rps', \"Rpl\"))) for gene in adata.var['gene_name']]].T\n",
    "dc0 = np.array(adata.obs[[\"n_counts\", \"n_genes\"]]).T"
   ]
  },
  {
   "cell_type": "code",
   "execution_count": 13,
   "metadata": {},
   "outputs": [],
   "source": [
    "# Normalisation for normalisr\n",
    "dt,_,_,dc2 = norm.lcpm(dt0)\n",
    "dc=np.concatenate([dc0,dc2],axis=0)\n",
    "dc=norm.normcov(dc)\n",
    "sf=norm.scaling_factor(dt0)\n",
    "weight=norm.compute_var(dt,dc)\n",
    "dt,dc=norm.normvar(dt,dc,weight,sf)"
   ]
  },
  {
   "cell_type": "code",
   "execution_count": 14,
   "metadata": {},
   "outputs": [],
   "source": [
    "filt = [not(gene.startswith((\"mt-\", 'Rps', \"Rpl\"))) for gene in adata.var['gene_name']]\n",
    "gene_names = adata.var.gene_name[filt]"
   ]
  },
  {
   "cell_type": "code",
   "execution_count": 15,
   "metadata": {},
   "outputs": [],
   "source": [
    "tests = []\n",
    "names = []\n",
    "TEST = \"normalisr\""
   ]
  },
  {
   "cell_type": "code",
   "execution_count": 16,
   "metadata": {},
   "outputs": [
    {
     "name": "stdout",
     "output_type": "stream",
     "text": [
      "Subset 1 has higher Il10 expression\n",
      "NAIVE_0h-1vsNAIVE_0h-2_normalisr\n",
      "Subset 1 has higher Il10 expression\n",
      "N6vsDMSO_normalisr\n",
      "Subset 2 has higher Il10 expression\n",
      "N6vsDMSO_2h_normalisr\n",
      "Subset 1 has higher Il10 expression\n",
      "N6vsDMSO_24h_normalisr\n",
      "Subset 1 has higher Il10 expression\n",
      "N6vsDMSO_48h_normalisr\n",
      "Subset 1 has higher Il10 expression\n",
      "N6vsDMSO_d7_normalisr\n",
      "Subset 1 has higher Il10 expression\n",
      "N6vsDMSO_IL10Pos_normalisr\n",
      "Subset 1 has higher Il10 expression\n",
      "N6vsDMSO_IL10Pos24h_normalisr\n",
      "Subset 1 has higher Il10 expression\n",
      "N6vsDMSO_IL10Pos48h_normalisr\n",
      "Subset 1 has higher Il10 expression\n",
      "N6vsDMSO_IL10Posd7_normalisr\n",
      "Subset 2 has higher Il10 expression\n",
      "N6vsDMSO_IL10Neg_normalisr\n",
      "Subset 1 has higher Il10 expression\n",
      "N6vsDMSO_IL10Neg24h_normalisr\n",
      "Subset 2 has higher Il10 expression\n",
      "N6vsDMSO_IL10Neg48h_normalisr\n",
      "Subset 2 has higher Il10 expression\n",
      "N6vsDMSO_IL10Negd7_normalisr\n"
     ]
    }
   ],
   "source": [
    "# Control\n",
    "tests.append(de_test((adata.obs['sample'] == \"NAIVE_0h-1\"), (adata.obs['sample'] == \"NAIVE_0h-2\"), dc, dt, dt0, gene_names))\n",
    "names.append(\"NAIVE_0h-1vsNAIVE_0h-2_\"+TEST)\n",
    "print(names[-1])\n",
    "\n",
    "# N6 vs DMSO\n",
    "tests.append(de_test((adata.obs['cond'] == \"N6\"), (adata.obs['cond'] == \"DMSO\"), dc, dt, dt0, gene_names))\n",
    "names.append(\"N6vsDMSO_\"+TEST)\n",
    "print(names[-1])\n",
    "\n",
    "tests.append(de_test((adata.obs['cond'] == \"N6\") & (adata.obs['tp'] == \"2h\"), (adata.obs['cond'] == \"DMSO\") & (adata.obs['tp'] == \"2h\"), dc, dt, dt0, gene_names))\n",
    "names.append(\"N6vsDMSO_2h_\"+TEST)\n",
    "print(names[-1])\n",
    "tests.append(de_test((adata.obs['cond'] == \"N6\") & (adata.obs['tp'] == \"24h\"), (adata.obs['cond'] == \"DMSO\") & (adata.obs['tp'] == \"24h\"), dc, dt, dt0, gene_names))\n",
    "names.append(\"N6vsDMSO_24h_\"+TEST)\n",
    "print(names[-1])\n",
    "tests.append(de_test((adata.obs['cond'] == \"N6\") & (adata.obs['tp'] == \"48h\"), (adata.obs['cond'] == \"DMSO\") & (adata.obs['tp'] == \"48h\"), dc, dt, dt0, gene_names))\n",
    "names.append(\"N6vsDMSO_48h_\"+TEST)\n",
    "print(names[-1])\n",
    "tests.append(de_test((adata.obs['cond'] == \"N6\") & (adata.obs['tp'] == \"d7\"), (adata.obs['cond'] == \"DMSO\") & (adata.obs['tp'] == \"d7\"), dc, dt, dt0, gene_names))\n",
    "names.append(\"N6vsDMSO_d7_\"+TEST)\n",
    "print(names[-1])\n",
    "\n",
    "tests.append(de_test((adata.obs['cond'] == \"N6\") & (adata.obs['Il10_positive'] == \"Il10+\"), (adata.obs['cond'] == \"DMSO\") & (adata.obs['Il10_positive'] == \"Il10+\"), dc, dt, dt0, gene_names))\n",
    "names.append(\"N6vsDMSO_IL10Pos_\"+TEST)\n",
    "print(names[-1])\n",
    "tests.append(de_test((adata.obs['cond'] == \"N6\") & (adata.obs['Il10_positive'] == \"Il10+\") & (adata.obs['tp'] == \"24h\"), \n",
    "                                  (adata.obs['cond'] == \"DMSO\") & (adata.obs['Il10_positive'] == \"Il10+\") & (adata.obs['tp'] == \"24h\"), dc, dt, dt0, gene_names))\n",
    "names.append(\"N6vsDMSO_IL10Pos24h_\"+TEST)\n",
    "print(names[-1])\n",
    "tests.append(de_test((adata.obs['cond'] == \"N6\") & (adata.obs['Il10_positive'] == \"Il10+\") & (adata.obs['tp'] == \"48h\"), \n",
    "                                  (adata.obs['cond'] == \"DMSO\") & (adata.obs['Il10_positive'] == \"Il10+\") & (adata.obs['tp'] == \"48h\"), dc, dt, dt0, gene_names))\n",
    "names.append(\"N6vsDMSO_IL10Pos48h_\"+TEST)\n",
    "print(names[-1])\n",
    "tests.append(de_test((adata.obs['cond'] == \"N6\") & (adata.obs['Il10_positive'] == \"Il10+\") & (adata.obs['tp'] == \"d7\"), \n",
    "                                  (adata.obs['cond'] == \"DMSO\") & (adata.obs['Il10_positive'] == \"Il10+\") & (adata.obs['tp'] == \"d7\"), dc, dt, dt0, gene_names))\n",
    "names.append(\"N6vsDMSO_IL10Posd7_\"+TEST)\n",
    "print(names[-1])\n",
    "tests.append(de_test((adata.obs['cond'] == \"N6\") & (adata.obs['Il10_positive'] == \"Il10-\"), (adata.obs['cond'] == \"DMSO\") & (adata.obs['Il10_positive'] == \"Il10-\"), dc, dt, dt0, gene_names))\n",
    "names.append(\"N6vsDMSO_IL10Neg_\"+TEST)\n",
    "print(names[-1])\n",
    "tests.append(de_test((adata.obs['cond'] == \"N6\") & (adata.obs['Il10_positive'] == \"Il10-\") & (adata.obs['tp'] == \"24h\"), \n",
    "                                  (adata.obs['cond'] == \"DMSO\") & (adata.obs['Il10_positive'] == \"Il10-\") & (adata.obs['tp'] == \"24h\"), dc, dt, dt0, gene_names))\n",
    "names.append(\"N6vsDMSO_IL10Neg24h_\"+TEST)\n",
    "print(names[-1])\n",
    "tests.append(de_test((adata.obs['cond'] == \"N6\") & (adata.obs['Il10_positive'] == \"Il10-\") & (adata.obs['tp'] == \"48h\"), \n",
    "                                  (adata.obs['cond'] == \"DMSO\") & (adata.obs['Il10_positive'] == \"Il10-\") & (adata.obs['tp'] == \"48h\"), dc, dt, dt0, gene_names))\n",
    "names.append(\"N6vsDMSO_IL10Neg48h_\"+TEST)\n",
    "print(names[-1])\n",
    "tests.append(de_test((adata.obs['cond'] == \"N6\") & (adata.obs['Il10_positive'] == \"Il10-\") & (adata.obs['tp'] == \"d7\"), \n",
    "                                  (adata.obs['cond'] == \"DMSO\") & (adata.obs['Il10_positive'] == \"Il10-\") & (adata.obs['tp'] == \"d7\"), dc, dt, dt0, gene_names))\n",
    "names.append(\"N6vsDMSO_IL10Negd7_\"+TEST)\n",
    "print(names[-1])"
   ]
  },
  {
   "cell_type": "code",
   "execution_count": 17,
   "metadata": {},
   "outputs": [
    {
     "name": "stdout",
     "output_type": "stream",
     "text": [
      "Subset 2 has higher Il10 expression\n",
      "2hvs24h_N6_normalisr\n",
      "Subset 2 has higher Il10 expression\n",
      "24hvs48h_N6_normalisr\n",
      "Subset 1 has higher Il10 expression\n",
      "48hvsd7_N6_normalisr\n",
      "Subset 1 has higher Il10 expression\n",
      "2hvs24h_IL10Pos_normalisr\n",
      "Subset 2 has higher Il10 expression\n",
      "24hvs48h_IL10Pos_normalisr\n",
      "Subset 1 has higher Il10 expression\n",
      "48hvsd7_IL10Pos_normalisr\n",
      "Subset 1 has higher Il10 expression\n",
      "IL10PosvsNeg_normalisr\n",
      "Subset 1 has higher Il10 expression\n",
      "IL10PosvsNeg_2h_normalisr\n",
      "Subset 1 has higher Il10 expression\n",
      "IL10PosvsNeg_24h_normalisr\n",
      "Subset 1 has higher Il10 expression\n",
      "IL10PosvsNeg_48h_normalisr\n",
      "Subset 1 has higher Il10 expression\n",
      "IL10PosvsNeg_d7_normalisr\n",
      "Subset 1 has higher Il10 expression\n",
      "IL10PosvsNeg_N6-2h_normalisr\n",
      "Subset 1 has higher Il10 expression\n",
      "IL10PosvsNeg_N6-24h_normalisr\n",
      "Subset 1 has higher Il10 expression\n",
      "IL10PosvsNeg_N6-48h_normalisr\n",
      "Subset 1 has higher Il10 expression\n",
      "IL10PosvsNeg_N6-d7_normalisr\n",
      "Subset 1 has higher Il10 expression\n",
      "IL10PosvsNeg_DMSO-24h_normalisr\n",
      "Subset 1 has higher Il10 expression\n",
      "IL10PosvsNeg_DMSO-48h_normalisr\n",
      "Subset 1 has higher Il10 expression\n",
      "IL10PosvsNeg_DMSO-d7_normalisr\n",
      "Subset 1 has higher Il10 expression\n",
      "IL10HighvsLow_normalisr\n",
      "Subset 1 has higher Il10 expression\n",
      "IL10HighvsLow_48h_normalisr\n",
      "Subset 1 has higher Il10 expression\n",
      "IL10HighvsLow_N6-48h_normalisr\n",
      "Subset 1 has higher Il10 expression\n",
      "N6-48h-Il10highvsNaive_normalisr\n"
     ]
    }
   ],
   "source": [
    "# tp vs next tp\n",
    "tests.append(de_test((adata.obs['tp'] == \"2h\") & (adata.obs['cond'] == \"N6\"), (adata.obs['tp'] == \"24h\") & (adata.obs['cond'] == \"N6\"), dc, dt, dt0, gene_names))\n",
    "names.append(\"2hvs24h_N6_\"+TEST)\n",
    "print(names[-1])\n",
    "tests.append(de_test((adata.obs['tp'] == \"24h\") & (adata.obs['cond'] == \"N6\"), (adata.obs['tp'] == \"48h\") & (adata.obs['cond'] == \"N6\"), dc, dt, dt0, gene_names))\n",
    "names.append(\"24hvs48h_N6_\"+TEST)\n",
    "print(names[-1])\n",
    "tests.append(de_test((adata.obs['tp'] == \"48h\") & (adata.obs['cond'] == \"N6\"), (adata.obs['tp'] == \"d7\") & (adata.obs['cond'] == \"N6\"), dc, dt, dt0, gene_names))\n",
    "names.append(\"48hvsd7_N6_\"+TEST)\n",
    "print(names[-1])\n",
    "tests.append(de_test((adata.obs['tp'] == \"2h\") & (adata.obs['Il10_positive'] == \"Il10+\"), (adata.obs['tp'] == \"24h\") & (adata.obs['Il10_positive'] == \"Il10+\"), dc, dt, dt0, gene_names))\n",
    "names.append(\"2hvs24h_IL10Pos_\"+TEST)\n",
    "print(names[-1])\n",
    "tests.append(de_test((adata.obs['tp'] == \"24h\") & (adata.obs['Il10_positive'] == \"Il10+\"), (adata.obs['tp'] == \"48h\") & (adata.obs['Il10_positive'] == \"Il10+\"), dc, dt, dt0, gene_names))\n",
    "names.append(\"24hvs48h_IL10Pos_\"+TEST)\n",
    "print(names[-1])\n",
    "tests.append(de_test((adata.obs['tp'] == \"48h\") & (adata.obs['Il10_positive'] == \"Il10+\"), (adata.obs['tp'] == \"d7\") & (adata.obs['Il10_positive'] == \"Il10+\"), dc, dt, dt0, gene_names))\n",
    "names.append(\"48hvsd7_IL10Pos_\"+TEST)\n",
    "print(names[-1])\n",
    "\n",
    "# IL10+ vs IL10-\n",
    "tests.append(de_test((adata.obs['Il10_positive'] == \"Il10+\"), (adata.obs['Il10_positive'] == \"Il10-\"), dc, dt, dt0, gene_names))\n",
    "names.append(\"IL10PosvsNeg_\"+TEST)\n",
    "print(names[-1])\n",
    "tests.append(de_test((adata.obs['Il10_positive'] == \"Il10+\") & (adata.obs['tp'] == \"2h\"), (adata.obs['Il10_positive'] == \"Il10-\") & (adata.obs['tp'] == \"2h\"), dc, dt, dt0, gene_names))\n",
    "names.append(\"IL10PosvsNeg_2h_\"+TEST)\n",
    "print(names[-1])\n",
    "tests.append(de_test((adata.obs['Il10_positive'] == \"Il10+\") & (adata.obs['tp'] == \"24h\"), (adata.obs['Il10_positive'] == \"Il10-\") & (adata.obs['tp'] == \"24h\"), dc, dt, dt0, gene_names))\n",
    "names.append(\"IL10PosvsNeg_24h_\"+TEST)\n",
    "print(names[-1])\n",
    "tests.append(de_test((adata.obs['Il10_positive'] == \"Il10+\") & (adata.obs['tp'] == \"48h\"), (adata.obs['Il10_positive'] == \"Il10-\") & (adata.obs['tp'] == \"48h\"), dc, dt, dt0, gene_names))\n",
    "names.append(\"IL10PosvsNeg_48h_\"+TEST)\n",
    "print(names[-1])\n",
    "tests.append(de_test((adata.obs['Il10_positive'] == \"Il10+\") & (adata.obs['tp'] == \"d7\"), (adata.obs['Il10_positive'] == \"Il10-\") & (adata.obs['tp'] == \"d7\"), dc, dt, dt0, gene_names))\n",
    "names.append(\"IL10PosvsNeg_d7_\"+TEST)\n",
    "print(names[-1])\n",
    "tests.append(de_test((adata.obs['Il10_positive'] == \"Il10+\") & (adata.obs['sample2'] == \"N6-2h\"), \n",
    "                                  (adata.obs['Il10_positive'] == \"Il10-\") &  (adata.obs['sample2'] == \"N6-2h\"), dc, dt, dt0, gene_names))\n",
    "names.append(\"IL10PosvsNeg_N6-2h_\"+TEST)\n",
    "print(names[-1])\n",
    "tests.append(de_test((adata.obs['Il10_positive'] == \"Il10+\") & (adata.obs['sample2'] == \"N6-24h\"), \n",
    "                                  (adata.obs['Il10_positive'] == \"Il10-\") &  (adata.obs['sample2'] == \"N6-24h\"), dc, dt, dt0, gene_names))\n",
    "names.append(\"IL10PosvsNeg_N6-24h_\"+TEST)\n",
    "print(names[-1])\n",
    "tests.append(de_test((adata.obs['Il10_positive'] == \"Il10+\") & (adata.obs['sample2'] == \"N6-48h\"), \n",
    "                                  (adata.obs['Il10_positive'] == \"Il10-\") &  (adata.obs['sample2'] == \"N6-48h\"), dc, dt, dt0, gene_names))\n",
    "names.append(\"IL10PosvsNeg_N6-48h_\"+TEST)\n",
    "print(names[-1])\n",
    "tests.append(de_test((adata.obs['Il10_positive'] == \"Il10+\") & (adata.obs['sample2'] == \"N6-d7\"), \n",
    "                                  (adata.obs['Il10_positive'] == \"Il10-\") &  (adata.obs['sample2'] == \"N6-d7\"), dc, dt, dt0, gene_names))\n",
    "names.append(\"IL10PosvsNeg_N6-d7_\"+TEST)\n",
    "print(names[-1])\n",
    "tests.append(de_test((adata.obs['Il10_positive'] == \"Il10+\") & (adata.obs['sample2'] == \"DMSO-24h\"), \n",
    "                                  (adata.obs['Il10_positive'] == \"Il10-\") &  (adata.obs['sample2'] == \"DMSO-24h\"), dc, dt, dt0, gene_names))\n",
    "names.append(\"IL10PosvsNeg_DMSO-24h_\"+TEST)\n",
    "print(names[-1])\n",
    "tests.append(de_test((adata.obs['Il10_positive'] == \"Il10+\") & (adata.obs['sample2'] == \"DMSO-48h\"), \n",
    "                                  (adata.obs['Il10_positive'] == \"Il10-\") &  (adata.obs['sample2'] == \"DMSO-48h\"), dc, dt, dt0, gene_names))\n",
    "names.append(\"IL10PosvsNeg_DMSO-48h_\"+TEST)\n",
    "print(names[-1])\n",
    "tests.append(de_test((adata.obs['Il10_positive'] == \"Il10+\") & (adata.obs['sample2'] == \"DMSO-d7\"), \n",
    "                                  (adata.obs['Il10_positive'] == \"Il10-\") &  (adata.obs['sample2'] == \"DMSO-d7\"), dc, dt, dt0, gene_names))\n",
    "names.append(\"IL10PosvsNeg_DMSO-d7_\"+TEST)\n",
    "print(names[-1])\n",
    "\n",
    "# IL10high vs IL10low\n",
    "tests.append(de_test((adata.obs['Il10_high'] == 'High'), (adata.obs['Il10_low'] == 'Low'), dc, dt, dt0, gene_names))\n",
    "names.append(\"IL10HighvsLow_\"+TEST)\n",
    "print(names[-1])\n",
    "tests.append(de_test((adata.obs['Il10_high'] == 'High') & (adata.obs['tp'] == \"48h\"), (adata.obs['Il10_low'] == 'Low') & (adata.obs['tp'] == \"48h\"), dc, dt, dt0, gene_names))\n",
    "names.append(\"IL10HighvsLow_48h_\"+TEST)\n",
    "print(names[-1])\n",
    "tests.append(de_test((adata.obs['Il10_high'] == 'High') & (adata.obs['sample2'] == \"N6-48h\"), (adata.obs['Il10_low'] == 'Low') & (adata.obs['sample2'] == \"N6-48h\"), dc, dt, dt0, gene_names))\n",
    "names.append(\"IL10HighvsLow_N6-48h_\"+TEST)\n",
    "print(names[-1])\n",
    "\n",
    "# Final vs Control\n",
    "tests.append(de_test((adata.obs['sample2'] == \"N6-48h\") & (adata.obs['Il10_high'] == 'High'), (adata.obs['sample2'] == \"NAIVE-0h\"), dc, dt, dt0, gene_names))\n",
    "names.append(\"N6-48h-Il10highvsNaive_\"+TEST)\n",
    "print(names[-1])"
   ]
  },
  {
   "cell_type": "code",
   "execution_count": 18,
   "metadata": {},
   "outputs": [
    {
     "name": "stdout",
     "output_type": "stream",
     "text": [
      "Subset 1 has higher Il10 expression\n",
      "Clusters_2h_Naïvelike_vs_rest_normalisr\n",
      "Subset 1 has higher Il10 expression\n",
      "Subset 2 has higher Il10 expression\n",
      "Clusters_2h_N6independent_vs_rest_normalisr\n",
      "Subset 1 has higher Il10 expression\n",
      "Clusters_2h_Naïvelike_vs_N6dependent_normalisr\n",
      "Subset 1 has higher Il10 expression\n",
      "Clusters_2h_Naïvelike_vs_N6independent_normalisr\n",
      "Subset 1 has higher Il10 expression\n",
      "Clusters_2h_N6dependent_vs_N6independent_normalisr\n",
      "Subset 2 has higher Il10 expression\n",
      "Clusters_2h_N6vsDMSO_Naïvelike_normalisr\n",
      "Subset 2 has higher Il10 expression\n",
      "Clusters_2h_N6vsDMSO_N6independent_normalisr\n"
     ]
    }
   ],
   "source": [
    "#Clusters 2 hours\n",
    "tests.append(de_test((adata.obs['clusters_2h'] == 'Naïve-like_2h'), \n",
    "            (adata.obs['clusters_2h'].isin(['N6-dependent_2h', 'N6-independent_2h'])), dc, dt, dt0, gene_names))\n",
    "names.append(\"Clusters_2h_Naïvelike_vs_rest_\"+TEST)\n",
    "print(names[-1])\n",
    "tests.append(de_test((adata.obs['clusters_2h'] == 'N6-dependent_2h'), \n",
    "            (adata.obs['clusters_2h'].isin(['Naïve-like_2h', 'N6-independent_2h'])), dc, dt, dt0, gene_names))\n",
    "names.append(\"Clusters_2h_N6dependent_vs_rest_\"+TEST)\n",
    "tests.append(de_test((adata.obs['clusters_2h'] == 'N6-independent_2h'), \n",
    "            (adata.obs['clusters_2h'].isin(['N6-dependent_2h', 'Naïve-like_2h'])), dc, dt, dt0, gene_names))\n",
    "names.append(\"Clusters_2h_N6independent_vs_rest_\"+TEST)\n",
    "print(names[-1])\n",
    "\n",
    "tests.append(de_test((adata.obs['clusters_2h'] == 'Naïve-like_2h'), \n",
    "            (adata.obs['clusters_2h'] == 'N6-dependent_2h'), dc, dt, dt0, gene_names))\n",
    "names.append(\"Clusters_2h_Naïvelike_vs_N6dependent_\"+TEST)\n",
    "print(names[-1])\n",
    "tests.append(de_test((adata.obs['clusters_2h'] == 'Naïve-like_2h'), \n",
    "            (adata.obs['clusters_2h'] == 'N6-independent_2h'), dc, dt, dt0, gene_names))\n",
    "names.append(\"Clusters_2h_Naïvelike_vs_N6independent_\"+TEST)\n",
    "print(names[-1])\n",
    "tests.append(de_test((adata.obs['clusters_2h'] == 'N6-dependent_2h'), \n",
    "            (adata.obs['clusters_2h'] == 'N6-independent_2h'), dc, dt, dt0, gene_names))\n",
    "names.append(\"Clusters_2h_N6dependent_vs_N6independent_\"+TEST)\n",
    "print(names[-1])\n",
    "\n",
    "tests.append(de_test((adata.obs['clusters_2h'] == 'Naïve-like_2h') & (adata.obs['cond'] == \"N6\"), \n",
    "            (adata.obs['clusters_2h'] == 'Naïve-like_2h') & (adata.obs['cond'] == \"DMSO\"), dc, dt, dt0, gene_names))\n",
    "names.append(\"Clusters_2h_N6vsDMSO_Naïvelike_\"+TEST)\n",
    "print(names[-1])\n",
    "tests.append(de_test((adata.obs['clusters_2h'] == 'N6-independent_2h') & (adata.obs['cond'] == \"N6\"), \n",
    "            (adata.obs['clusters_2h'] == 'N6-independent_2h') & (adata.obs['cond'] == \"DMSO\"), dc, dt, dt0, gene_names))\n",
    "names.append(\"Clusters_2h_N6vsDMSO_N6independent_\"+TEST)\n",
    "print(names[-1])"
   ]
  },
  {
   "cell_type": "code",
   "execution_count": 19,
   "metadata": {},
   "outputs": [
    {
     "name": "stdout",
     "output_type": "stream",
     "text": [
      "NAIVE_0h-1vsNAIVE_0h-2_normalisr\n",
      "N6vsDMSO_normalisr\n",
      "N6vsDMSO_2h_normalisr\n",
      "N6vsDMSO_24h_normalisr\n",
      "N6vsDMSO_48h_normalisr\n",
      "N6vsDMSO_d7_normalisr\n",
      "N6vsDMSO_IL10Pos_normalisr\n",
      "N6vsDMSO_IL10Pos24h_normalisr\n",
      "N6vsDMSO_IL10Pos48h_normalisr\n",
      "N6vsDMSO_IL10Posd7_normalisr\n",
      "N6vsDMSO_IL10Neg_normalisr\n",
      "N6vsDMSO_IL10Neg24h_normalisr\n",
      "N6vsDMSO_IL10Neg48h_normalisr\n",
      "N6vsDMSO_IL10Negd7_normalisr\n",
      "2hvs24h_N6_normalisr\n",
      "24hvs48h_N6_normalisr\n",
      "48hvsd7_N6_normalisr\n",
      "2hvs24h_IL10Pos_normalisr\n",
      "24hvs48h_IL10Pos_normalisr\n",
      "48hvsd7_IL10Pos_normalisr\n",
      "IL10PosvsNeg_normalisr\n",
      "IL10PosvsNeg_2h_normalisr\n",
      "IL10PosvsNeg_24h_normalisr\n",
      "IL10PosvsNeg_48h_normalisr\n",
      "IL10PosvsNeg_d7_normalisr\n",
      "IL10PosvsNeg_N6-2h_normalisr\n",
      "IL10PosvsNeg_N6-24h_normalisr\n",
      "IL10PosvsNeg_N6-48h_normalisr\n",
      "IL10PosvsNeg_N6-d7_normalisr\n",
      "IL10PosvsNeg_DMSO-24h_normalisr\n",
      "IL10PosvsNeg_DMSO-48h_normalisr\n",
      "IL10PosvsNeg_DMSO-d7_normalisr\n",
      "IL10HighvsLow_normalisr\n",
      "IL10HighvsLow_48h_normalisr\n",
      "IL10HighvsLow_N6-48h_normalisr\n",
      "N6-48h-Il10highvsNaive_normalisr\n",
      "Clusters_2h_Naïvelike_vs_rest_normalisr\n",
      "Clusters_2h_N6dependent_vs_rest_normalisr\n",
      "Clusters_2h_N6independent_vs_rest_normalisr\n",
      "Clusters_2h_Naïvelike_vs_N6dependent_normalisr\n",
      "Clusters_2h_Naïvelike_vs_N6independent_normalisr\n",
      "Clusters_2h_N6dependent_vs_N6independent_normalisr\n",
      "Clusters_2h_N6vsDMSO_Naïvelike_normalisr\n",
      "Clusters_2h_N6vsDMSO_N6independent_normalisr\n"
     ]
    }
   ],
   "source": [
    "results_list = []\n",
    "\n",
    "for i in range(len(tests)):\n",
    "    print(names[i])\n",
    "\n",
    "    results = tests[i]\n",
    "    if results.loc[results.gene == \"Il10\",'log2fc'].values < 0:\n",
    "        results[\"log2fc\"] = -results[\"log2fc\"]\n",
    "    results[\"fc\"] = 2**results[\"log2fc\"]\n",
    "    results = results[['gene', 'pval', 'qval', 'log2fc', 'fc', 'mean']]\n",
    "\n",
    "    results = results.sort_values(by=\"qval\", ascending=True)\n",
    "    results.reset_index(drop=True, inplace=True)\n",
    "    results.index.name = 'pval rank'\n",
    "    results = results.sort_values(by=\"log2fc\", key=abs, ascending=False)\n",
    "\n",
    "    save_object(results, objects_folder+\"deg_final_\"+names[i]+\".pkl\")\n",
    "    results_list.append(results)"
   ]
  },
  {
   "cell_type": "code",
   "execution_count": 20,
   "metadata": {},
   "outputs": [],
   "source": [
    "save_object(results_list, objects_folder+\"results_list.pkl\")\n",
    "save_object(names, objects_folder+\"names.pkl\")"
   ]
  },
  {
   "cell_type": "markdown",
   "metadata": {},
   "source": [
    "# 3. Excel sheets to save the differential expression results"
   ]
  },
  {
   "cell_type": "code",
   "execution_count": 35,
   "metadata": {},
   "outputs": [],
   "source": [
    "with open(objects_folder+'results_list.pkl', 'rb') as inp:\n",
    "    results_list = pickle.load(inp)\n",
    "\n",
    "with open(objects_folder+'names.pkl', 'rb') as inp:\n",
    "    names = pickle.load(inp)"
   ]
  },
  {
   "cell_type": "code",
   "execution_count": 36,
   "metadata": {},
   "outputs": [],
   "source": [
    "qthresholds = []\n",
    "\n",
    "for res in range(len(results_list)):\n",
    "\n",
    "    result = results_list[res]\n",
    "    d = result.qval.tolist()\n",
    "    d = [-np.log10(e) for e in d]\n",
    "    h, e = np.histogram(d, bins = range(0, 310, 1))\n",
    "\n",
    "    i = 0\n",
    "    while i < len(h):\n",
    "        if h[i]+h[i+1]+h[i+2]+h[i+3]+h[i+4] < 150:\n",
    "            q = e[i]\n",
    "            qthresholds.append(10.0**(-q))\n",
    "            i = len(h)\n",
    "        i+=5"
   ]
  },
  {
   "cell_type": "code",
   "execution_count": 41,
   "metadata": {},
   "outputs": [],
   "source": [
    "def volcano_plot(result, name, pvt, fct, hide=False):\n",
    "\n",
    "    if hide : result = result[result.gene != \"Il10\"]\n",
    "\n",
    "    result['color'] = \"grey\" # intermediate\n",
    "    result.loc[(result['fc'] >= fct) & (result['qval'] < pvt), 'color'] = \"red\"  # upregulated\n",
    "    result.loc[(result['fc'] <= 1/fct) & (result['qval'] < pvt), 'color'] = \"green\"   # downregulated\n",
    "\n",
    "    # replace 0 P-value with lowest non-zero P-value\n",
    "    smallest = result[result.qval>0].sort_values(\"qval\", ascending=True).iloc[0, 2]\n",
    "    result[\"qval\"] = [max(e, smallest) for e in result[\"qval\"]]\n",
    "    result['logqv'] = -(np.log10(result['qval']))\n",
    "\n",
    "    plt.style.use('seaborn-whitegrid')\n",
    "    plt.scatter(result['log2fc'], result['logqv'], c=result['color'], alpha=0.5)\n",
    "    plt.title('qval<10^(-'+str(int(-np.log10(pvt)))+'), fc>'+str(fct), fontsize=18, fontname='arial', loc='center', fontweight='bold')\n",
    "    plt.xlabel('Log2 Fold Change',fontsize=15, fontname=\"arial\", fontweight=\"normal\")\n",
    "    plt.ylabel('-Log10 Q-Value', fontsize=15, fontname=\"arial\", fontweight=\"normal\")\n",
    "    plt.xticks(fontsize=12, fontname=\"arial\")\n",
    "    plt.yticks(fontsize=12, fontname=\"arial\")\n",
    "    xmax = max(abs(result['log2fc'])) * 1.2\n",
    "    plt.xlim((-xmax, xmax))\n",
    "    plt.ylim(top = max(result['logqv']) * 1.25)\n",
    "\n",
    "    # Add gene labels\n",
    "    texts = []\n",
    "    res2label = result.loc[(result['fc'] > fct) | (result['fc'] < 1/fct)]\n",
    "\n",
    "    if len(res2label)>0:\n",
    "        thresh_p = res2label.sort_values(\"logqv\", ascending=False).iloc[min(len(res2label)-1, 60), 7]\n",
    "        if thresh_p < -np.log10(pvt) : thresh_p = -np.log10(pvt)\n",
    "        if sum(res2label.logqv >= thresh_p) > 70:\n",
    "            thresh_fc = abs(res2label.sort_values(by=\"log2fc\", key=abs, ascending=False).iloc[min(len(res2label)-1, 60), 3])\n",
    "        else:\n",
    "            thresh_fc = np.log2(fct)\n",
    "        if thresh_fc < np.log2(fct) : thresh_fc = np.log2(fct)\n",
    "\n",
    "        if sum((res2label.logqv >= thresh_p) & (abs(res2label.log2fc) >= thresh_fc)) < 70:\n",
    "            for j in range(len(res2label.gene)):\n",
    "                if (((res2label.iloc[j, 7] >= thresh_p)) & (abs(res2label.iloc[j, 3]) >= thresh_fc)):\n",
    "                    texts.append(plt.text(res2label.iloc[j, 3], res2label.iloc[j, 7], res2label.iloc[j, 0]))\n",
    "\n",
    "            adjust_text(texts, arrowprops=dict(arrowstyle=\"-\", color='black', lw=0.5))\n",
    "    \n",
    "    plt.rcParams[\"figure.figsize\"] = (8,8)\n",
    "    plt.savefig(\"volcano_plots/volcano_\"+name+\".png\", format='png', bbox_inches='tight', dpi=300)\n",
    "    plt.close()"
   ]
  },
  {
   "cell_type": "code",
   "execution_count": 42,
   "metadata": {},
   "outputs": [
    {
     "name": "stdout",
     "output_type": "stream",
     "text": [
      "NAIVE_0h-1vsNAIVE_0h-2_normalisr\n",
      "N6vsDMSO_normalisr\n",
      "N6vsDMSO_2h_normalisr\n",
      "N6vsDMSO_24h_normalisr\n",
      "N6vsDMSO_48h_normalisr\n",
      "N6vsDMSO_IL10Pos_normalisr\n",
      "N6vsDMSO_IL10Pos24h_normalisr\n",
      "N6vsDMSO_IL10Pos48h_normalisr\n",
      "N6vsDMSO_IL10Posd7_normalisr\n",
      "N6vsDMSO_IL10Neg_normalisr\n",
      "N6vsDMSO_IL10Neg24h_normalisr\n",
      "N6vsDMSO_IL10Neg48h_normalisr\n",
      "N6vsDMSO_IL10Negd7_normalisr\n",
      "2hvs24h_N6_normalisr\n",
      "24hvs48h_N6_normalisr\n",
      "48hvsd7_N6_normalisr\n",
      "2hvs24h_IL10Pos_normalisr\n",
      "24hvs48h_IL10Pos_normalisr\n",
      "48hvsd7_IL10Pos_normalisr\n",
      "IL10PosvsNeg_normalisr\n",
      "IL10PosvsNeg_2h_normalisr\n",
      "IL10PosvsNeg_24h_normalisr\n",
      "IL10PosvsNeg_48h_normalisr\n",
      "IL10PosvsNeg_N6-2h_normalisr\n",
      "IL10PosvsNeg_N6-24h_normalisr\n",
      "IL10PosvsNeg_N6-48h_normalisr\n",
      "IL10PosvsNeg_N6-d7_normalisr\n",
      "IL10PosvsNeg_DMSO-24h_normalisr\n",
      "IL10PosvsNeg_DMSO-48h_normalisr\n",
      "IL10PosvsNeg_DMSO-d7_normalisr\n",
      "IL10HighvsLow_normalisr\n",
      "IL10HighvsLow_48h_normalisr\n",
      "IL10HighvsLow_N6-48h_normalisr\n",
      "N6-48h-Il10highvsNaive_normalisr\n",
      "Clusters_2h_Naïvelike_vs_rest_normalisr\n",
      "Clusters_2h_N6dependent_vs_rest_normalisr\n",
      "Clusters_2h_N6independent_vs_rest_normalisr\n",
      "Clusters_2h_Naïvelike_vs_N6dependent_normalisr\n",
      "Clusters_2h_Naïvelike_vs_N6independent_normalisr\n",
      "Clusters_2h_N6dependent_vs_N6independent_normalisr\n",
      "Clusters_2h_N6vsDMSO_Naïvelike_normalisr\n",
      "Clusters_2h_N6vsDMSO_N6independent_normalisr\n"
     ]
    }
   ],
   "source": [
    "results_copy = results_list[:]\n",
    "fct = 2 # fold change threshold\n",
    "\n",
    "for i in range(len(names)):\n",
    "    print(names[i])\n",
    "    pvt = qthresholds[i] # p value threshold\n",
    "\n",
    "    results_copy[i] = results_copy[i].dropna()\n",
    "\n",
    "    if abs(results_copy[i][results_copy[i].gene == \"Il10\"]['log2fc'].tolist()[0]) > 18 : hide = True\n",
    "    else : hide = False\n",
    "    volcano_plot(results_copy[i], names[i], pvt, fct, hide = hide)"
   ]
  },
  {
   "cell_type": "code",
   "execution_count": 43,
   "metadata": {},
   "outputs": [
    {
     "name": "stdout",
     "output_type": "stream",
     "text": [
      "NAIVE_0h-1vsNAIVE_0h-2_normalisr\n",
      "N6vsDMSO_normalisr\n",
      "N6vsDMSO_2h_normalisr\n",
      "N6vsDMSO_24h_normalisr\n"
     ]
    },
    {
     "name": "stderr",
     "output_type": "stream",
     "text": [
      "2022-06-23 17:04:38,710 Warning: No enrich terms using library GO_Biological_Process_2021 when cutoff = 0.1\n",
      "WARNING:gseapy:Warning: No enrich terms using library GO_Biological_Process_2021 when cutoff = 0.1\n"
     ]
    },
    {
     "name": "stdout",
     "output_type": "stream",
     "text": [
      "N6vsDMSO_48h_normalisr\n",
      "N6vsDMSO_IL10Pos_normalisr\n",
      "N6vsDMSO_IL10Pos24h_normalisr\n",
      "N6vsDMSO_IL10Pos48h_normalisr\n"
     ]
    },
    {
     "name": "stderr",
     "output_type": "stream",
     "text": [
      "2022-06-23 17:05:15,833 Warning: No enrich terms using library GO_Biological_Process_2021 when cutoff = 0.1\n",
      "WARNING:gseapy:Warning: No enrich terms using library GO_Biological_Process_2021 when cutoff = 0.1\n"
     ]
    },
    {
     "name": "stdout",
     "output_type": "stream",
     "text": [
      "N6vsDMSO_IL10Posd7_normalisr\n",
      "N6vsDMSO_IL10Neg_normalisr\n",
      "N6vsDMSO_IL10Neg24h_normalisr\n"
     ]
    },
    {
     "name": "stderr",
     "output_type": "stream",
     "text": [
      "2022-06-23 17:05:39,482 Warning: No enrich terms using library GO_Biological_Process_2021 when cutoff = 0.1\n",
      "WARNING:gseapy:Warning: No enrich terms using library GO_Biological_Process_2021 when cutoff = 0.1\n"
     ]
    },
    {
     "name": "stdout",
     "output_type": "stream",
     "text": [
      "N6vsDMSO_IL10Neg48h_normalisr\n"
     ]
    },
    {
     "name": "stderr",
     "output_type": "stream",
     "text": [
      "2022-06-23 17:05:46,337 Warning: No enrich terms using library GO_Biological_Process_2021 when cutoff = 0.1\n",
      "WARNING:gseapy:Warning: No enrich terms using library GO_Biological_Process_2021 when cutoff = 0.1\n"
     ]
    },
    {
     "name": "stdout",
     "output_type": "stream",
     "text": [
      "N6vsDMSO_IL10Negd7_normalisr\n",
      "2hvs24h_N6_normalisr\n",
      "24hvs48h_N6_normalisr\n",
      "48hvsd7_N6_normalisr\n",
      "2hvs24h_IL10Pos_normalisr\n",
      "24hvs48h_IL10Pos_normalisr\n",
      "48hvsd7_IL10Pos_normalisr\n",
      "IL10PosvsNeg_normalisr\n",
      "IL10PosvsNeg_2h_normalisr\n",
      "IL10PosvsNeg_24h_normalisr\n",
      "IL10PosvsNeg_48h_normalisr\n",
      "IL10PosvsNeg_N6-2h_normalisr\n",
      "IL10PosvsNeg_N6-24h_normalisr\n",
      "IL10PosvsNeg_N6-48h_normalisr\n",
      "IL10PosvsNeg_N6-d7_normalisr\n",
      "IL10PosvsNeg_DMSO-24h_normalisr\n",
      "IL10PosvsNeg_DMSO-48h_normalisr\n",
      "IL10PosvsNeg_DMSO-d7_normalisr\n",
      "IL10HighvsLow_normalisr\n",
      "IL10HighvsLow_48h_normalisr\n",
      "IL10HighvsLow_N6-48h_normalisr\n",
      "N6-48h-Il10highvsNaive_normalisr\n",
      "Clusters_2h_Naïvelike_vs_rest_normalisr\n",
      "Clusters_2h_N6dependent_vs_rest_normalisr\n",
      "Clusters_2h_N6independent_vs_rest_normalisr\n",
      "Clusters_2h_Naïvelike_vs_N6dependent_normalisr\n",
      "Clusters_2h_Naïvelike_vs_N6independent_normalisr\n",
      "Clusters_2h_N6dependent_vs_N6independent_normalisr\n",
      "Clusters_2h_N6vsDMSO_Naïvelike_normalisr\n",
      "Clusters_2h_N6vsDMSO_N6independent_normalisr\n"
     ]
    },
    {
     "name": "stderr",
     "output_type": "stream",
     "text": [
      "2022-06-23 17:10:12,815 Warning: No enrich terms using library GO_Biological_Process_2021 when cutoff = 0.1\n",
      "WARNING:gseapy:Warning: No enrich terms using library GO_Biological_Process_2021 when cutoff = 0.1\n"
     ]
    }
   ],
   "source": [
    "fct = 2 # fold change threshold\n",
    "\n",
    "for i in range(len(names)):\n",
    "    print(names[i])\n",
    "    results = results_list[i]\n",
    "    pvt = qthresholds[i] # p value threshold\n",
    "\n",
    "    deg = results[(results.qval < pvt) & ((results.fc > fct) | (results.fc < 1/fct))].gene.tolist()\n",
    "    deg_up = results[(results.qval < pvt) & (results.fc > fct)].gene.tolist()\n",
    "    deg_down = results[(results.qval < pvt) & (results.fc < 1/fct)].gene.tolist()\n",
    "\n",
    "    if len(deg) > 10:\n",
    "        enr = gp.enrichr(gene_list=deg,\n",
    "                        gene_sets=['GO_Biological_Process_2021'],\n",
    "                        organism='Mouse', \n",
    "                        description='DEGs',\n",
    "                        outdir='enr_plots/enr_DEGs',\n",
    "                        cutoff=0.1,\n",
    "                        format='png',\n",
    "                        background='all_genes'\n",
    "                        )\n",
    "        if sum(enr.res2d['Adjusted P-value'] < 0.1) > 0:\n",
    "            p = dotplot(enr.res2d[enr.res2d['Adjusted P-value'] < 0.1],title=names[i],cmap='viridis_r', column='Combined Score', legend = False, ofname = \"enr_plots/\"+names[i]+\".png\")\n",
    "\n",
    "    fname = \"figures/deg_final_\"+names[i]+\".xlsx\"\n",
    "    writer = pd.ExcelWriter(fname, engine='xlsxwriter')\n",
    "\n",
    "    results.to_excel(writer, \"everything\")\n",
    "    results[(results[\"qval\"]<pvt) & ((results.fc<1/fct) | (results.fc>fct))].to_excel(writer, \"significant\")\n",
    "\n",
    "    TFA = results[(results[\"gene\"].isin(tf_list)) & (results[\"qval\"]<pvt) & ((results.fc<1/fct) | (results.fc>fct))]\n",
    "    TFA.index = range(len(TFA))\n",
    "    TFB = TFA.reindex(index = range(len(TFA)+1))\n",
    "    TFC = results[(results[\"gene\"].isin(tf_list)) & (results[\"qval\"]<pvt) & ((results.fc>1/fct) & (results.fc<fct))]\n",
    "    pd.concat([TFB, TFC], ignore_index=True).to_excel(writer, \"transcrip° factor\")\n",
    "\n",
    "    for j in range(len(diseases)):\n",
    "        pd.DataFrame([diseases[j]]).to_excel(writer, \"GWAS\", startrow=0, startcol = j*4, header = False, index = False)\n",
    "        results[(results[\"gene\"].isin(GWAS[diseases[j]])) & (results[\"qval\"]<pvt) & ((results.fc<1/fct) | (results.fc>fct))][['gene', 'fc']].to_excel(writer, \n",
    "            \"GWAS\", startrow=1, startcol = j*4)\n",
    "    j += 1\n",
    "    subsetted = results[(results[\"qval\"]<pvt) & ((results.fc<1/fct) | (results.fc>fct)) & (abs(results['mean']) > fct)][['gene', 'mean']]\n",
    "    subsetted['GWAS'] = sum([(subsetted['gene'].isin(GWAS[k])) for k in GWAS.keys()])\n",
    "    subsetted[subsetted.GWAS >= 2][['gene', 'mean']].to_excel(writer, \n",
    "            \"GWAS\", startrow=1, startcol = j*4)\n",
    "\n",
    "    pd.DataFrame([\"UP : More accessible in N6 D2-D3\"]).to_excel(writer, \"ATAC\", startrow=0, startcol = 0, header = False, index = False)\n",
    "    atacD2_D3[atacD2_D3.gene.isin(deg_up)].to_excel(writer, \"ATAC\", startrow=1, startcol=0)\n",
    "    pd.DataFrame([\"UP : More accessible in N6 D2-D3-D7\"]).to_excel(writer, \"ATAC\", startrow=0, startcol = 9, header = False, index = False)\n",
    "    atacD2_D3_D7[atacD2_D3_D7.gene.isin(deg_up)].to_excel(writer, \"ATAC\", startrow=1, startcol=9)\n",
    "    M = max( len(atacD2_D3[atacD2_D3.gene.isin(deg_up)]), len(atacD2_D3_D7[atacD2_D3_D7.gene.isin(deg_up)]) )\n",
    "    pd.DataFrame([\"DOWN : More accessible in N6 D2-D3\"]).to_excel(writer, \"ATAC\", startrow=3+M, startcol = 0, header = False, index = False)\n",
    "    atacD2_D3[atacD2_D3.gene.isin(deg_down)].to_excel(writer, \"ATAC\", startrow=1, startcol=4+M)\n",
    "    pd.DataFrame([\"DOWN : More accessible in N6 D2-D3-D7\"]).to_excel(writer, \"ATAC\", startrow=3+M, startcol = 9, header = False, index = False)\n",
    "    atacD2_D3_D7[atacD2_D3_D7.gene.isin(deg_down)].to_excel(writer, \"ATAC\", startrow=1, startcol=4+M)\n",
    "\n",
    "    pd.DataFrame([\"Induced by N6 at 6h\"]).to_excel(writer, \"6h\", startrow=0, startcol = 0, header = False, index = False)\n",
    "    results[(results.gene.isin(ind_n6_6)) & (results[\"qval\"]<pvt) & ((results.fc<1/fct) | (results.fc>fct))].to_excel(writer, \"6h\", startrow=1, startcol=0)\n",
    "    pd.DataFrame([\"Inhibited by N6 at 6h\"]).to_excel(writer, \"6h\", startrow=0, startcol = 9, header = False, index = False)\n",
    "    results[(results.gene.isin(inh_n6_6)) & (results[\"qval\"]<pvt) & ((results.fc<1/fct) | (results.fc>fct))].to_excel(writer, \"6h\", startrow=1, startcol=9)\n",
    "\n",
    "    if len(deg) > 10:\n",
    "        enr.results = enr.results[['Term', 'Overlap', 'Adjusted P-value', 'Odds Ratio', 'Combined Score', 'Genes']]\n",
    "        enr.results = enr.results[enr.results['Adjusted P-value'] < 0.1]\n",
    "        enr.results.sort_values(by=\"Combined Score\", ascending=False).to_excel(writer, \"enriched\", index=False)\n",
    "\n",
    "    book = writer.book\n",
    "    imgsheet = book.add_worksheet('Volcano')\n",
    "    imgsheet.insert_image('B2', \"volcano_plots/volcano_\"+names[i]+\".png\")\n",
    "    imgsheet = book.add_worksheet('Enrichment')\n",
    "    if len(deg) > 10:\n",
    "        if sum(enr.res2d['Adjusted P-value'] < 0.1) > 0:\n",
    "            imgsheet.insert_image('B2', \"enr_plots/\"+names[i]+\".png\")\n",
    "\n",
    "    writer.save()"
   ]
  }
 ],
 "metadata": {
  "interpreter": {
   "hash": "1fd198094d18c1f6e835bbc10f230f9f1bc4929522b005bc69d9b1e47e35dda8"
  },
  "kernelspec": {
   "display_name": "Python 3.8.13 64-bit",
   "language": "python",
   "name": "python3"
  },
  "language_info": {
   "codemirror_mode": {
    "name": "ipython",
    "version": 3
   },
   "file_extension": ".py",
   "mimetype": "text/x-python",
   "name": "python",
   "nbconvert_exporter": "python",
   "pygments_lexer": "ipython3",
   "version": "3.8.13"
  },
  "toc": {
   "base_numbering": "0",
   "nav_menu": {},
   "number_sections": true,
   "sideBar": true,
   "skip_h1_title": false,
   "title_cell": "Table of Contents",
   "title_sidebar": "Contents",
   "toc_cell": false,
   "toc_position": {
    "height": "calc(100% - 180px)",
    "left": "10px",
    "top": "150px",
    "width": "302px"
   },
   "toc_section_display": true,
   "toc_window_display": true
  },
  "varInspector": {
   "cols": {
    "lenName": 16,
    "lenType": 16,
    "lenVar": 40
   },
   "kernels_config": {
    "python": {
     "delete_cmd_postfix": "",
     "delete_cmd_prefix": "del ",
     "library": "var_list.py",
     "varRefreshCmd": "print(var_dic_list())"
    },
    "r": {
     "delete_cmd_postfix": ") ",
     "delete_cmd_prefix": "rm(",
     "library": "var_list.r",
     "varRefreshCmd": "cat(var_dic_list()) "
    }
   },
   "types_to_exclude": [
    "module",
    "function",
    "builtin_function_or_method",
    "instance",
    "_Feature"
   ],
   "window_display": false
  }
 },
 "nbformat": 4,
 "nbformat_minor": 2
}
